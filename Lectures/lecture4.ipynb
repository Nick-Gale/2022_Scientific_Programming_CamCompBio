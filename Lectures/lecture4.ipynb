{
  "cells": [
    {
      "cell_type": "raw",
      "metadata": {},
      "source": [
        "---\n",
        "title: \"Scientific Programming in Julia\"\n",
        "subtitle: \"Plots and High Performance Computing\"\n",
        "author: \"Nicholas Gale and Stephen Eglen\"\n",
        "format:\n",
        "  revealjs:\n",
        "    slide-number: true\n",
        "    theme: serif\n",
        "    chalkboard: true \n",
        "    transition: concave\n",
        "    background-transition: convex\n",
        "    incremental: true\n",
        "    background-image: julia_background.png\n",
        "---"
      ],
      "id": "d937b291"
    },
    {
      "cell_type": "markdown",
      "metadata": {},
      "source": [
        "## Plots\n",
        "\n",
        "* Plotting is typically done through the `Plots` package.\n",
        "\n",
        "* Plotting in Julia is relatively immature: it requires a backend.\n",
        "\n",
        "* There is a high time-to-first plot time but it is smooth from there.\n",
        "\n",
        "## Plotting grammar.\n",
        "* Plotting follows a predictable grammar through the `plot` API call.\n",
        "\n",
        "* Plots are arranged in x data, y data formats. Series are delineated with spaces.\n",
        "\n",
        "* Optional keywords denote styling and can be shorted:\n",
        "\t1) seriestype/st = {\"scatter\", \"line\", \"contour\", etc.}\n",
        "\t2) color/c = {:red, RGB(0,1,0), etc} (can be input as a list)\n",
        "\t3) label = \"series label\"\n",
        "\t4) xlabel= , title= , ylabel="
      ],
      "id": "d4468e53"
    },
    {
      "cell_type": "markdown",
      "metadata": {},
      "source": [
        "---\n",
        "\n",
        "::: fragment"
      ],
      "id": "bbe8572b"
    },
    {
      "cell_type": "code",
      "metadata": {},
      "source": [
        "#| echo: true\n",
        "using Plots\n",
        "pyplot()\n",
        "x = collect(0:0.1:10)\n",
        "y = sin.(x)\n",
        "plot(x, y; st=\"line\", label=false, title=\"Plot of a sin wave\", ylabel=\"sin\", xlabel=\"x\", colour=:blue)"
      ],
      "id": "80c34032",
      "execution_count": null,
      "outputs": []
    },
    {
      "cell_type": "raw",
      "metadata": {},
      "source": [
        ":::\n",
        "\n",
        "\n",
        "## Plot Objects\n",
        "\n",
        "* Plots can be attached to objects; last plot is attached to an internal object.\n",
        "\n",
        "* Plot objects can be added to with the `plot!(plot_object, x,y...; keywords=...) call.\n",
        "\n",
        "* Plot objects can be referenced later.\n",
        "\n",
        "---"
      ],
      "id": "4a1ec84e"
    },
    {
      "cell_type": "markdown",
      "metadata": {},
      "source": [
        "::: fragment"
      ],
      "id": "3d8058a5"
    },
    {
      "cell_type": "code",
      "metadata": {},
      "source": [
        "#| echo: true\n",
        "x = 0:0.01:2pi\n",
        "y1 = sin.(x)\n",
        "y2 = cos.(x)\n",
        "\n",
        "trig_plot = plot(x, y1; title=\"Trigonometric Plots\", xlabel=\"x\", label=\"sin(x)\")\n",
        "plot!(trig_plot, x, y2; label=\"cos(x)\")"
      ],
      "id": "b896c5fd",
      "execution_count": null,
      "outputs": []
    },
    {
      "cell_type": "markdown",
      "metadata": {},
      "source": [
        ":::\n",
        "\n",
        "## Plot Layouts\n",
        "\n",
        "* Subplots are handled through layout specification.\n",
        "\n",
        "* Simple layouts can specify a grid format. A more complicated layout can be defined with the `@layout`\n",
        "\n",
        "* A layout is arranged as a matrix with `a,b,c` denoting the plots. They are optionally given widths and heights e.g. `a{0.2h 0.3w}`."
      ],
      "id": "68f7101c"
    },
    {
      "cell_type": "markdown",
      "metadata": {},
      "source": [
        "---\n",
        "\n",
        "::: fragment"
      ],
      "id": "13f6d919"
    },
    {
      "cell_type": "code",
      "metadata": {},
      "source": [
        "#| echo: true\n",
        "p1 = plot(rand(10)); p2 = plot(rand(10)); p3 = plot(rand(10)); p4 = plot(rand(10));\n",
        "\n",
        "# plot(p1, p2, p3, p4; layout=(2,2))\n",
        "\n",
        "L = @layout [a{0.2h, 0.4w} b; d{0.8h} d]\n",
        "plot(p1, p2, p3, p4; layout=L)"
      ],
      "id": "e314b379",
      "execution_count": null,
      "outputs": []
    },
    {
      "cell_type": "raw",
      "metadata": {},
      "source": [
        ":::\n",
        "\n",
        "## StatsPlots\n",
        "\n",
        "* Plots supports recipes and thus a Plotting ecosystem.\n",
        "\n",
        "* StatsPlots allows for efficient DataFrames plotting.\n",
        "\n",
        "* A slightly more complex grammar; documentation found [here](https://docs.juliaplots.org/latest/generated/statsplots/)\n",
        "\n",
        "---"
      ],
      "id": "2cda0108"
    },
    {
      "cell_type": "markdown",
      "metadata": {},
      "source": [
        "::: fragment"
      ],
      "id": "1a609a7b"
    },
    {
      "cell_type": "code",
      "metadata": {},
      "source": [
        "#| echo: true\n",
        "using DataFrames, CSV, StatsPlots\n",
        "\n",
        "experiment = CSV.File(\"plotting_data.csv\") |> DataFrame\n",
        "@df experiment density(:BodyLength, group = (:Planet, :Diet), legend=:topright)"
      ],
      "id": "2392acd0",
      "execution_count": null,
      "outputs": []
    },
    {
      "cell_type": "markdown",
      "metadata": {},
      "source": [
        ":::\n",
        "\n",
        "\n",
        "## Save Plots\n",
        "\n",
        "* Plots are saved through the `savefig` API call.\n",
        "\n",
        "* It specifies the path and plot object to be saved.\n",
        "\n",
        "* The path defines the file type."
      ],
      "id": "8ca9d021"
    },
    {
      "cell_type": "markdown",
      "metadata": {},
      "source": [
        "---\n",
        "\n",
        "::: fragment"
      ],
      "id": "89249dbb"
    },
    {
      "cell_type": "code",
      "metadata": {},
      "source": [
        "#| echo: true\n",
        "plt = plot(collect(1:10), rand(10); st=:scatter)\n",
        "savefig(plt, \"my_first_plot.png\")"
      ],
      "id": "bc7d8ea3",
      "execution_count": null,
      "outputs": []
    },
    {
      "cell_type": "raw",
      "metadata": {},
      "source": [
        ":::\n",
        "\n",
        "\n",
        "## Animate\n",
        "\n",
        "* A useful tool to visualise data is animation.\n",
        "\n",
        "* This is done through the @animate macro applied to a `for` loop.\n",
        "\n",
        "* The animation can be saved through the `gif` API call. This takes the animation object, then path, and optional FPS.\n",
        "\n",
        "---"
      ],
      "id": "50b3614e"
    },
    {
      "cell_type": "markdown",
      "metadata": {},
      "source": [
        "::: fragment"
      ],
      "id": "d9492277"
    },
    {
      "cell_type": "code",
      "metadata": {},
      "source": [
        "#| echo: true\n",
        "x = collect(0:0.05:2pi)\n",
        "y = sin.(x)\n",
        "anim_obj = @animate for t in 1:length(x)\n",
        "\tplot(x[1:t], y[1:t]; xrange=(0,2pi), legend=false, xlabel=\"x\", ylabel=\"sin(x)\", yticks=false)\n",
        "end\n",
        "gif(anim_obj, \"my_first_animation.gif\", fps=30)"
      ],
      "id": "ad81e83f",
      "execution_count": null,
      "outputs": []
    },
    {
      "cell_type": "markdown",
      "metadata": {},
      "source": [
        ":::\n",
        "\n",
        "\n",
        "## Performance Computing\n",
        "\n",
        "* Efficient and fast code is one of the **big** draw cards of Julia.\n",
        "\n",
        "* It *usually* comes for free, but not always.\n",
        "\n",
        "* There are some common 'tricks' to employ to improve code efficiency and speed.\n",
        "\n",
        "## Data Access Patterns\n",
        "\n",
        "* Data in Julia is organised in a *column-major* format.\n",
        "\n",
        "* Data is laid out with the columns stacked end-to-end. The fastest way to access them is through the *rows*. \n",
        "\n",
        "* Slow code uses columns as the 'fast-changing' index, but is more traditional. When looping use columns as the outer variable."
      ],
      "id": "445b5389"
    },
    {
      "cell_type": "markdown",
      "metadata": {},
      "source": [
        "---\n",
        "\n",
        "::: fragment"
      ],
      "id": "27d056f7"
    },
    {
      "cell_type": "code",
      "metadata": {},
      "source": [
        "#| echo: true\n",
        "L = 10^4\n",
        "a1 = rand(L, L); a2 = a1'; v1 = zeros(L); v2 = zeros(L);\n",
        "\n",
        "@time for j = 1:size(a1)[2]\n",
        "\tv1[j] = sum(a1[:,j])\n",
        "end\n",
        "\n",
        "@time for i = 1:size(a2)[1]\n",
        "\tv2[i] = sum(a2[i, :])\n",
        "end\n",
        "\n",
        "v1 == v2"
      ],
      "id": "562e6fa8",
      "execution_count": null,
      "outputs": []
    },
    {
      "cell_type": "raw",
      "metadata": {},
      "source": [
        ":::\n",
        "\n",
        "\n",
        "::: {.notes}\n",
        "\n",
        "* This is common for scientific languages (R, MatLab, Mathematica...), not for traditional languages (C, Python...).\n",
        "\n",
        ":::\n",
        "\n",
        "## @inbounds\n",
        "\n",
        "* Bounds checking is a useful operation in an interpreted language throwing an error if accessing an invalid index.\n",
        "\n",
        "* It is expensive and fast languages like C don't use it - at user peril!\n",
        "\n",
        "* It is activated with the `@inbounds` macro and distributes to all nested loops.\n",
        "\n",
        "---"
      ],
      "id": "39ca144c"
    },
    {
      "cell_type": "markdown",
      "metadata": {},
      "source": [
        "::: fragment"
      ],
      "id": "184332b2"
    },
    {
      "cell_type": "code",
      "metadata": {},
      "source": [
        "#| echo: true\n",
        "v = rand(10^9); res = 0;\n",
        "@time for i = 1:length(v)\n",
        "\tres += v[i]\n",
        "end\n",
        "res=0;\n",
        "@time @inbounds for i = 1:length(v)\n",
        "\tres += v[i]\n",
        "end"
      ],
      "id": "e72eb731",
      "execution_count": null,
      "outputs": []
    },
    {
      "cell_type": "markdown",
      "metadata": {},
      "source": [
        ":::\n",
        "\n",
        "::: {.notes}\n",
        "\n",
        "* It is also safe, so you don't make numerical errors when it accesses (valid) but not in-range data. It's a hard error to track.\n",
        "\n",
        "* When developing, make sure code works and when it needs to be scaled turn it on.\n",
        "\n",
        ":::\n",
        "\n",
        "## @SIMD\n",
        "\n",
        "* SIMD stands for single instruction multiple data and is a machine level optimisation in modern CPUs.\n",
        "\n",
        "* It allows many mathematical operations to be vectorised and optimised within the CPU cycle.\n",
        "\n",
        "* Turn it on using the ``@simd` macro. For well organised data you can expect some speed up."
      ],
      "id": "1a614382"
    },
    {
      "cell_type": "markdown",
      "metadata": {},
      "source": [
        "---\n",
        "\n",
        "::: fragment"
      ],
      "id": "b29bdcb2"
    },
    {
      "cell_type": "code",
      "metadata": {},
      "source": [
        "#| echo: true\n",
        "v = rand(10^9)\n",
        "@time for i = 1:length(v)\n",
        "\tv[i] += 1\n",
        "end\n",
        "\n",
        "@time @simd for i = 1:length(v)\n",
        "\tv[i] -= 1\n",
        "end"
      ],
      "id": "f14a16a9",
      "execution_count": null,
      "outputs": []
    },
    {
      "cell_type": "markdown",
      "metadata": {},
      "source": [
        ":::\n",
        "\n",
        "## Type Mutation\n",
        "\n",
        "* Julia has excellent typing and type inference but abstraction puts demands on the compiler.\n",
        "\n",
        "* When types mutate the compiler works hard to \"deal with it\" which is good for the end user.\n",
        "\n",
        "* To avoid this Julia can strictly type variables and functions which alleviates the pressure.\n",
        "\n",
        "::: fragment"
      ],
      "id": "877b2667"
    },
    {
      "cell_type": "code",
      "metadata": {},
      "source": [
        "#| echo: true\n",
        "a::Array{Float32, 1} = [4.0, 2.0, 1.2] # a strictly typed vector.\n",
        "f(x::Array{Float32, 1}) = sum(x) # a strictly typed function."
      ],
      "id": "0277051f",
      "execution_count": null,
      "outputs": []
    },
    {
      "cell_type": "raw",
      "metadata": {},
      "source": [
        ":::\n",
        "\n",
        "## High Performance Computing\n",
        "\n",
        "* HPC refers to distributing compute tasks in an efficient way.\n",
        "\n",
        "* It typically refers to parallel computing which comes in two general flavours: mutliple CPU threads, or GPUs.\n",
        "\n",
        "* These follow similar principles but the architectures require different coding styles.\n",
        "\n",
        "* Julia abstracts many of the 'gotchas'.\n",
        "\n",
        "## Distributed\n",
        "\n",
        "* Parallel computing with multiple threads is available through the `Distributed` package.\n",
        "\n",
        "* It supports low level (``spawn``, ``fetch``, ``remotecall`` etc.) methods.\n",
        "\n",
        "* More often it is used to parallelise loops through the ``@distributed`` macro before a `for` loop block.\n",
        "\n",
        "* To make processes available use the ``addprocs(n)`` method.\n",
        "\n",
        "---"
      ],
      "id": "4819e527"
    },
    {
      "cell_type": "markdown",
      "metadata": {},
      "source": [
        "::: fragment"
      ],
      "id": "48ee5fa4"
    },
    {
      "cell_type": "code",
      "metadata": {},
      "source": [
        "#| echo: true\n",
        "using Distributed\n",
        "addprocs(4)\n",
        "\n",
        "@time for i = 1:10^9\n",
        "\ti^2\n",
        "end\n",
        "\n",
        "@time @sync @distributed for i = 1:10^9\n",
        "\ti^2\n",
        "end"
      ],
      "id": "3f294579",
      "execution_count": null,
      "outputs": []
    },
    {
      "cell_type": "markdown",
      "metadata": {},
      "source": [
        ":::\n",
        "\n",
        "\n",
        "## Distributed Reduce\n",
        "\n",
        "* A useful operation for parallesiation is reduction.\n",
        "\n",
        "* A distributed for block can specify a binary operation to reduce on.\n",
        "\n",
        "::: fragment"
      ],
      "id": "43a5a940"
    },
    {
      "cell_type": "code",
      "metadata": {},
      "source": [
        "#| echo: true\n",
        "sumodds = @distributed (+) for i = 1:100\n",
        "\tInt(isodd(i) && i)\n",
        "end"
      ],
      "id": "62b1fe7e",
      "execution_count": null,
      "outputs": []
    },
    {
      "cell_type": "markdown",
      "metadata": {},
      "source": [
        ":::\n",
        "\n",
        "\n",
        "## Shared Functions\n",
        "\n",
        "* Each thread has access to its own local environment and thus function definitions.\n",
        "\n",
        "* The `@everywhere` macro is used to specify that a function/package can be accessed from thread.\n",
        "\n",
        "::: fragment"
      ],
      "id": "86fbf746"
    },
    {
      "cell_type": "code",
      "metadata": {},
      "source": [
        "#| echo: true\n",
        "@everywhere function myfunc(x)\n",
        "\treturn x^2 - y^3 + sin(x * y)\n",
        "end\n",
        "\n",
        "@everywhere using Statistics"
      ],
      "id": "f78af959",
      "execution_count": null,
      "outputs": []
    },
    {
      "cell_type": "markdown",
      "metadata": {},
      "source": [
        ":::\n",
        "\n",
        "\n",
        "## Shared Data\n",
        "\n",
        "* Additional threads also do not have access to data on the master thread.\n",
        "\n",
        "* The `SharedArrays` package allows for memory to be shared between threads through a `SharedArray` object.\n",
        "\n",
        "::: fragment"
      ],
      "id": "ea47b797"
    },
    {
      "cell_type": "code",
      "metadata": {},
      "source": [
        "#| echo: true\n",
        "@everywhere using SharedArrays\n",
        "\n",
        "v = SharedArray(zeros(5))\n",
        "\n",
        "@sync @distributed for i = 1:length(v)\n",
        "\tv[i] = i^2\n",
        "end\n",
        "println(v) "
      ],
      "id": "8fab4e22",
      "execution_count": null,
      "outputs": []
    },
    {
      "cell_type": "markdown",
      "metadata": {},
      "source": [
        ":::\n",
        "\n",
        "\n",
        "## Race Conditions and Synchronisation\n",
        "\n",
        "* Data and thread access is typically asynchronous.\n",
        "\n",
        "* What happens when two threads depend on each other catastrophically?\n",
        "\n",
        "* What happens when two threads try to access/modify data at the same time.\n",
        "\n",
        "* These are *race* conditions and the second can be dealt with using *atomic* operations and synchronisation.\n",
        "\n",
        "\n",
        "## pmap\n",
        "\n",
        "* Functional progamming styles are supported through `pmap` which behaves like `map`.\n",
        "\n",
        "* There is a slight performance cost and is best used with complex function calls.\n",
        "\n",
        "::: fragment"
      ],
      "id": "174da06b"
    },
    {
      "cell_type": "code",
      "metadata": {},
      "source": [
        "#| echo: true\n",
        "pmap( x -> x^2, 1:5)"
      ],
      "id": "a0f20198",
      "execution_count": null,
      "outputs": []
    },
    {
      "cell_type": "markdown",
      "metadata": {},
      "source": [
        ":::\n",
        "\n",
        "## GPU Compute\n",
        "\n",
        "* Graphical Processing Units use a special hardware layout to launch hundreds of threads with a low clock speed.\n",
        "\n",
        "* They are slow at performing individual tasks, but can do many simultaneously. \n",
        "\n",
        "* The startup time is slow but for large jobs speed ups of 20x to 100x are commonplace.\n",
        "\n",
        "* Julia supports them through a generic `GPUArrays` backend, but users interface with a card specific API: `AMDGPUs`, `CUDA`, `Metal`.\n",
        "\n",
        "* They are best used for linear algebra and vectorisable tasks.\n",
        "\n",
        "## GPU Basics\n",
        "\n",
        "* APIs have a shared array data structure which can load CPUs to the GPU: `CUDA.CuArray`, `AMDGPU.ROCArray`, `Metal.MtlArray`.\n",
        "\n",
        "* Common functions are overloaded to these data structures: `sum, +, -, *, /,  ^, ., sin, cos, exp` etc.\n",
        "\n",
        "* Functional programming is supported through `map` and `reduce` frameworks.\n",
        "\n",
        "* Indexed functions are *highly* discouraged: the GPU has to fall back on the CPU incurring a *very* high cost.\n",
        "\n",
        "* Calls are asyncronous and the `PACKAGE.@sync` macro will synchronise data which is important for data dependencies."
      ],
      "id": "b274f52d"
    },
    {
      "cell_type": "markdown",
      "metadata": {},
      "source": [
        "---\n",
        "\n",
        "::: fragment"
      ],
      "id": "07c53c0d"
    },
    {
      "cell_type": "code",
      "metadata": {},
      "source": [
        "#| echo: true\n",
        "using CUDA\n",
        "a = rand(10^8);\n",
        "a_gpu = CuArray(a);\n",
        "@time sum(a);\n",
        "CUDA.@time CUDA.@sync sum(a_gpu)"
      ],
      "id": "0fbd83cb",
      "execution_count": null,
      "outputs": []
    },
    {
      "cell_type": "markdown",
      "metadata": {},
      "source": [
        ":::\n",
        "\n",
        "## Kernels\n",
        "\n",
        "* These are normally written in the backend before being overloaded into existing functions.\n",
        "\n",
        "* They use data arranged in Threads, and Blocks, accessing indexes asynchronously by a function (ThreadId, BlockId) -> idx.\n",
        "\n",
        "* When the threads synchronise the data in memory is modified and the computation moves to the next block.\n",
        "\n",
        "* Custom kernels may be written and launched with the `@cuda` kernel. \n",
        "\n",
        "* The asynchronous programming style is different to a traditional style and beyond the scope of this course."
      ],
      "id": "c83611b6"
    }
  ],
  "metadata": {
    "kernelspec": {
      "name": "julia-1.8",
      "language": "julia",
      "display_name": "Julia 1.8.0"
    }
  },
  "nbformat": 4,
  "nbformat_minor": 5
}