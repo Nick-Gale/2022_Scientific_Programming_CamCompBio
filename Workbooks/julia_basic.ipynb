{
 "cells": [
  {
   "cell_type": "markdown",
   "id": "fa760a15",
   "metadata": {},
   "source": [
    "# Scientific Programming in Julia"
   ]
  },
  {
   "cell_type": "markdown",
   "id": "99023830",
   "metadata": {},
   "source": [
    "Scientific programming is a subset of generic programming with specific goals: it needs to be simple to code, understandable to read, and performant. The last requirement is particularly important as data becomes larger and more accessible and models more complex. The unfortunate reality is that typically a programming language is very readable and easy to program in (think: R and Python) or unwiedly but fast (think: C++). Julia claims to do both.\n",
    "\n",
    "It allows us to interact with the REPL, just as we would an interpreted language, with familiar function names and a mathematical like syntax. It is also designed from the ground up to support parallel computing paradigms making it ideal for the world of high performance computing (HPC). Finally, it's compiler is a just-in-time (JIT) compiler reliant on the low level virtual machine (LLVM) and is very well optimised making it very fast - orders of magnitude faster than R or Python. In fact, most of Julia code is written in Julia itself whereas most performant Python code is written in C (this is the two-language problem). This means Julia can be used as scripting language and then quickly turned into optimised code which saves on development time.\n",
    "\n",
    "This is quite a rosy picture - what are the drawbacks? It's quite memory hungry compared to modern alternatives such as Rust, and uses a garbage collector (this is usually not a problem for scientific programming). It's JIT compiler means that the first time to run any code is *slow* and requires us to adopt a different workflow. Its a new language: long term support (LTS) and version 1.0 came out just a few years ago. Therefore, the package ecosystem, particularly in the life sciences, is not as extensive as R's Bioconductor, for example.\n",
    "\n",
    "These drawbacks, with the exception of packaging, are very minor. Package support is a bit of a chicken-and-egg problem but the advantages of the language make Julia very worthwhile to learn."
   ]
  },
  {
   "cell_type": "markdown",
   "id": "9776a891",
   "metadata": {},
   "source": [
    "## 1.0 Basic Input, Data Types, and Operations\n",
    "\n",
    "Let's go through some basic data types, how to construct them, and the notion of a type hierarchy. Assignment in Julia is done through the equals operator ``=`` (in R it might be done through ``<-``). The data types we are most familiar with are numbers and strings. Numbers can be written quite naturally and strings are encoded with double apostrophes ``\"\"``. A useful function when querying dataypes is ``typeof``. Let's assign a few variables some data:"
   ]
  },
  {
   "cell_type": "code",
   "execution_count": 1,
   "id": "8ae97be3",
   "metadata": {},
   "outputs": [],
   "source": [
    "var1 = 1.0;\n",
    "var2 = 3;\n",
    "var3 = \"three\";\n",
    "var4 = 1.4 + 3.0im;"
   ]
  },
  {
   "cell_type": "markdown",
   "id": "dfb60e58",
   "metadata": {},
   "source": [
    "We suppressed output using ``;`` but in general there is no penality for not using it. Furthermore, if we do not use it only the last line will be printed to the REPL. A useful function to get readouts to the REPL (or in this case Notebook) is the ``println`` function. Let's use the ``typeof`` function and the ``println`` function to find the types of our variables:"
   ]
  },
  {
   "cell_type": "code",
   "execution_count": 2,
   "id": "cb070149",
   "metadata": {},
   "outputs": [
    {
     "name": "stdout",
     "output_type": "stream",
     "text": [
      "Float64\n",
      "Int64\n",
      "String\n",
      "ComplexF64\n"
     ]
    }
   ],
   "source": [
    "println(typeof(var1))\n",
    "println(typeof(var2)) \n",
    "println(typeof(var3))\n",
    "println(typeof(var4))"
   ]
  },
  {
   "cell_type": "markdown",
   "id": "d604c1f5",
   "metadata": {},
   "source": [
    "In this case we have a floating point number, an integer, and a string. The 64 refers to the precision of the numbers (Strings have no precision) and this is the default precision Julia takes unless specified. It has support for 16, 32, 64 bit precision for floats, 8-128 bit precision for ints, as well as arbitrary precision through BigFloat and BigInt. To assign a variable with these precisions we can use the type constructors:"
   ]
  },
  {
   "cell_type": "code",
   "execution_count": 3,
   "id": "773cdf2a",
   "metadata": {},
   "outputs": [],
   "source": [
    "fl32 = Float32(1.0);\n",
    "in16 = Int16(1);\n",
    "bigInt = BigInt(10^1200);\n",
    "bigFl = BigFloat(1.15^1290);"
   ]
  },
  {
   "cell_type": "markdown",
   "id": "a7d2b188",
   "metadata": {},
   "source": [
    "Using the type constructors can sometimes be a little cumbersome. Julia also provides shorthand for some common types which we can use in the form of scientific notation. These include ``f`` for ``Float32``, ``e`` for ``Float64``. Let's try these out:"
   ]
  },
  {
   "cell_type": "code",
   "execution_count": 4,
   "id": "ce7bdf92",
   "metadata": {},
   "outputs": [
    {
     "name": "stdout",
     "output_type": "stream",
     "text": [
      "1.4e-5\n",
      "Float32\n",
      "1.2\n",
      "Float64\n"
     ]
    }
   ],
   "source": [
    "x1 = 1.4f-5\n",
    "x2 = 1.2e0\n",
    "println(x1)\n",
    "println(typeof(x1))\n",
    "println(x2)\n",
    "println(typeof(x2))"
   ]
  },
  {
   "cell_type": "markdown",
   "id": "5f4c9212",
   "metadata": {},
   "source": [
    "### 1.2 Basic Operations\n",
    "\n",
    "Now lets try some basic operations. The mathematical binary operators are all very intituitive and behave as expected even when multiple types are involved. Let's try a few of them out:"
   ]
  },
  {
   "cell_type": "code",
   "execution_count": 5,
   "id": "93551a47",
   "metadata": {},
   "outputs": [
    {
     "data": {
      "text/plain": [
       "2.0"
      ]
     },
     "execution_count": 5,
     "metadata": {},
     "output_type": "execute_result"
    }
   ],
   "source": [
    "var1 + var1"
   ]
  },
  {
   "cell_type": "code",
   "execution_count": 6,
   "id": "43d55d0d",
   "metadata": {},
   "outputs": [
    {
     "data": {
      "text/plain": [
       "0.0"
      ]
     },
     "execution_count": 6,
     "metadata": {},
     "output_type": "execute_result"
    }
   ],
   "source": [
    "var1 - var1"
   ]
  },
  {
   "cell_type": "code",
   "execution_count": 7,
   "id": "be8bf8f3",
   "metadata": {},
   "outputs": [
    {
     "data": {
      "text/plain": [
       "3.0"
      ]
     },
     "execution_count": 7,
     "metadata": {},
     "output_type": "execute_result"
    }
   ],
   "source": [
    "var2 * var1"
   ]
  },
  {
   "cell_type": "code",
   "execution_count": 8,
   "id": "178653d6",
   "metadata": {},
   "outputs": [
    {
     "data": {
      "text/plain": [
       "27"
      ]
     },
     "execution_count": 8,
     "metadata": {},
     "output_type": "execute_result"
    }
   ],
   "source": [
    "var2 ^ var2"
   ]
  },
  {
   "cell_type": "code",
   "execution_count": 9,
   "id": "99e83f8f",
   "metadata": {},
   "outputs": [
    {
     "data": {
      "text/plain": [
       "0.75"
      ]
     },
     "execution_count": 9,
     "metadata": {},
     "output_type": "execute_result"
    }
   ],
   "source": [
    "var2 / (var1 + var2)"
   ]
  },
  {
   "cell_type": "code",
   "execution_count": 10,
   "id": "2d384c1b",
   "metadata": {},
   "outputs": [
    {
     "data": {
      "text/plain": [
       "4.199999999999999 + 9.0im"
      ]
     },
     "execution_count": 10,
     "metadata": {},
     "output_type": "execute_result"
    }
   ],
   "source": [
    "var2 * var4"
   ]
  },
  {
   "cell_type": "code",
   "execution_count": 11,
   "id": "869b48be",
   "metadata": {},
   "outputs": [
    {
     "ename": "LoadError",
     "evalue": "MethodError: no method matching *(::String, ::Float64)\n\u001b[0mClosest candidates are:\n\u001b[0m  *(::Any, ::Any, \u001b[91m::Any\u001b[39m, \u001b[91m::Any...\u001b[39m) at operators.jl:591\n\u001b[0m  *(\u001b[91m::T\u001b[39m, ::T) where T<:Union{Float16, Float32, Float64} at float.jl:385\n\u001b[0m  *(::Union{AbstractChar, AbstractString}, \u001b[91m::Union{AbstractChar, AbstractString}...\u001b[39m) at strings/basic.jl:260\n\u001b[0m  ...",
     "output_type": "error",
     "traceback": [
      "MethodError: no method matching *(::String, ::Float64)\n\u001b[0mClosest candidates are:\n\u001b[0m  *(::Any, ::Any, \u001b[91m::Any\u001b[39m, \u001b[91m::Any...\u001b[39m) at operators.jl:591\n\u001b[0m  *(\u001b[91m::T\u001b[39m, ::T) where T<:Union{Float16, Float32, Float64} at float.jl:385\n\u001b[0m  *(::Union{AbstractChar, AbstractString}, \u001b[91m::Union{AbstractChar, AbstractString}...\u001b[39m) at strings/basic.jl:260\n\u001b[0m  ...",
      "",
      "Stacktrace:",
      " [1] top-level scope",
      "   @ In[11]:1",
      " [2] eval",
      "   @ ./boot.jl:368 [inlined]",
      " [3] include_string(mapexpr::typeof(REPL.softscope), mod::Module, code::String, filename::String)",
      "   @ Base ./loading.jl:1428"
     ]
    }
   ],
   "source": [
    "var3 * var1"
   ]
  },
  {
   "cell_type": "markdown",
   "id": "241ae0d9",
   "metadata": {},
   "source": [
    "The last line throws an error. This is because there is no intuitive method to define the multiplication operation of a floating point number with a string. This might not be surprising: when would we ever bother with this operation? However, it does point to two important points in Julia: 1) it is intuitive and things tend to behave as you might expect, 2) functions are sensitive to input and have the possibility of taking more than one input type. The latter point is salient and we will cover it in more detail at a later stage.\n",
    "\n",
    "What can we do with strings? The most common string operation is concatention which is also a binary operation and in Julia this is handled with ``*``. This might seem confusing at first, didn't the * operation not work on strings before? This highlights that certain functions can be overloaded to perform different functions depending on what they are operating on (this is true in R and Python, for example, ``+`` in Python concatenates strings). The ``*`` operator was chosen because string contactenation is not commutative and in Mathematics we typically use ``+`` to denote binary oeperations that are commutative. Let's try contactenating two strings:"
   ]
  },
  {
   "cell_type": "code",
   "execution_count": 12,
   "id": "21731cb8",
   "metadata": {},
   "outputs": [
    {
     "name": "stdout",
     "output_type": "stream",
     "text": [
      "ThisMakesSense\n",
      "SenseThisMakes\n"
     ]
    }
   ],
   "source": [
    "str1 = \"ThisMakes\"\n",
    "str2 = \"Sense\"\n",
    "str_cat1 = str1 * str2\n",
    "str_cat2 = str2 * str1\n",
    "\n",
    "println(str_cat1)\n",
    "println(str_cat2)"
   ]
  },
  {
   "cell_type": "markdown",
   "id": "f3a6d903",
   "metadata": {},
   "source": [
    "### 1.3 Vectors, Matrices, and Arrays\n",
    "\n",
    "Arrays in Julia are denoted with square brackets ``[]``. They are entirely general and will asscociate the highest order type in the array. For vectors the entries are seperated by a comma. Let's construct a basic vector of floats and a vector containing some arbitrary data types:"
   ]
  },
  {
   "cell_type": "code",
   "execution_count": 13,
   "id": "eb8387c2",
   "metadata": {},
   "outputs": [
    {
     "name": "stdout",
     "output_type": "stream",
     "text": [
      "DataType[Vector{Float64}, Vector{Any}]\n"
     ]
    }
   ],
   "source": [
    "v_float = [1.0, 1.4, 0.5];\n",
    "v_any = [\"saf\", 1, 1.45, 1 + 0.4im];\n",
    "println([typeof(v_float), typeof(v_any)])"
   ]
  },
  {
   "cell_type": "markdown",
   "id": "992edd2d",
   "metadata": {},
   "source": [
    "As expected, Julia correctly assigned the data type as a vector and gave the primitive data type as Float64 for the vector with all Float64s and Any for the arbitrary vector (the highest abstraction) because it couldn't decide what should be in there. To construct a matrix we use spaces to seperate the columms and ``;`` to seperate the rows. Let's create a matrix of integers:"
   ]
  },
  {
   "cell_type": "code",
   "execution_count": 14,
   "id": "c1cd9abd",
   "metadata": {},
   "outputs": [
    {
     "data": {
      "text/plain": [
       "3×3 Matrix{Int64}:\n",
       " 1  2  3\n",
       " 4  5  6\n",
       " 7  8  9"
      ]
     },
     "execution_count": 14,
     "metadata": {},
     "output_type": "execute_result"
    }
   ],
   "source": [
    "mat_int =  [1 2 3; \n",
    "            4 5 6;\n",
    "            7 8 9]"
   ]
  },
  {
   "cell_type": "markdown",
   "id": "e59c9120",
   "metadata": {},
   "source": [
    "We can generalise this further with additional semi-colons, but this is generally not advisable because it is unwieldly and other forms of data input are probably more efficient at this point. To demonstrate:"
   ]
  },
  {
   "cell_type": "code",
   "execution_count": 15,
   "id": "dab28f30",
   "metadata": {},
   "outputs": [
    {
     "data": {
      "text/plain": [
       "3×3×2 Array{Any, 3}:\n",
       "[:, :, 1] =\n",
       " 1  2  3\n",
       " 4  5  6\n",
       " 7  8  9\n",
       "\n",
       "[:, :, 2] =\n",
       " \"a\"  \"b\"  \"c\"\n",
       " \"d\"  \"e\"  \"f\"\n",
       " \"h\"  \"i\"  \"j\""
      ]
     },
     "execution_count": 15,
     "metadata": {},
     "output_type": "execute_result"
    }
   ],
   "source": [
    "tens_int = [1 2 3; \n",
    "            4 5 6;\n",
    "            7 8 9;;;\n",
    "                    \"a\" \"b\" \"c\";\n",
    "                    \"d\" \"e\" \"f\";\n",
    "                    \"h\" \"i\" \"j\"]"
   ]
  },
  {
   "cell_type": "markdown",
   "id": "24267904",
   "metadata": {},
   "source": [
    "### 1.3.1 Indexing\n",
    "Suppose that we want to retrieve data from an assigned variable; we need to index into it. Indexing is perfomed with square brackets following a variable name and can be done in several ways: ``var[dim1][dim2][dim3]...`` or ``var[dim1, dim2, dim3...]``, or ``var[ind]``. The last method steps through the first slice of dim1 then dim2 then dim3 i.e. through column by columm, page by page, etc. Let's index into several variables in several ways:"
   ]
  },
  {
   "cell_type": "code",
   "execution_count": 16,
   "id": "b2d65f3c",
   "metadata": {},
   "outputs": [
    {
     "name": "stdout",
     "output_type": "stream",
     "text": [
      "1.0\n",
      "8\n",
      "8\n",
      "b\n"
     ]
    }
   ],
   "source": [
    "println(v_float[1])\n",
    "println(mat_int[3, 2])\n",
    "println(mat_int[6])\n",
    "println(tens_int[1,2,2])"
   ]
  },
  {
   "cell_type": "markdown",
   "id": "9ffa1f69",
   "metadata": {},
   "source": [
    "We can also index into slices of a particular dimension using the ``:`` operator. If we want a particular subset of the slice we can specify the indexes ``ind1:ind2``. Julia is 1-indexed which is similiar to R but different to Python. It also doesn't do negative indexing like R and Python but it does have the special keyword ``end`` if you are unsure of the dimension length or think it might change in the future. Let's try taking some slices."
   ]
  },
  {
   "cell_type": "code",
   "execution_count": 17,
   "id": "addbaa44",
   "metadata": {},
   "outputs": [
    {
     "name": "stdout",
     "output_type": "stream",
     "text": [
      "Any[1, 1.45, 1.0 + 0.4im]\n",
      "[1, 2, 3]\n",
      "Any[\"d\" \"e\" \"f\"; \"h\" \"i\" \"j\"]\n"
     ]
    }
   ],
   "source": [
    "println(v_any[2:end])\n",
    "println(mat_int[1, :])\n",
    "println(tens_int[2:3, 1:3, 2])"
   ]
  },
  {
   "cell_type": "markdown",
   "id": "add8211c",
   "metadata": {},
   "source": [
    "We can also modify arrays using indexing. Simply index into the array and reasign the values. Lets try modifiying a vector and a matrix:"
   ]
  },
  {
   "cell_type": "code",
   "execution_count": 18,
   "id": "97465ff2",
   "metadata": {},
   "outputs": [
    {
     "name": "stdout",
     "output_type": "stream",
     "text": [
      "Array[[1.0, 12.0, 15.0], [60 120 10; 4 5 6; 7 8 9]]\n"
     ]
    }
   ],
   "source": [
    "v_float[2:3] = [12, 15];\n",
    "mat_int[1,:] = [60,120, 10];\n",
    "println([v_float, mat_int])"
   ]
  },
  {
   "cell_type": "markdown",
   "id": "bfeaacbc",
   "metadata": {},
   "source": [
    "### 1.3.2 Passing by Value and Reference\n",
    "\n",
    "This brings us to quite an important part of Julia: variable names are pointers to data. Oftentimes, we will find ourselves saying that ``var1 = var2``, for some reason or another. This is copying by *reference* not by *value* i.e. this does not make a copy of the data, it instead says ``var2`` points to the same location as ``var1``. Observe what happens when we then decide to change the first variable:"
   ]
  },
  {
   "cell_type": "code",
   "execution_count": 19,
   "id": "bf39729f",
   "metadata": {},
   "outputs": [
    {
     "name": "stdout",
     "output_type": "stream",
     "text": [
      "[60 120 10; 4 5 6; 7 8 9]\n",
      "[60 120 10; 100000 5 6; 7 8 9]\n"
     ]
    }
   ],
   "source": [
    "mat_int2 = mat_int\n",
    "println(mat_int2)\n",
    "mat_int[2,1] = 100000\n",
    "println(mat_int2)"
   ]
  },
  {
   "cell_type": "markdown",
   "id": "610fd9c4",
   "metadata": {},
   "source": [
    "Notice how ``mat_int2`` changed to reflect the change in ``mat_int``. Often we don't want that to happen and it can be a major \"gotcha\" bug in many peoples code. To avoid it we use the functions: ``copy`` and ``deepcopy``. ``copy`` is a shallow copy where a copy of the object is made, but any mutable fields in the object are still passed by reference. ``deepcopy`` completely dereferences the new object and is probably the most appropriate in most circumstances. Let's try it out:"
   ]
  },
  {
   "cell_type": "code",
   "execution_count": 20,
   "id": "7988be4c",
   "metadata": {},
   "outputs": [
    {
     "name": "stdout",
     "output_type": "stream",
     "text": [
      "[60 120 10; 100000 5 6; 7 8 9]\n",
      "[60 120 10; 100000 5 6; 7 8 9]\n"
     ]
    }
   ],
   "source": [
    "mat_int3 = deepcopy(mat_int)\n",
    "println(mat_int3)\n",
    "mat_int[2,1] = 4\n",
    "println(mat_int3)"
   ]
  },
  {
   "cell_type": "markdown",
   "id": "8dc02d63",
   "metadata": {},
   "source": [
    "### 1.3.2 Arrays\n",
    "The ``Array`` type is denoted with the *primitive* in the first position and the *dimension* in the second position of the curly braces. It is completely general and you can use any type as the primitive. The ``Vector`` and ``Matrix`` types are actually just aliases for the ``Array`` type."
   ]
  },
  {
   "cell_type": "markdown",
   "id": "b2aaf561",
   "metadata": {},
   "source": [
    "### 1.3.3 Common Constructors \n",
    "\n",
    "It would be quite tedious to type out large amount of numbers and it becomes difficult to keep track of various commas, semi-colons, and spaces. It  "
   ]
  },
  {
   "cell_type": "markdown",
   "id": "1b63483f",
   "metadata": {},
   "source": []
  },
  {
   "cell_type": "markdown",
   "id": "7ff2dd80",
   "metadata": {},
   "source": [
    "### 1.x Type Conversions and Hierarchy"
   ]
  },
  {
   "cell_type": "markdown",
   "id": "60ddf73d",
   "metadata": {},
   "source": [
    "Type conversion can be performed on arrays. Let's try and convert our Float64 vector into a Float32 vector and our Float64 Matrix into a Float128 matrix."
   ]
  },
  {
   "cell_type": "code",
   "execution_count": 21,
   "id": "8ef65f2f",
   "metadata": {},
   "outputs": [
    {
     "ename": "LoadError",
     "evalue": "UndefVarError: Float128 not defined",
     "output_type": "error",
     "traceback": [
      "UndefVarError: Float128 not defined",
      "",
      "Stacktrace:",
      " [1] top-level scope",
      "   @ In[21]:2",
      " [2] eval",
      "   @ ./boot.jl:368 [inlined]",
      " [3] include_string(mapexpr::typeof(REPL.softscope), mod::Module, code::String, filename::String)",
      "   @ Base ./loading.jl:1428"
     ]
    }
   ],
   "source": [
    "v_f32 = Array{Float32, 1}(v_float)\n",
    "m_f128 = Array(Float128, 2)(mat_int)"
   ]
  },
  {
   "cell_type": "markdown",
   "id": "fede45bd",
   "metadata": {},
   "source": [
    "That worked quite well. Notice that we used ``Array{Float32, 1}`` and ``Array{Float128, 2}`` instead of ``Vector{Float32}`` and ``Matrix{Float128}``. This is because ``Vector`` and ``Matrix`` are special aliases for Array{}. Let's create an array of arrays of dimension 1. In many languages this is how you create a matrix."
   ]
  },
  {
   "cell_type": "code",
   "execution_count": 22,
   "id": "79494642",
   "metadata": {},
   "outputs": [
    {
     "name": "stdout",
     "output_type": "stream",
     "text": [
      "Vector{Vector{Float64}}\n",
      "false\n",
      "false\n"
     ]
    }
   ],
   "source": [
    "array_array = Array{Array{Float64,1}, 1}\n",
    "println(array_array)\n",
    "println(array_array <: Matrix)\n",
    "println(Matrix <: array_array)"
   ]
  },
  {
   "cell_type": "markdown",
   "id": "82685fef",
   "metadata": {},
   "source": [
    "Notice that Julia has constructed this new type, and correctly recognised that it is distinct (and not in the type hierarchy) from ``Array{Float64,2}``. Functions designed for matrices may not work for vectors of vectors, and we shouldn't expect them to unless they are explicitly extended to."
   ]
  },
  {
   "cell_type": "code",
   "execution_count": 23,
   "id": "d4df37b8",
   "metadata": {},
   "outputs": [
    {
     "data": {
      "text/plain": [
       "false"
      ]
     },
     "execution_count": 23,
     "metadata": {},
     "output_type": "execute_result"
    }
   ],
   "source": [
    "Matrix{Float64} <: Array{Array{Float64, 1}, 1}"
   ]
  },
  {
   "cell_type": "markdown",
   "id": "87508bc1",
   "metadata": {},
   "source": [
    "## 2.0 Logic and Control Flow\n",
    "\n",
    "An essential feature of *all* programming is control flow. These are structures that allow us to implement the logic of our program. An essential feature of control flow is the notion of Booleans and truth statements. A boolean is a type which indicates a logical value: ``true`` or ``false``. These are usually the outputs of logical queries which are most commonly constructed with the binary operators. Some common and useful ones are: and (&&), or (||), less than (<), greater than (>), equal to (==), and greaterequal/lessequal (>=, <=). These are not exhaustive, Julia has many others such as those from [set logic](https://docs.julialang.org/en/v1/base/collections/) or the xor operator and we can consult the documentation for further details. Let's try some logical statements:"
   ]
  },
  {
   "cell_type": "code",
   "execution_count": 24,
   "id": "178a85d5",
   "metadata": {},
   "outputs": [
    {
     "name": "stdout",
     "output_type": "stream",
     "text": [
      "false\n",
      "true\n",
      "false\n",
      "false\n",
      "true\n",
      "false\n"
     ]
    }
   ],
   "source": [
    "a = 1\n",
    "b = 2.0\n",
    "c = \"three\"\n",
    "\n",
    "println( a > b )\n",
    "println( a <= b )\n",
    "println( a == b )\n",
    "println( a == c )\n",
    "println( (a<b) && (b>=a) )\n",
    "println( (a<b) && (b==c) )"
   ]
  },
  {
   "cell_type": "markdown",
   "id": "1ed5852d",
   "metadata": {},
   "source": [
    "### 2.1 Logical Negation\n",
    "\n",
    "Logical negation is another important part of control flow. In Julia it is controlled through the ``!`` operator. The bang! precedes the logical value. Again, it follows the rules of Boolean logic and so statments can be contactenated and easily readable. Let's try negating a few logical statements. "
   ]
  },
  {
   "cell_type": "code",
   "execution_count": 25,
   "id": "50833244",
   "metadata": {},
   "outputs": [
    {
     "name": "stdout",
     "output_type": "stream",
     "text": [
      "false\n",
      "true\n",
      "true\n",
      "false\n",
      "true\n"
     ]
    }
   ],
   "source": [
    "println(!true)\n",
    "\n",
    "println(!(a > b))\n",
    "\n",
    "println(!(a > b) && (a <= b))\n",
    "\n",
    "println((a > b) && !(a == b))\n",
    "\n",
    "println(!((a > b) || (a == b)))"
   ]
  },
  {
   "cell_type": "markdown",
   "id": "da0a1725",
   "metadata": {},
   "source": [
    "### 2.2 Control Flow\n",
    "Control flow in Julia is done predominately in blocks. Let's go through the ``if``, ``for``, and ``while`` control flows as these are most common. All control flow blocks end in the ``end`` keyword.\n",
    "\n",
    "### 2.2.1 If Statements\n",
    "The ``if`` block has three keywords: ``if``, ``elseif``, and ``else``. The latter are unecessary. The ``if`` and ``elseif`` keywords are followed directly by logical statements which evaluate to Boolean: ``true`` or ``false``. After each keyword there is a section of code to execute if the statement is ``true`` with the ``else`` block executing if no proceeding blocks are true. There can be an abritrary number of ``elseif`` statements. Let's construct a few ``if`` statements to see how they operate:"
   ]
  },
  {
   "cell_type": "code",
   "execution_count": 26,
   "id": "0dde7359",
   "metadata": {},
   "outputs": [],
   "source": [
    "obj1 = \"a string\";\n",
    "obj2 = 2.0;\n",
    "obj3 = 30;"
   ]
  },
  {
   "cell_type": "code",
   "execution_count": 27,
   "id": "0926f89a",
   "metadata": {},
   "outputs": [
    {
     "name": "stdout",
     "output_type": "stream",
     "text": [
      "It's a string\n"
     ]
    }
   ],
   "source": [
    "if typeof(obj1) == String\n",
    "    println(\"It's \" * obj1)\n",
    "end"
   ]
  },
  {
   "cell_type": "code",
   "execution_count": 28,
   "id": "6b91a105",
   "metadata": {},
   "outputs": [
    {
     "name": "stdout",
     "output_type": "stream",
     "text": [
      "It's not a string\n"
     ]
    }
   ],
   "source": [
    "if typeof(obj1) == Float32\n",
    "    println(\"It's \" * obj1)\n",
    "else\n",
    "    println(\"It's not \" * obj1)\n",
    "end"
   ]
  },
  {
   "cell_type": "code",
   "execution_count": 29,
   "id": "bca9f515",
   "metadata": {},
   "outputs": [
    {
     "name": "stdout",
     "output_type": "stream",
     "text": [
      "Ordering...\n",
      "[2.0, 30.0]\n"
     ]
    }
   ],
   "source": [
    "if typeof(obj1) == Float32\n",
    "    println(\"It's \" * obj1)\n",
    "elseif obj2 < obj3\n",
    "    println(\"Ordering...\")\n",
    "    println([obj2, obj3])\n",
    "end"
   ]
  },
  {
   "cell_type": "code",
   "execution_count": 30,
   "id": "45adeb41",
   "metadata": {},
   "outputs": [
    {
     "name": "stdout",
     "output_type": "stream",
     "text": [
      "Ordering...\n",
      "[30.0, 2.0]\n"
     ]
    }
   ],
   "source": [
    "if typeof(obj1) == Float32\n",
    "    println(\"It's \" * obj1)\n",
    "elseif obj3 < obj2\n",
    "    println(\"Ordering...\")\n",
    "    println([obj3, obj2])\n",
    "else\n",
    "    println(\"Ordering...\")\n",
    "    println([obj3, obj2])\n",
    "end"
   ]
  },
  {
   "cell_type": "code",
   "execution_count": 31,
   "id": "4e6011f6",
   "metadata": {},
   "outputs": [
    {
     "name": "stdout",
     "output_type": "stream",
     "text": [
      "There is a rogue interger in here.\n"
     ]
    }
   ],
   "source": [
    "if typeof(obj1) == Float32\n",
    "    println(\"It's \" * obj1)\n",
    "elseif obj3 < obj2\n",
    "    println(\"Ordering...\")\n",
    "    println([obj3, obj2])\n",
    "elseif (typeof(obj3) == Int64) | (typeof(obj2) == Int64)\n",
    "    println(\"There is a rogue interger in here.\")\n",
    "else\n",
    "    println(\"Ordering...\")\n",
    "    println([obj3, obj2])\n",
    "end"
   ]
  },
  {
   "cell_type": "markdown",
   "id": "1c0ae74d",
   "metadata": {},
   "source": [
    "### 2.2.2 Loops\n",
    "\n",
    "A loop is another more complicated form of control. Arguably the most common form of loop is the ``for`` loop. The for loop in Julia is initiated with the ``for`` keyword, a loop variable, and some form of interable e.g. an index range or vector. Then, the compiler loops sequentially through the iterable and assigns it to the loop variable while executing the code inside the block. The variable assignment can be using the ``=`` operator or the ``in`` keyword. Let's try it out: "
   ]
  },
  {
   "cell_type": "code",
   "execution_count": 93,
   "id": "c27b1378",
   "metadata": {},
   "outputs": [
    {
     "name": "stdout",
     "output_type": "stream",
     "text": [
      "Using the = assignment\n",
      "1\n",
      "2\n",
      "3\n",
      "af\n",
      "\n",
      "Using the `in` assignment\n",
      "1\n",
      "2\n",
      "3\n",
      "af\n"
     ]
    }
   ],
   "source": [
    "println(\"Using the = assignment\")\n",
    "for i = [1,2,3,\"af\"]\n",
    "    println(i)\n",
    "end\n",
    "\n",
    "println(\"\\nUsing the `in` assignment\")\n",
    "for i in [1,2,3,\"af\"]\n",
    "    println(i)\n",
    "end"
   ]
  },
  {
   "cell_type": "markdown",
   "id": "effcd0f0",
   "metadata": {},
   "source": [
    "Let's try something a little more complicated. There is a Julia function called ``iseven`` which queries a number and checks if it is even. Let's embed an ``if`` statement inside a ``for`` loop which, for the first 15 natural numbers, prints out the square of the number if it is even and the square root of a number if it is odd."
   ]
  },
  {
   "cell_type": "code",
   "execution_count": 33,
   "id": "6f58a84d",
   "metadata": {},
   "outputs": [
    {
     "name": "stdout",
     "output_type": "stream",
     "text": [
      "1.0\n",
      "4\n",
      "1.7320508075688772\n",
      "16\n",
      "2.23606797749979\n",
      "36\n",
      "2.6457513110645907\n",
      "64\n",
      "3.0\n",
      "100\n",
      "3.3166247903554\n",
      "144\n",
      "3.605551275463989\n",
      "196\n",
      "3.872983346207417\n"
     ]
    }
   ],
   "source": [
    "for i = 1:15\n",
    "    if iseven(i)\n",
    "        println(i^2)\n",
    "    else\n",
    "        println(sqrt(i))\n",
    "    end\n",
    "end"
   ]
  },
  {
   "cell_type": "markdown",
   "id": "d7b1d102",
   "metadata": {},
   "source": [
    "The ``while`` loop is another very useful looping construct. It is typically used when the dimension of the problem is not known and it often, although not necessarily, has a more non-linear structure and less determined run time. It is formed with the ``while`` keyword and a logical statement which usually is dependent on something inside the loop. The ``while`` loop runs until the statement reads false. Let's construct a simple while loop that performs the same task as the ``for`` loop above but with the ``isodd`` function."
   ]
  },
  {
   "cell_type": "code",
   "execution_count": 153,
   "id": "c81507fd",
   "metadata": {},
   "outputs": [
    {
     "name": "stdout",
     "output_type": "stream",
     "text": [
      "3.7416573867739413\n",
      "169\n",
      "3.4641016151377544\n",
      "121\n",
      "3.1622776601683795\n",
      "81\n",
      "2.8284271247461903\n",
      "49\n",
      "2.449489742783178\n",
      "25\n",
      "2.0\n",
      "9\n",
      "1.4142135623730951\n",
      "1\n"
     ]
    }
   ],
   "source": [
    "i = 15\n",
    "while i > 1\n",
    "    i = i - 1\n",
    "    if isodd(i)\n",
    "        println(i^2)\n",
    "    else\n",
    "        println(sqrt(i))\n",
    "    end\n",
    "end"
   ]
  },
  {
   "cell_type": "markdown",
   "id": "a8608278",
   "metadata": {},
   "source": [
    "Notice how loop variable ``i`` gets incremented by 1 each time and is therefore guarenteed to make the logical statement false at some point. A ``while`` loop will accept any Boolean: `` while true [some code block] end`` is a valid and executable code. However, the ``true`` will never turn to ``false`` in that example and would require killing the Julia process. Infinite loops are problems in ``while`` loops because oftentimes the runtime is not known beforehand --- if we haven't carefully checked that our code will terminate we might not know if we are going to be waiting for a long time, or forever."
   ]
  },
  {
   "cell_type": "markdown",
   "id": "c4e01d38",
   "metadata": {},
   "source": [
    "### 2.2.3 Increment Operators\n",
    "\n",
    "In both of the loops we referenced ``i``  in an operation that increased or decreased it. In Julia there are a number of operators that allow you to concisely express this (you may be familiar with them from other languages). They are:\n",
    "1. ``i+=val`` (increases i by val)\n",
    "2. ``i-=val`` (decreases i by val)\n",
    "3. ``i*=val`` (multiplies i by val)\n",
    "4. ``i/=val`` (divides i by val)"
   ]
  },
  {
   "cell_type": "markdown",
   "id": "b549253e",
   "metadata": {},
   "source": [
    "### 2.2.4 Syntatic Sugar\n",
    "\n",
    "There are two forms of syntatic sugar that many people like to employ in Julia. The first is the ternary operator which lets us write ``if`` statements in a single line, and the other is loop comprehension which lets us write ``for`` statements in a single line. In general, these decrease the readability of our code so they can be avoided. They can be very helpful in anonymous functions calls. Also, other people very much like using them, so watch out!\n",
    "\n",
    "The ternary operator takes the form: ``(Boole ? Statement1 : Statement2)`` where Boole indicates the logical query, followed by ?, then if this is true Statement1 is executed, the : indicates else and Statement2 is executed if the logical query is false.\n",
    "\n",
    "The list comperhension takes the form: ``[f(i) for i in iter]`` where i is the loop variable, iter is the collection being iterated over, and f(i) is the loop execution block. The result is a vector containing the sequential applications of ``f`` to the loop variable.\n",
    "\n",
    "Let's try these two statements out:"
   ]
  },
  {
   "cell_type": "code",
   "execution_count": 35,
   "id": "c62a7f04",
   "metadata": {},
   "outputs": [
    {
     "name": "stdout",
     "output_type": "stream",
     "text": [
      "That's false\n"
     ]
    }
   ],
   "source": [
    "(true == false ? println(\"That's true\") : println(\"That's false\"))"
   ]
  },
  {
   "cell_type": "code",
   "execution_count": 36,
   "id": "8ebfc05f",
   "metadata": {},
   "outputs": [
    {
     "name": "stdout",
     "output_type": "stream",
     "text": [
      "That's true.\n"
     ]
    }
   ],
   "source": [
    "(true == (!false) ? println(\"That's true.\") : println(\"Unless...\")) "
   ]
  },
  {
   "cell_type": "code",
   "execution_count": 37,
   "id": "17f9c7ad",
   "metadata": {},
   "outputs": [
    {
     "data": {
      "text/plain": [
       "6-element Vector{Int64}:\n",
       "   0\n",
       "   4\n",
       "  16\n",
       "  36\n",
       "  64\n",
       " 100"
      ]
     },
     "execution_count": 37,
     "metadata": {},
     "output_type": "execute_result"
    }
   ],
   "source": [
    "vec_even_squares = [i^2 for i in 0:2:10]"
   ]
  },
  {
   "cell_type": "markdown",
   "id": "ec0fef38",
   "metadata": {},
   "source": [
    "## 3.0 Functions\n",
    "\n",
    "We have actually already covered many functions up until this point: some using traditional function brackets notation and others being binary operators. Fortunately, they were all pretty inituitive in how they worked! Functions are much more general than these though and Julia has first class support for functions! \n",
    "\n",
    "\n",
    "### 3.1 Inline Functions\n",
    "The first function type we will cover is inline functions. These look like the functions you probably first worked with in high school - they are defined in one line. Let's define a simple function: $ f(x) = x^2 $:"
   ]
  },
  {
   "cell_type": "code",
   "execution_count": 38,
   "id": "4a31acb1",
   "metadata": {},
   "outputs": [
    {
     "data": {
      "text/plain": [
       "f (generic function with 1 method)"
      ]
     },
     "execution_count": 38,
     "metadata": {},
     "output_type": "execute_result"
    }
   ],
   "source": [
    "f(x) = x^2"
   ]
  },
  {
   "cell_type": "code",
   "execution_count": 39,
   "id": "3f564ec0",
   "metadata": {},
   "outputs": [
    {
     "name": "stdout",
     "output_type": "stream",
     "text": [
      "Any[9, 4.0, -3 + 4im, \"BAABAA\", true, false]\n"
     ]
    }
   ],
   "source": [
    "println([f(3), f(2.0), f(1 + 2im), f(\"BAA\"), f(true), f(false)])"
   ]
  },
  {
   "cell_type": "markdown",
   "id": "4fc1bd05",
   "metadata": {},
   "source": [
    "That worked pretty well - it even seemed to generalise to any data type! What if we wanted to just define a function that worked only on a specific data type. In Julia this is done using the ::Type operator in the function arguments. Let's define a square root function that only works with Float32 data:"
   ]
  },
  {
   "cell_type": "code",
   "execution_count": 40,
   "id": "82362df5",
   "metadata": {},
   "outputs": [
    {
     "data": {
      "text/plain": [
       "root32 (generic function with 1 method)"
      ]
     },
     "execution_count": 40,
     "metadata": {},
     "output_type": "execute_result"
    }
   ],
   "source": [
    "root32(x::Float32) = sqrt(x)"
   ]
  },
  {
   "cell_type": "code",
   "execution_count": 41,
   "id": "3e019c02",
   "metadata": {},
   "outputs": [
    {
     "ename": "LoadError",
     "evalue": "MethodError: no method matching root32(::Int64)\n\u001b[0mClosest candidates are:\n\u001b[0m  root32(\u001b[91m::Float32\u001b[39m) at In[40]:1",
     "output_type": "error",
     "traceback": [
      "MethodError: no method matching root32(::Int64)\n\u001b[0mClosest candidates are:\n\u001b[0m  root32(\u001b[91m::Float32\u001b[39m) at In[40]:1",
      "",
      "Stacktrace:",
      " [1] top-level scope",
      "   @ In[41]:1",
      " [2] eval",
      "   @ ./boot.jl:368 [inlined]",
      " [3] include_string(mapexpr::typeof(REPL.softscope), mod::Module, code::String, filename::String)",
      "   @ Base ./loading.jl:1428"
     ]
    }
   ],
   "source": [
    "root32(4)"
   ]
  },
  {
   "cell_type": "markdown",
   "id": "aee80f9e",
   "metadata": {},
   "source": [
    "The first thing we notice is that it no longer seems to \"just work\". The reason that the first function worked on so many data types is because we didn't specify what data type it ought to be so Julia infers at as the Any type and the function will accept any input. The base square operation happened to be defined for all the data we through at it. The ``root32`` function *needs* Float32 data:"
   ]
  },
  {
   "cell_type": "code",
   "execution_count": 42,
   "id": "8b5af12a",
   "metadata": {},
   "outputs": [
    {
     "data": {
      "text/plain": [
       "2.0f0"
      ]
     },
     "execution_count": 42,
     "metadata": {},
     "output_type": "execute_result"
    }
   ],
   "source": [
    "root32(4f0)"
   ]
  },
  {
   "cell_type": "markdown",
   "id": "a60ed5c0",
   "metadata": {},
   "source": [
    "That's much better - it's working now. The function might still have errors but provided we give it correctly type data Julia will be able to dispatch this method. For example, if we take the square root of a negative number we should get an error, but it wont be a *method* error. Let's try taking the root of a negative number:"
   ]
  },
  {
   "cell_type": "code",
   "execution_count": 43,
   "id": "575fa3c4",
   "metadata": {},
   "outputs": [
    {
     "ename": "LoadError",
     "evalue": "DomainError with -4.0:\nsqrt will only return a complex result if called with a complex argument. Try sqrt(Complex(x)).",
     "output_type": "error",
     "traceback": [
      "DomainError with -4.0:\nsqrt will only return a complex result if called with a complex argument. Try sqrt(Complex(x)).",
      "",
      "Stacktrace:",
      " [1] throw_complex_domainerror(f::Symbol, x::Float32)",
      "   @ Base.Math ./math.jl:33",
      " [2] sqrt",
      "   @ ./math.jl:591 [inlined]",
      " [3] root32(x::Float32)",
      "   @ Main ./In[40]:1",
      " [4] top-level scope",
      "   @ In[43]:1",
      " [5] eval",
      "   @ ./boot.jl:368 [inlined]",
      " [6] include_string(mapexpr::typeof(REPL.softscope), mod::Module, code::String, filename::String)",
      "   @ Base ./loading.jl:1428"
     ]
    }
   ],
   "source": [
    "root32(-4f0)"
   ]
  },
  {
   "cell_type": "markdown",
   "id": "c8eb9629",
   "metadata": {},
   "source": [
    "### 3.2 Multiple Dispatch (Advanced)\n",
    "\n",
    "This brings us to one of the key selling features of Julia: multiple dispatch. Multiple dispatch essentially allows us to overload a function definition so that it can apply (dispatch) different methods based on the data type it receives. This is incredibly important: many functions we think of as quite intuitive have many different specific meanings and implementations based on a host of factors. Think about squaring a number and squaring a matrix; they both \"make sense\" and the operator should remain the same, but the computational procedures are very different. Multiple dispatch allows us to keep conventions that make sense, decide on faster routines if the high precision is not required, or different more precise methods if it is. Many of Julia's base operators are already overloaded.\n",
    "\n",
    "Suppose that we want to extend our function to accept Complex32 arguments. We might remember that the square root of a complex number has two values. We would like to keep things simple so we will just extend the definition to produce that:"
   ]
  },
  {
   "cell_type": "code",
   "execution_count": 44,
   "id": "58d1e909",
   "metadata": {},
   "outputs": [
    {
     "data": {
      "text/plain": [
       "root32 (generic function with 2 methods)"
      ]
     },
     "execution_count": 44,
     "metadata": {},
     "output_type": "execute_result"
    }
   ],
   "source": [
    "root32(x::ComplexF32) = (sqrt(x.re^2 + x.im^2) + x.re) / 2 + x.im/abs(x.im) * (sqrt(x.re^2 + x.im^2) - x.re) / 2"
   ]
  },
  {
   "cell_type": "markdown",
   "id": "2ecb187a",
   "metadata": {},
   "source": [
    "Notice now that our ``root32`` function has two methods. Let's try it out:"
   ]
  },
  {
   "cell_type": "code",
   "execution_count": 45,
   "id": "933235cc",
   "metadata": {},
   "outputs": [
    {
     "data": {
      "text/plain": [
       "3.1622777f0"
      ]
     },
     "execution_count": 45,
     "metadata": {},
     "output_type": "execute_result"
    }
   ],
   "source": [
    "root32(1f0 + 3f0im)"
   ]
  },
  {
   "cell_type": "code",
   "execution_count": 46,
   "id": "7d4d49c5",
   "metadata": {},
   "outputs": [
    {
     "data": {
      "text/plain": [
       "NaN32"
      ]
     },
     "execution_count": 46,
     "metadata": {},
     "output_type": "execute_result"
    }
   ],
   "source": [
    "root32(1f0 + 0f0im)"
   ]
  },
  {
   "cell_type": "markdown",
   "id": "449a62c5",
   "metadata": {},
   "source": [
    "That's interesting: we gave it a complex number with a zero value imaginary part and it returned a Not a Number value. Why? Surely it should just give the root of 1 which is well defined? The problem is that because we gave it a complex number it dispatched to the method defined for complex numbers which has a division by the imaginary component. Since our imaginary component is zero we get a division-by-zero error. To fix this we can overload a special case into the function:"
   ]
  },
  {
   "cell_type": "code",
   "execution_count": 56,
   "id": "119c9415",
   "metadata": {},
   "outputs": [
    {
     "data": {
      "text/plain": [
       "1.0f0"
      ]
     },
     "execution_count": 56,
     "metadata": {},
     "output_type": "execute_result"
    }
   ],
   "source": [
    "root32(x::ComplexF32) = (x.im != 0 ? root32(x) : root32(Float32(x.re)))\n",
    "root32(1f0 + 0f0im)"
   ]
  },
  {
   "cell_type": "markdown",
   "id": "34424229",
   "metadata": {},
   "source": [
    "Now that works properly. Why bother with all of this? First, it highlights how difficult it can be to write code with multiple types. The best practice here is to start with AbstractAny types and let the compiler do its own type inference and once the code is working to progressively make the functions more restrictive. The second is performance. As we have seen the compiler is very flexible and can mutate types and perform type conversions to make certain operations make sense: these come at a cost. By specifiying all of our types at runtime we let the compiler know what to expect and by making our code type-stable we can get substantial performance gains. Type mutations add a lot of bloat."
   ]
  },
  {
   "cell_type": "markdown",
   "id": "e56c495e",
   "metadata": {},
   "source": [
    "### 3.3 Optional and Keyword Arguments\n",
    "\n",
    "We might find ourselves wanting to give additional arguments to our function that function more like parameters. A natural example might be coding the funtion $ f(x; a) = a \\cdot x^2 $. Suppose we normally expect $a = 1$ but want to code it some flexibilty for when it isn't. To do this we use an optional argument by putting an ``=`` operator in the function definition:"
   ]
  },
  {
   "cell_type": "code",
   "execution_count": 58,
   "id": "5c02ed06",
   "metadata": {},
   "outputs": [
    {
     "data": {
      "text/plain": [
       "fa_opt (generic function with 2 methods)"
      ]
     },
     "execution_count": 58,
     "metadata": {},
     "output_type": "execute_result"
    }
   ],
   "source": [
    "fa_opt(x, a=1) = a * x^2"
   ]
  },
  {
   "cell_type": "code",
   "execution_count": 62,
   "id": "f991beb3",
   "metadata": {},
   "outputs": [
    {
     "data": {
      "text/plain": [
       "4"
      ]
     },
     "execution_count": 62,
     "metadata": {},
     "output_type": "execute_result"
    }
   ],
   "source": [
    "fa_opt(2)"
   ]
  },
  {
   "cell_type": "code",
   "execution_count": 64,
   "id": "22410b85",
   "metadata": {},
   "outputs": [
    {
     "data": {
      "text/plain": [
       "12"
      ]
     },
     "execution_count": 64,
     "metadata": {},
     "output_type": "execute_result"
    }
   ],
   "source": [
    "fa_opt(2, 3)"
   ]
  },
  {
   "cell_type": "markdown",
   "id": "3f0d9b38",
   "metadata": {},
   "source": [
    "This can be immensely useful especially for edge cases. However, when we start writing functions with many parameters it can be difficult to remember the order they are in. The keyword argument methodology allows you to reference arguments by symbol rather than location which offers much more convenience. Keyword arguments are specified after a semi-colon in the function definition and must be called with their symbol:"
   ]
  },
  {
   "cell_type": "code",
   "execution_count": 65,
   "id": "0c13cbce",
   "metadata": {},
   "outputs": [
    {
     "data": {
      "text/plain": [
       "fa_key (generic function with 1 method)"
      ]
     },
     "execution_count": 65,
     "metadata": {},
     "output_type": "execute_result"
    }
   ],
   "source": [
    "fa_key(x; a=1) = a * x^2"
   ]
  },
  {
   "cell_type": "code",
   "execution_count": 66,
   "id": "0ae1f3c5",
   "metadata": {},
   "outputs": [
    {
     "data": {
      "text/plain": [
       "4"
      ]
     },
     "execution_count": 66,
     "metadata": {},
     "output_type": "execute_result"
    }
   ],
   "source": [
    "fa_key(2)"
   ]
  },
  {
   "cell_type": "code",
   "execution_count": 68,
   "id": "9a0a27ab",
   "metadata": {},
   "outputs": [
    {
     "data": {
      "text/plain": [
       "8"
      ]
     },
     "execution_count": 68,
     "metadata": {},
     "output_type": "execute_result"
    }
   ],
   "source": [
    "fa_key(2; a=2)"
   ]
  },
  {
   "cell_type": "code",
   "execution_count": 70,
   "id": "966f0fc3",
   "metadata": {},
   "outputs": [
    {
     "ename": "LoadError",
     "evalue": "syntax: invalid keyword argument syntax \"2\" around In[70]:1",
     "output_type": "error",
     "traceback": [
      "syntax: invalid keyword argument syntax \"2\" around In[70]:1",
      "",
      "Stacktrace:",
      " [1] top-level scope",
      "   @ In[70]:1",
      " [2] eval",
      "   @ ./boot.jl:368 [inlined]",
      " [3] include_string(mapexpr::typeof(REPL.softscope), mod::Module, code::String, filename::String)",
      "   @ Base ./loading.jl:1428"
     ]
    }
   ],
   "source": [
    "fa_key(2; 2)"
   ]
  },
  {
   "cell_type": "markdown",
   "id": "e5537f3b",
   "metadata": {},
   "source": [
    "### 3.5 Generic Functions\n",
    "\n",
    "So far we have focused on in-line functions because they are readable and feel more intuitive to functions we have seen before. There is only so much we can do on one line, however, and we need a function structure that allows us to include multiple statements and a generic block to execute code. The ``function`` code block provides just that. Like the control flows it also requires an ``end`` statement and it has another optional component ``return``. Whenever the ``return`` keyword is found the function will break out and return whatever value is in the return statement. If there is no return it will return the last line it gets to. All of the multiple dispatch, optional arguments, and keyword arguments apply to generic functions. Let's write our $f(x; a) = a \\cdot x^2 $ function in this format:"
   ]
  },
  {
   "cell_type": "code",
   "execution_count": 72,
   "id": "965a8492",
   "metadata": {},
   "outputs": [
    {
     "data": {
      "text/plain": [
       "F (generic function with 1 method)"
      ]
     },
     "execution_count": 72,
     "metadata": {},
     "output_type": "execute_result"
    }
   ],
   "source": [
    "function F(x; a=1)\n",
    "    res = a * x^2\n",
    "    return res\n",
    "end"
   ]
  },
  {
   "cell_type": "markdown",
   "id": "04363637",
   "metadata": {},
   "source": [
    "For that type of function it is probably more readable and far less typing to use an inline function. However, let's consider a more complicated squaring function which uses control flow to generalise the squaring behaviour to multiple different array types. We will use the ``size`` function to determine the dimensions of the array."
   ]
  },
  {
   "cell_type": "code",
   "execution_count": 89,
   "id": "7c9833b6",
   "metadata": {},
   "outputs": [
    {
     "data": {
      "text/plain": [
       "asquare (generic function with 1 method)"
      ]
     },
     "execution_count": 89,
     "metadata": {},
     "output_type": "execute_result"
    }
   ],
   "source": [
    "function asquare(x; a=1)\n",
    "    sz = size(x)\n",
    "    if length(sz) == 0 \n",
    "        # this is a number\n",
    "        return a * x^2\n",
    "    elseif length(sz) == 1\n",
    "        # this is a vector\n",
    "        tmp = 0\n",
    "        for i = 1:sz[1]\n",
    "            tmp += x[i]^2\n",
    "        end\n",
    "    elseif length(sz) == 2 && (sz[1] == sz[2])\n",
    "        # this is a square matrix\n",
    "        tmp = zeros(sz)\n",
    "        for j = 1:sz[2]\n",
    "            for i = 1:sz[1]\n",
    "                for k = 1:sz[1]\n",
    "                    tmp[i,j] = a * x[i,k] * x[k,j]\n",
    "                end\n",
    "            end\n",
    "        end\n",
    "    else\n",
    "        println(\"There is a problem\")\n",
    "        return nothing\n",
    "    end\n",
    "    \n",
    "    return [x, tmp]\n",
    "end"
   ]
  },
  {
   "cell_type": "code",
   "execution_count": 90,
   "id": "45368988",
   "metadata": {},
   "outputs": [
    {
     "data": {
      "text/plain": [
       "2-element Vector{Matrix{Float64}}:\n",
       " [1.0 2.0; 3.0 4.0]\n",
       " [18.84955592153876 25.132741228718345; 37.69911184307752 50.26548245743669]"
      ]
     },
     "execution_count": 90,
     "metadata": {},
     "output_type": "execute_result"
    }
   ],
   "source": [
    "x = [1 2 ; 3 4]\n",
    "asquare(x; a=pi)"
   ]
  },
  {
   "cell_type": "markdown",
   "id": "c4ba6b6d",
   "metadata": {},
   "source": [
    "That was quite a ride! The function seems to works well - you can try it out for different values and types for ``x``. It is quite a complicated function which would be very difficult to do in a single line. It might be possible to achieve with multiple dispatch but it would be difficult to keep track of. In general, the ``function`` blocks provide the best space in which to work."
   ]
  },
  {
   "cell_type": "markdown",
   "id": "b90f0e72",
   "metadata": {},
   "source": [
    "### 3.6 Parsing by reference/value and the bang operator\n",
    "\n",
    "We have already discussed parsing by reference or by value in the context of variable assignment. These principles extend to functions."
   ]
  },
  {
   "cell_type": "code",
   "execution_count": null,
   "id": "ad137661",
   "metadata": {},
   "outputs": [],
   "source": []
  },
  {
   "cell_type": "markdown",
   "id": "48d537b1",
   "metadata": {},
   "source": [
    "When we see a bang (!) asscociated with a function we usually can take it to mean that function is *in-place* and non-memory allocating. Either, it will allocate the memory to the object it is provided, or a data vector is parsed along with it and it makes the assignments there. Either way it doesn't allocate. Some functions have both options and these can have uses for different cases. Consider the ``sort`` and ``sort!`` functions:"
   ]
  },
  {
   "cell_type": "code",
   "execution_count": 159,
   "id": "e8fa8b6e",
   "metadata": {},
   "outputs": [
    {
     "name": "stdout",
     "output_type": "stream",
     "text": [
      "This is the vector to be sorted.\n",
      "[0.9578460706360399, 0.47717545214785917, 0.3650891468156212, 0.3608949175677356, 0.7236792039609115]\n",
      "\n",
      "This creates a new vector and doesn't change the old vector:\n",
      "[0.3608949175677356, 0.3650891468156212, 0.47717545214785917, 0.7236792039609115, 0.9578460706360399]\n",
      "[0.9578460706360399, 0.47717545214785917, 0.3650891468156212, 0.3608949175677356, 0.7236792039609115]\n",
      "\n",
      "This changes the vector into a sorted vector:\n",
      "[0.3608949175677356, 0.3650891468156212, 0.47717545214785917, 0.7236792039609115, 0.9578460706360399]\n"
     ]
    }
   ],
   "source": [
    "println(\"This is the vector to be sorted.\")\n",
    "vec = rand(5)\n",
    "println(vec)\n",
    "\n",
    "println(\"\\nThis creates a new vector and doesn't change the old vector:\")\n",
    "sorted_vec = sort(vec)\n",
    "println(sorted_vec)\n",
    "println(vec)\n",
    "\n",
    "println(\"\\nThis changes the vector into a sorted vector:\")\n",
    "sort!(vec)\n",
    "println(vec)"
   ]
  },
  {
   "cell_type": "markdown",
   "id": "7153c835",
   "metadata": {},
   "source": [
    "### 3.x Anonymous Functions\n",
    "\n",
    "Functions are first class objects in julia. They can be assigned to variable names (as we have been doing) or they can be assigned anonymously (without names). These are known as lamda expressions in R and Python. There are two ways to write a lambda expression:"
   ]
  },
  {
   "cell_type": "code",
   "execution_count": 91,
   "id": "14ac75d1",
   "metadata": {},
   "outputs": [
    {
     "data": {
      "text/plain": [
       "#12 (generic function with 1 method)"
      ]
     },
     "execution_count": 91,
     "metadata": {},
     "output_type": "execute_result"
    }
   ],
   "source": [
    "x -> x^2 + 1"
   ]
  },
  {
   "cell_type": "code",
   "execution_count": 92,
   "id": "11021f7e",
   "metadata": {},
   "outputs": [
    {
     "data": {
      "text/plain": [
       "#14 (generic function with 1 method)"
      ]
     },
     "execution_count": 92,
     "metadata": {},
     "output_type": "execute_result"
    }
   ],
   "source": [
    "function(x)\n",
    "    return x^2 + 1\n",
    "end"
   ]
  },
  {
   "cell_type": "markdown",
   "id": "f7e9e9ea",
   "metadata": {},
   "source": [
    "Both of these give a generic function method and a number instead of a name. The number is for the compiler. Why bother with anonymous functions? The major use case is for them to be used as arguments for other functions. They are very useful in the functional programming paradigm. We will cover some of these special functions in a later workbook."
   ]
  },
  {
   "cell_type": "markdown",
   "id": "ad8d96bc",
   "metadata": {},
   "source": [
    "### 3.x Packages"
   ]
  },
  {
   "cell_type": "markdown",
   "id": "8715ea3d",
   "metadata": {},
   "source": [
    "Writing our own functions and macros can be rewarding: it is a very good way to learn and understand how an algorithm works. However, it is very time consuming and often our first attempts will not be as well optimised or perhaps as organised as others who have come before us. In order to not reinvent the wheel we turn to Packages which are folders of code written by others that we can download and run.\n",
    "\n",
    "To import a package and all its functions into the namespace we simply run the code ``using Package``, where ``Package`` is the package name. Then, all the functions exported by the package are in the name space and if there are no naming conflicts we can call them directly. If multiple names exist we can always fall back on the notation ``Package.func`` where ``func`` is the function name for the package.\n",
    "\n",
    "The package system in Julia is excellent! To access it from the REPL just hit ``]``. This brings you into the package manager. To exit just hit ``backspace``. Inside the package manager we can ``add Package``, ``remove Package``, and ``build Package``, where ``Package`` is the package name. We can also do this through the Package package called Pkg. Since we are in a notebook we will use the ``Pkg.add()`` function to add the packages ``StatsBase``."
   ]
  },
  {
   "cell_type": "code",
   "execution_count": 124,
   "id": "2862834a",
   "metadata": {},
   "outputs": [
    {
     "name": "stderr",
     "output_type": "stream",
     "text": [
      "\u001b[32m\u001b[1m   Resolving\u001b[22m\u001b[39m package versions...\n",
      "\u001b[32m\u001b[1m  No Changes\u001b[22m\u001b[39m to `~/.julia/environments/v1.8/Project.toml`\n",
      "\u001b[32m\u001b[1m  No Changes\u001b[22m\u001b[39m to `~/.julia/environments/v1.8/Manifest.toml`\n"
     ]
    }
   ],
   "source": [
    "using Pkg\n",
    "Pkg.add(\"StatsBase\")"
   ]
  },
  {
   "cell_type": "code",
   "execution_count": 123,
   "id": "ec91d26f",
   "metadata": {},
   "outputs": [
    {
     "name": "stdout",
     "output_type": "stream",
     "text": [
      "0.5863310687041419\n"
     ]
    }
   ],
   "source": [
    "using StatsBase\n",
    "rand_vec = rand(100)\n",
    "println(mean(rand_vec))"
   ]
  },
  {
   "cell_type": "markdown",
   "id": "2cd56422",
   "metadata": {},
   "source": [
    "The ``StatsBase`` package exports another useful function ``std`` to compute the standard deviation of a series of numbers. Suppose that we had also written a (fairly useless) function which **s**quared **t**wo **d**oubled **x** and also called it ``std(x)``."
   ]
  },
  {
   "cell_type": "code",
   "execution_count": 134,
   "id": "6195bad9",
   "metadata": {},
   "outputs": [
    {
     "data": {
      "text/plain": [
       "std (generic function with 1 method)"
      ]
     },
     "execution_count": 134,
     "metadata": {},
     "output_type": "execute_result"
    }
   ],
   "source": [
    "function std(x)\n",
    "    return (2^2, 2 * x)\n",
    "end"
   ]
  },
  {
   "cell_type": "markdown",
   "id": "53cc1751",
   "metadata": {},
   "source": [
    "What happens if we call the ``std`` function on our random vector?    "
   ]
  },
  {
   "cell_type": "code",
   "execution_count": 135,
   "id": "3a2fe289",
   "metadata": {},
   "outputs": [
    {
     "data": {
      "text/plain": [
       "(4, [1.3903144829116534, 1.6167085700586565, 1.1774375904207675, 0.6751688918060605, 0.5785784074588096, 0.7851893768856046, 1.4480466462390202, 1.6502250399801064, 1.1948370951141465, 1.695519147407488  …  0.859159593261003, 0.8124285429014788, 1.870460218092279, 1.7089009329908997, 1.5621564518310973, 1.0143041685519565, 1.7375532649773386, 1.6308744745865282, 0.30251421567007064, 1.5557770054808162])"
      ]
     },
     "execution_count": 135,
     "metadata": {},
     "output_type": "execute_result"
    }
   ],
   "source": [
    "std(rand_vec)"
   ]
  },
  {
   "cell_type": "markdown",
   "id": "27c3b1d8",
   "metadata": {},
   "source": [
    "This is not exactly what we wanted, and fortunately we can identify that we haven't got a standard deviation fairly quickly. The naming conflict means that the compiler has chosen the highest level definition for the function it can find. Let's insist that is use the ``StatsBase`` method."
   ]
  },
  {
   "cell_type": "code",
   "execution_count": 136,
   "id": "77bf897b",
   "metadata": {},
   "outputs": [
    {
     "data": {
      "text/plain": [
       "0.27009659495816657"
      ]
     },
     "execution_count": 136,
     "metadata": {},
     "output_type": "execute_result"
    }
   ],
   "source": [
    "StatsBase.std(rand_vec)"
   ]
  },
  {
   "cell_type": "markdown",
   "id": "99d16fab",
   "metadata": {},
   "source": [
    "### 3.x Macros\n",
    "\n",
    "Macros are useful sets of instructions that perform multiple tasks and general provide extensible functionality to the language. Julia employs LISP like macros that are denoted with the ``@`` character. Macros are often provided to time operations, profile operations, sync operations, and provide peformance enhancements. A useful list of macros are:\n",
    "\n",
    "1. @time \n",
    "2. @elapsed (allows us to save the time into a variable)\n",
    "3. @btime (benchmark times code: BenchmarkTools package)\n",
    "4. @benchmark (benchmarks code and gives summary: Benchmark Tools package)\n",
    "5. @profile (profiles code: Profile package)\n",
    "6. @sync (synchronises threads: Distributed package)\n",
    "7. CUDA.@sync (synchronises cuda thread: CUDA package)\n",
    "8. @inbounds (turns off bounds checking)\n",
    "9. @simd (activitates SIMD operations)\n",
    "10. @. (broadcasts)"
   ]
  },
  {
   "cell_type": "markdown",
   "id": "7912dffa",
   "metadata": {},
   "source": [
    "### 3.x Broadcasting\n",
    "\n",
    "Most scientific languages have a notion of broadcasting: taking a function and applying it element-wise to a list. Usually, these functions are overloaded in some special way to handle both lists and numbers and one has to remember how to use these functions and which ones offer the special functionality. In Julia broacasting is easy - it's availabe to *every* function. To broadcast a function call simply add a ``.`` after its name. Let's broadcast the ``sin`` and ``exp`` functions:"
   ]
  },
  {
   "cell_type": "code",
   "execution_count": 145,
   "id": "2df1ce43",
   "metadata": {},
   "outputs": [
    {
     "name": "stdout",
     "output_type": "stream",
     "text": [
      "[1.0, 1.1051709180756477, 1.2214027581601699, 1.3498588075760032, 1.4918246976412703, 1.6487212707001282, 1.8221188003905089, 2.0137527074704766, 2.225540928492468, 2.45960311115695, 2.718281828459045, 3.0041660239464334, 3.3201169227365472, 3.6692966676192444, 4.0551999668446745, 4.4816890703380645, 4.953032424395115, 5.4739473917272, 6.0496474644129465, 6.6858944422792685, 7.38905609893065]\n",
      "\n",
      "[0.0, 0.09983341664682815, 0.19866933079506122, 0.29552020666133955, 0.3894183423086505, 0.479425538604203, 0.5646424733950354, 0.644217687237691, 0.7173560908995228, 0.7833269096274834, 0.8414709848078965, 0.8912073600614354, 0.9320390859672263, 0.963558185417193, 0.9854497299884601, 0.9974949866040544, 0.9995736030415051, 0.9916648104524686, 0.9738476308781951, 0.9463000876874145, 0.9092974268256817]\n"
     ]
    }
   ],
   "source": [
    "v = collect(0:0.1:2)\n",
    "broad_exp = exp.(v)\n",
    "broad_sin = sin.(v)\n",
    "\n",
    "println(broad_exp)\n",
    "println()\n",
    "println(broad_sin)"
   ]
  },
  {
   "cell_type": "markdown",
   "id": "156e35f1",
   "metadata": {},
   "source": [
    "These functions might be expected to have a broadcast call natively inbuilt. Let's try it out on our complicated function that we defined earlier: ``asquare``:"
   ]
  },
  {
   "cell_type": "code",
   "execution_count": 149,
   "id": "76466b0b",
   "metadata": {},
   "outputs": [
    {
     "name": "stdout",
     "output_type": "stream",
     "text": [
      "There is a problem\n"
     ]
    },
    {
     "data": {
      "text/plain": [
       "6-element Vector{Any}:\n",
       "   1.0\n",
       "   4.0\n",
       "    [[1.0 2.0; 3.0 4.0], [6.0 8.0; 12.0 16.0]]\n",
       "  16\n",
       " NaN\n",
       "    nothing"
      ]
     },
     "execution_count": 149,
     "metadata": {},
     "output_type": "execute_result"
    }
   ],
   "source": [
    "v_list = [1.0, 2.0, [1 2; 3 4], 4, NaN, [12 12 12; 14 14 14]]\n",
    "asquare.(v_list)"
   ]
  },
  {
   "cell_type": "markdown",
   "id": "9d1ba548",
   "metadata": {},
   "source": [
    "It works just as expected! This is an incredibly powerful tool to have at our disposal and it also allows us to clear our headspace about what is and isn't allowed when we write code. This allows for our code to be both more creative and expressive.\n",
    "    The ``@.`` macro is a simple macro which casts the broadcast operation to every function in the code block. It is quite powerful but there aren't many times when we get a significant gain in expressivity or readability and you often find people tend to favour the ``func.`` methods."
   ]
  },
  {
   "cell_type": "markdown",
   "id": "a919eb63",
   "metadata": {},
   "source": [
    "### 3.x Vectorisation\n",
    "\n",
    "In other scientific languages such as Python, R, and Matlab vectorisation is taught as best practice. We often find ourselves writing a lot of pencil-on-paper linear algebra to find a way to express our code in a vectorised format. We are also taught to avoid loops like the plague. This is because the vectorised functions have been compiled in a special way to use tricks to get a speed up. Loop unrolling is often slow and comes with a performance penalty. We will make use of the ``@btime`` macro from the ``BenchmarkTools`` package to show that there is very little difference between the two in Julia:"
   ]
  },
  {
   "cell_type": "code",
   "execution_count": 120,
   "id": "34d506b2",
   "metadata": {},
   "outputs": [
    {
     "name": "stdout",
     "output_type": "stream",
     "text": [
      "true\n",
      "  3.245 μs (1 allocation: 896 bytes)\n",
      "  4.539 μs (1 allocation: 896 bytes)\n"
     ]
    }
   ],
   "source": [
    "using BenchmarkTools\n",
    "vec_a = rand(100)\n",
    "mat_a = rand(100, 100)\n",
    "\n",
    "function matmul_test(mat, vec)\n",
    "    tmp = zeros(size(mat)[1])\n",
    "    for j = 1:size(mat)[1]\n",
    "        for i = 1:size(mat)[2]\n",
    "            tmp[i] += vec[j] * mat[i, j]\n",
    "        end\n",
    "    end\n",
    "    return tmp\n",
    "end\n",
    "\n",
    "# check they give the same result to within machine precision\n",
    "println(sum(mat_a * vec_a - matmul_test(mat_a, vec_a)) < 1e-7)\n",
    "\n",
    "@btime mat_a * vec_a;\n",
    "@btime matmul_test(mat_a, vec_a);"
   ]
  },
  {
   "cell_type": "markdown",
   "id": "912432b6",
   "metadata": {},
   "source": [
    "The slight edge goes to the vectorised multiplication *but* this was just rough-and-ready code with no performance enhancements. In the next notebook we will go through how to improve this code with some optimisations and we will find it actually *outperforms* the vectorised code. This is, in some sense, remarkable: it allows us to change our workflow and expand our horizons to generically complicated functions *without* the performance hit. As an example think about indexing on every even element on the vector and every odd row on the matrix and performing the same calculation: a pseudo matrix multiply. This would be difficult to vectorise and would require many more memory allocations. It's trivial in the loop format."
   ]
  },
  {
   "cell_type": "markdown",
   "id": "62bfaaa1",
   "metadata": {},
   "source": [
    "## 4.0 Basic Worflow: Notebooks, REPL, Scripting, Packages\n",
    "1. REPL is the default\n",
    "2. Notebooks are useful for creating live documents, sharing and explorations\n",
    "3. Scripts are made for more rigourous projects after you have explored with a notebook\n",
    "4. Revise is useful: don't load the REPL more than once\n",
    "5. Modules are like packages\n",
    "6. Environments are even more like packages."
   ]
  }
 ],
 "metadata": {
  "kernelspec": {
   "display_name": "Julia 1.8.0",
   "language": "julia",
   "name": "julia-1.8"
  },
  "language_info": {
   "file_extension": ".jl",
   "mimetype": "application/julia",
   "name": "julia",
   "version": "1.8.0"
  }
 },
 "nbformat": 4,
 "nbformat_minor": 5
}
