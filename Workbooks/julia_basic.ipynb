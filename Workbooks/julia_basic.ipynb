{
 "cells": [
  {
   "cell_type": "markdown",
   "id": "fa760a15",
   "metadata": {},
   "source": [
    "# Scientific Programming in Julia"
   ]
  },
  {
   "cell_type": "markdown",
   "id": "4b2d1282",
   "metadata": {},
   "source": [
    "## Why Bother?"
   ]
  },
  {
   "cell_type": "markdown",
   "id": "9776a891",
   "metadata": {},
   "source": [
    "## Basic Data Types"
   ]
  },
  {
   "cell_type": "markdown",
   "id": "87508bc1",
   "metadata": {},
   "source": [
    "## Control Flow: if, for, while"
   ]
  },
  {
   "cell_type": "markdown",
   "id": "ec0fef38",
   "metadata": {},
   "source": [
    "## Functions\n",
    "\n",
    "1. Inline\n",
    "2. Defined functions\n",
    "3. Multiple Dispatch\n",
    "4. Parsing by reference / value\n",
    "5. Basic operators (+= ...)"
   ]
  },
  {
   "cell_type": "markdown",
   "id": "8a032931",
   "metadata": {},
   "source": [
    "## Global and Local Workspaces"
   ]
  },
  {
   "cell_type": "markdown",
   "id": "a919eb63",
   "metadata": {},
   "source": [
    "## Vectorisation  and Broadcasting"
   ]
  },
  {
   "cell_type": "markdown",
   "id": "0998a7f2",
   "metadata": {},
   "source": [
    "## Packages"
   ]
  },
  {
   "cell_type": "markdown",
   "id": "62bfaaa1",
   "metadata": {},
   "source": [
    "## Worflow: Scripting, Modules, and Enviroments\n",
    "\n",
    "1. REPL is the default\n",
    "2. Notebooks are useful for creating live documents, sharing and explorations\n",
    "3. Scripts are made for more rigourous projects after you have explored with a notebook\n",
    "4. Revise is useful: don't load the REPL more than once\n",
    "5. Modules are like packages\n",
    "6. Environments are even more like packages."
   ]
  },
  {
   "cell_type": "markdown",
   "id": "dfece53b",
   "metadata": {},
   "source": []
  }
 ],
 "metadata": {
  "kernelspec": {
   "display_name": "Julia 1.8.0",
   "language": "julia",
   "name": "julia-1.8"
  },
  "language_info": {
   "file_extension": ".jl",
   "mimetype": "application/julia",
   "name": "julia",
   "version": "1.8.0"
  }
 },
 "nbformat": 4,
 "nbformat_minor": 5
}
