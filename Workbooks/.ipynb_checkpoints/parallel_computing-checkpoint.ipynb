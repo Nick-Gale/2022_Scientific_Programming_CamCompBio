{
 "cells": [
  {
   "cell_type": "markdown",
   "id": "ba29c4a9",
   "metadata": {},
   "source": [
    "# Parallel Computing\n",
    "\n",
    "Julia has first class support for parallel computing which is becoming increasingly useful with the trend of increasing core counts, access to high performance clusters, and ever more performant GPU technology. In this workbook we will aim to cover the basic concepts of code parallelisation as well as several methods for parallelising code in Julia."
   ]
  },
  {
   "cell_type": "code",
   "execution_count": null,
   "id": "2bbe4e38",
   "metadata": {},
   "outputs": [],
   "source": []
  }
 ],
 "metadata": {
  "kernelspec": {
   "display_name": "Julia 1.8.0",
   "language": "julia",
   "name": "julia-1.8"
  },
  "language_info": {
   "file_extension": ".jl",
   "mimetype": "application/julia",
   "name": "julia",
   "version": "1.8.0"
  }
 },
 "nbformat": 4,
 "nbformat_minor": 5
}
