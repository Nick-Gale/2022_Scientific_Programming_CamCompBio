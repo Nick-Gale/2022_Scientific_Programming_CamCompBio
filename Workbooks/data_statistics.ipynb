{
 "cells": [
  {
   "cell_type": "markdown",
   "id": "d1c3a3ea",
   "metadata": {},
   "source": [
    "# Data and Statistics in Julia"
   ]
  },
  {
   "cell_type": "markdown",
   "id": "febffe2e",
   "metadata": {},
   "source": [
    "## Data Loading"
   ]
  },
  {
   "cell_type": "markdown",
   "id": "b9c123ee",
   "metadata": {},
   "source": [
    "## Data Manipulation"
   ]
  },
  {
   "cell_type": "markdown",
   "id": "4a7561df",
   "metadata": {},
   "source": [
    "## StatsBase and Statistics"
   ]
  },
  {
   "cell_type": "markdown",
   "id": "898cc04f",
   "metadata": {},
   "source": [
    "## Random Sampling"
   ]
  },
  {
   "cell_type": "markdown",
   "id": "3e8cd735",
   "metadata": {},
   "source": [
    "## Statistics on Dataframes"
   ]
  },
  {
   "cell_type": "markdown",
   "id": "88c7acf7",
   "metadata": {},
   "source": [
    "## Plotting"
   ]
  },
  {
   "cell_type": "code",
   "execution_count": null,
   "id": "b7ce04d7",
   "metadata": {},
   "outputs": [],
   "source": []
  }
 ],
 "metadata": {
  "kernelspec": {
   "display_name": "Julia 1.8.0",
   "language": "julia",
   "name": "julia-1.8"
  },
  "language_info": {
   "file_extension": ".jl",
   "mimetype": "application/julia",
   "name": "julia",
   "version": "1.8.0"
  }
 },
 "nbformat": 4,
 "nbformat_minor": 5
}
