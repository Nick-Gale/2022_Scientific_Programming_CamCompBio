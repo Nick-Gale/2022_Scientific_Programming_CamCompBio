{
 "cells": [
  {
   "cell_type": "markdown",
   "id": "ba29c4a9",
   "metadata": {},
   "source": [
    "# Parallel Computing\n",
    "\n",
    "Julia has first class support for parallel computing which is becoming increasingly useful with the trend of increasing core counts, access to high performance clusters, and ever more performant GPU technology. In this workbook we will aim to cover the basic concepts of code parallelisation as well as several methods for parallelising code in Julia.\n",
    "\n",
    "There are two major paradigms for parallel computing: CPU based and GPU based. The CPU based computing paradigm takes several CPU cores and links them together with a control node. The GPU paradigm allows the CPU to load data and code onto a specialised hardware unit, a graphics card, which has many available computing cores (that run at a lower clock speed) which allows for massive speed up of easily parallelisable operations such as matrix calculations."
   ]
  },
  {
   "cell_type": "markdown",
   "id": "9cfb5e85",
   "metadata": {},
   "source": [
    "## 1.0 CPU Based Parallelisation\n",
    "\n",
    "CPU based parallelisation is controlled through the Distributed package in Julia. To use it we first need to load it and then make additional processes available to Julia through the ``addprocs`` function. This lets the Distributed package distribute the workload over a number of cores. It will still work without adding any processes as there is still one process that Julia is running on, but there isn't much point."
   ]
  },
  {
   "cell_type": "code",
   "execution_count": 1,
   "id": "83c2fb88",
   "metadata": {},
   "outputs": [
    {
     "data": {
      "text/plain": [
       "2-element Vector{Int64}:\n",
       " 2\n",
       " 3"
      ]
     },
     "execution_count": 1,
     "metadata": {},
     "output_type": "execute_result"
    }
   ],
   "source": [
    "using Distributed, BenchmarkTools\n",
    "addprocs(2)"
   ]
  },
  {
   "cell_type": "markdown",
   "id": "18ceb602",
   "metadata": {},
   "source": [
    "### 1.1 @distributed\n",
    "\n",
    "The distributed macro is the easiest way to parallelise a ``for`` loop. "
   ]
  },
  {
   "cell_type": "code",
   "execution_count": 2,
   "id": "e0bf1ec2",
   "metadata": {},
   "outputs": [
    {
     "data": {
      "text/plain": [
       "Task (runnable) @0x00007fb6097192c0"
      ]
     },
     "execution_count": 2,
     "metadata": {},
     "output_type": "execute_result"
    }
   ],
   "source": [
    "@distributed for i = 1:10\n",
    "    println(\"This is iteration $(i) performed on worker $(myid())\")\n",
    "end"
   ]
  },
  {
   "cell_type": "markdown",
   "id": "c59b70c4",
   "metadata": {},
   "source": [
    "Now lets perform a trivial task where we compute the function $f(x) = \\sin(x) + \\cos(x)$ for every integer up until 100 million. We will do this using a distritbued for loop and a regular for loop. To get the correct timing for the distributed for loop we have to sync up all of our active threads which we will do using the ``@sync`` macro. We wont record this result anywhere so it's rather wasteful."
   ]
  },
  {
   "cell_type": "code",
   "execution_count": 3,
   "id": "4f4d30dc",
   "metadata": {},
   "outputs": [
    {
     "name": "stdout",
     "output_type": "stream",
     "text": [
      "  4.476269 seconds\n",
      "      From worker 2:\tThis is iteration 1 performed on worker 2\n",
      "      From worker 2:\tThis is iteration 2 performed on worker 2\n",
      "      From worker 2:\tThis is iteration 3 performed on worker 2\n",
      "      From worker 2:\tThis is iteration 4 performed on worker 2\n"
     ]
    }
   ],
   "source": [
    "@time for i = 1:10^8\n",
    "    sin(i) + cos(i)\n",
    "end"
   ]
  },
  {
   "cell_type": "code",
   "execution_count": 4,
   "id": "a650a6d2",
   "metadata": {},
   "outputs": [
    {
     "name": "stdout",
     "output_type": "stream",
     "text": [
      "      From worker 2:\tThis is iteration 5 performed on worker 2\n",
      "      From worker 3:\tThis is iteration 6 performed on worker 3\n",
      "      From worker 3:\tThis is iteration 7 performed on worker 3\n",
      "      From worker 3:\tThis is iteration 8 performed on worker 3\n",
      "      From worker 3:\tThis is iteration 9 performed on worker 3\n",
      "      From worker 3:\tThis is iteration 10 performed on worker 3\n",
      "  2.571765 seconds (78.08 k allocations: 3.778 MiB, 1.95% compilation time: 28% of which was recompilation)\n"
     ]
    },
    {
     "data": {
      "text/plain": [
       "Task (done) @0x00007fb60a2159f0"
      ]
     },
     "execution_count": 4,
     "metadata": {},
     "output_type": "execute_result"
    }
   ],
   "source": [
    "@time @sync @distributed for i = 1:10^8\n",
    "    sin(i) + cos(i)\n",
    "end"
   ]
  },
  {
   "cell_type": "markdown",
   "id": "9bb62f65",
   "metadata": {},
   "source": [
    "We got an almost perfect 2x speed up. That corresponds quite well with the number of processes that we have allocated to Julia. If we wanted a 4x speed up we can add two more process. Again, we will see the process time is halved."
   ]
  },
  {
   "cell_type": "code",
   "execution_count": 5,
   "id": "50f868fd",
   "metadata": {},
   "outputs": [
    {
     "data": {
      "text/plain": [
       "2-element Vector{Int64}:\n",
       " 4\n",
       " 5"
      ]
     },
     "execution_count": 5,
     "metadata": {},
     "output_type": "execute_result"
    }
   ],
   "source": [
    "addprocs(2)"
   ]
  },
  {
   "cell_type": "code",
   "execution_count": 6,
   "id": "e523e6e3",
   "metadata": {},
   "outputs": [
    {
     "name": "stdout",
     "output_type": "stream",
     "text": [
      "  2.234233 seconds (71.66 k allocations: 3.500 MiB, 1.20% compilation time)\n"
     ]
    },
    {
     "data": {
      "text/plain": [
       "Task (done) @0x00007fb60bdbf260"
      ]
     },
     "execution_count": 6,
     "metadata": {},
     "output_type": "execute_result"
    }
   ],
   "source": [
    "@time @sync @distributed for i = 1:10^8\n",
    "    sin(i) + cos(i)\n",
    "end"
   ]
  },
  {
   "cell_type": "markdown",
   "id": "d57a538d",
   "metadata": {},
   "source": [
    "#### 1.1.1 Synchronisation. \n",
    "A small aside here is to think about syncronisation when timing mulitple processes. The @time macro reports the time for a function to be dispatched and the working thread to be available to run another process. In this case the master thread is simply dishing out work to multiple processor but not doing any of it itself. Therefore, to time it properly we have to sync all these threads and wait for them to report their results and this is what the @sync macro does. Syncronisation is an important part of benchmarking high performance tasks and neglecting it will result in some very optimistic timing. Let's remove the @sync macro."
   ]
  },
  {
   "cell_type": "code",
   "execution_count": 7,
   "id": "64964e4d",
   "metadata": {},
   "outputs": [
    {
     "name": "stdout",
     "output_type": "stream",
     "text": [
      "  0.006020 seconds (7.00 k allocations: 373.918 KiB, 99.06% compilation time)\n"
     ]
    },
    {
     "data": {
      "text/plain": [
       "Task (runnable) @0x00007fb839df26e0"
      ]
     },
     "execution_count": 7,
     "metadata": {},
     "output_type": "execute_result"
    }
   ],
   "source": [
    "@time @distributed for i = 1:10^8\n",
    "    sin(i) + cos(i)\n",
    "end"
   ]
  },
  {
   "cell_type": "markdown",
   "id": "3500bd37",
   "metadata": {},
   "source": [
    "### 1.3 Shared Packages and Functions: @everywhere \n",
    "Suppose we are interested in the random variable $Z \\sim \\sin(X) + \\cos(X)$ where $X \\sim U([0,1])$. We would like to know roughly how many samples it takes to a reasonable estimate of the mean. To do this we might write a simple function to calculate the mean and run a for loop which generates succesively larger samples of random numbers. We know that this will take a while so we want to parallelise it to speed things up."
   ]
  },
  {
   "cell_type": "code",
   "execution_count": 8,
   "id": "e389b4cb",
   "metadata": {},
   "outputs": [
    {
     "data": {
      "text/plain": [
       "Task (runnable) @0x00007fb83a083540"
      ]
     },
     "execution_count": 8,
     "metadata": {},
     "output_type": "execute_result"
    }
   ],
   "source": [
    "function custom_mean(x::Array{Float64,1})\n",
    "    return sum(x) / length(x)\n",
    "end\n",
    "\n",
    "@distributed for i = 1:250\n",
    "    X = rand(i);\n",
    "    Z = sin.(X) + cos.(X)\n",
    "    res = custom_mean(Z)\n",
    "end"
   ]
  },
  {
   "cell_type": "markdown",
   "id": "595d49f4",
   "metadata": {},
   "source": [
    "This results in an error. Each time we add a new process we are essentially starting up a new Julia enviroment and so these processes wont know about any custom functions or functions imported from packages. The Julia base packages will be available to the new threads, but it is likely we will go further than these. To let the threads know about new functions we make use of the ``@everywhere`` macro."
   ]
  },
  {
   "cell_type": "code",
   "execution_count": 9,
   "id": "c6d9ce3d",
   "metadata": {},
   "outputs": [
    {
     "data": {
      "text/plain": [
       "Task (runnable) @0x00007fb60a216850"
      ]
     },
     "execution_count": 9,
     "metadata": {},
     "output_type": "execute_result"
    }
   ],
   "source": [
    "@everywhere function distributed_custom_mean(x::Array{Float64,1})\n",
    "    return sum(x) / length(x)\n",
    "end\n",
    "\n",
    "@distributed for i = 1:250\n",
    "    X = rand(i);\n",
    "    Z = sin.(X) + cos.(X)\n",
    "    res = distributed_custom_mean(Z)\n",
    "end"
   ]
  },
  {
   "cell_type": "markdown",
   "id": "459dd80f",
   "metadata": {},
   "source": [
    "The ``@everywhere`` macro applies equally well to packages. Let's try it out with the StatsBase package."
   ]
  },
  {
   "cell_type": "code",
   "execution_count": 10,
   "id": "8da4e5a7",
   "metadata": {},
   "outputs": [
    {
     "name": "stderr",
     "output_type": "stream",
     "text": [
      "\u001b[91m\u001b[1mUnhandled Task \u001b[22m\u001b[39m\u001b[91m\u001b[1mERROR: \u001b[22m\u001b[39mOn worker 2:\n",
      "UndefVarError: #custom_mean not defined\n",
      "Stacktrace:\n",
      "  [1] \u001b[0m\u001b[1mdeserialize_datatype\u001b[22m\n",
      "\u001b[90m    @ \u001b[39m\u001b[90m/opt/julia-1.8.0/share/julia/stdlib/v1.8/Serialization/src/\u001b[39m\u001b[90m\u001b[4mSerialization.jl:1364\u001b[24m\u001b[39m\n",
      "  [2] \u001b[0m\u001b[1mhandle_deserialize\u001b[22m\n",
      "\u001b[90m    @ \u001b[39m\u001b[90m/opt/julia-1.8.0/share/julia/stdlib/v1.8/Serialization/src/\u001b[39m\u001b[90m\u001b[4mSerialization.jl:866\u001b[24m\u001b[39m\n",
      "  [3] \u001b[0m\u001b[1mdeserialize\u001b[22m\n",
      "\u001b[90m    @ \u001b[39m\u001b[90m/opt/julia-1.8.0/share/julia/stdlib/v1.8/Serialization/src/\u001b[39m\u001b[90m\u001b[4mSerialization.jl:813\u001b[24m\u001b[39m\n",
      "  [4] \u001b[0m\u001b[1mhandle_deserialize\u001b[22m\n",
      "\u001b[90m    @ \u001b[39m\u001b[90m/opt/julia-1.8.0/share/julia/stdlib/v1.8/Serialization/src/\u001b[39m\u001b[90m\u001b[4mSerialization.jl:873\u001b[24m\u001b[39m\n",
      "  [5] \u001b[0m\u001b[1mdeserialize\u001b[22m\n",
      "\u001b[90m    @ \u001b[39m\u001b[90m/opt/julia-1.8.0/share/julia/stdlib/v1.8/Serialization/src/\u001b[39m\u001b[90m\u001b[4mSerialization.jl:813\u001b[24m\u001b[39m\u001b[90m [inlined]\u001b[39m\n",
      "  [6] \u001b[0m\u001b[1mdeserialize_global_from_main\u001b[22m\n",
      "\u001b[90m    @ \u001b[39m\u001b[90m/opt/julia-1.8.0/share/julia/stdlib/v1.8/Distributed/src/\u001b[39m\u001b[90m\u001b[4mclusterserialize.jl:160\u001b[24m\u001b[39m\n",
      "  [7] \u001b[0m\u001b[1m#5\u001b[22m\n",
      "\u001b[90m    @ \u001b[39m\u001b[90m/opt/julia-1.8.0/share/julia/stdlib/v1.8/Distributed/src/\u001b[39m\u001b[90m\u001b[4mclusterserialize.jl:72\u001b[24m\u001b[39m\u001b[90m [inlined]\u001b[39m\n",
      "  [8] \u001b[0m\u001b[1mforeach\u001b[22m\n",
      "\u001b[90m    @ \u001b[39m\u001b[90m./\u001b[39m\u001b[90m\u001b[4mabstractarray.jl:2774\u001b[24m\u001b[39m\n",
      "  [9] \u001b[0m\u001b[1mdeserialize\u001b[22m\n",
      "\u001b[90m    @ \u001b[39m\u001b[90m/opt/julia-1.8.0/share/julia/stdlib/v1.8/Distributed/src/\u001b[39m\u001b[90m\u001b[4mclusterserialize.jl:72\u001b[24m\u001b[39m\n",
      " [10] \u001b[0m\u001b[1mhandle_deserialize\u001b[22m\n",
      "\u001b[90m    @ \u001b[39m\u001b[90m/opt/julia-1.8.0/share/julia/stdlib/v1.8/Serialization/src/\u001b[39m\u001b[90m\u001b[4mSerialization.jl:959\u001b[24m\u001b[39m\n",
      " [11] \u001b[0m\u001b[1mdeserialize\u001b[22m\n",
      "\u001b[90m    @ \u001b[39m\u001b[90m/opt/julia-1.8.0/share/julia/stdlib/v1.8/Serialization/src/\u001b[39m\u001b[90m\u001b[4mSerialization.jl:813\u001b[24m\u001b[39m\n",
      " [12] \u001b[0m\u001b[1mhandle_deserialize\u001b[22m\n",
      "\u001b[90m    @ \u001b[39m\u001b[90m/opt/julia-1.8.0/share/julia/stdlib/v1.8/Serialization/src/\u001b[39m\u001b[90m\u001b[4mSerialization.jl:870\u001b[24m\u001b[39m\n",
      " [13] \u001b[0m\u001b[1mdeserialize\u001b[22m\n",
      "\u001b[90m    @ \u001b[39m\u001b[90m/opt/julia-1.8.0/share/julia/stdlib/v1.8/Serialization/src/\u001b[39m\u001b[90m\u001b[4mSerialization.jl:813\u001b[24m\u001b[39m\n",
      " [14] \u001b[0m\u001b[1mdeserialize_datatype\u001b[22m\n",
      "\u001b[90m    @ \u001b[39m\u001b[90m/opt/julia-1.8.0/share/julia/stdlib/v1.8/Serialization/src/\u001b[39m\u001b[90m\u001b[4mSerialization.jl:1388\u001b[24m\u001b[39m\n",
      " [15] \u001b[0m\u001b[1mhandle_deserialize\u001b[22m\n",
      "\u001b[90m    @ \u001b[39m\u001b[90m/opt/julia-1.8.0/share/julia/stdlib/v1.8/Serialization/src/\u001b[39m\u001b[90m\u001b[4mSerialization.jl:866\u001b[24m\u001b[39m\n",
      " [16] \u001b[0m\u001b[1mdeserialize\u001b[22m\n",
      "\u001b[90m    @ \u001b[39m\u001b[90m/opt/julia-1.8.0/share/julia/stdlib/v1.8/Serialization/src/\u001b[39m\u001b[90m\u001b[4mSerialization.jl:813\u001b[24m\u001b[39m\n",
      " [17] \u001b[0m\u001b[1mhandle_deserialize\u001b[22m\n",
      "\u001b[90m    @ \u001b[39m\u001b[90m/opt/julia-1.8.0/share/julia/stdlib/v1.8/Serialization/src/\u001b[39m\u001b[90m\u001b[4mSerialization.jl:873\u001b[24m\u001b[39m\n",
      " [18] \u001b[0m\u001b[1mdeserialize\u001b[22m\n",
      "\u001b[90m    @ \u001b[39m\u001b[90m/opt/julia-1.8.0/share/julia/stdlib/v1.8/Serialization/src/\u001b[39m\u001b[90m\u001b[4mSerialization.jl:813\u001b[24m\u001b[39m\u001b[90m [inlined]\u001b[39m\n",
      " [19] \u001b[0m\u001b[1mdeserialize_msg\u001b[22m\n",
      "\u001b[90m    @ \u001b[39m\u001b[90m/opt/julia-1.8.0/share/julia/stdlib/v1.8/Distributed/src/\u001b[39m\u001b[90m\u001b[4mmessages.jl:87\u001b[24m\u001b[39m\n",
      " [20] \u001b[0m\u001b[1m#invokelatest#2\u001b[22m\n",
      "\u001b[90m    @ \u001b[39m\u001b[90m./\u001b[39m\u001b[90m\u001b[4messentials.jl:729\u001b[24m\u001b[39m\u001b[90m [inlined]\u001b[39m\n",
      " [21] \u001b[0m\u001b[1minvokelatest\u001b[22m\n",
      "\u001b[90m    @ \u001b[39m\u001b[90m./\u001b[39m\u001b[90m\u001b[4messentials.jl:726\u001b[24m\u001b[39m\u001b[90m [inlined]\u001b[39m\n",
      " [22] \u001b[0m\u001b[1mmessage_handler_loop\u001b[22m\n",
      "\u001b[90m    @ \u001b[39m\u001b[90m/opt/julia-1.8.0/share/julia/stdlib/v1.8/Distributed/src/\u001b[39m\u001b[90m\u001b[4mprocess_messages.jl:176\u001b[24m\u001b[39m\n",
      " [23] \u001b[0m\u001b[1mprocess_tcp_streams\u001b[22m\n",
      "\u001b[90m    @ \u001b[39m\u001b[90m/opt/julia-1.8.0/share/julia/stdlib/v1.8/Distributed/src/\u001b[39m\u001b[90m\u001b[4mprocess_messages.jl:133\u001b[24m\u001b[39m\n",
      " [24] \u001b[0m\u001b[1m#103\u001b[22m\n",
      "\u001b[90m    @ \u001b[39m\u001b[90m./\u001b[39m\u001b[90m\u001b[4mtask.jl:484\u001b[24m\u001b[39m\n",
      "\n",
      "...and 3 more exceptions.\n",
      "\n",
      "Stacktrace:\n",
      " [1] \u001b[0m\u001b[1msync_end\u001b[22m\u001b[0m\u001b[1m(\u001b[22m\u001b[90mc\u001b[39m::\u001b[0mChannel\u001b[90m{Any}\u001b[39m\u001b[0m\u001b[1m)\u001b[22m\n",
      "\u001b[90m   @ \u001b[39m\u001b[90mBase\u001b[39m \u001b[90m./\u001b[39m\u001b[90m\u001b[4mtask.jl:436\u001b[24m\u001b[39m\n",
      " [2] \u001b[0m\u001b[1m(::Distributed.var\"#177#179\"{var\"#9#10\", UnitRange{Int64}})\u001b[22m\u001b[0m\u001b[1m(\u001b[22m\u001b[0m\u001b[1m)\u001b[22m\n",
      "\u001b[90m   @ \u001b[39m\u001b[35mDistributed\u001b[39m \u001b[90m./\u001b[39m\u001b[90m\u001b[4mtask.jl:455\u001b[24m\u001b[39m\n"
     ]
    },
    {
     "data": {
      "text/plain": [
       "Task (runnable) @0x00007fb83b0726e0"
      ]
     },
     "execution_count": 10,
     "metadata": {},
     "output_type": "execute_result"
    }
   ],
   "source": [
    "@everywhere using StatsBase\n",
    "\n",
    "@distributed for i = 1:250\n",
    "    X = rand(i);\n",
    "    Z = sin.(X) + cos.(X)\n",
    "    res_av = mean(Z)\n",
    "    res_std = std(Z)\n",
    "end"
   ]
  },
  {
   "cell_type": "markdown",
   "id": "c67e6d07",
   "metadata": {},
   "source": [
    "### 1.3 Shared memory\n",
    "\n",
    "Performing a calculation solely in a loop is not very useful. More often than not we will want to write some data that arises from the calculation to a memory address so that we can access it later. Let's try and naively write the results of our last calculation into a results vector."
   ]
  },
  {
   "cell_type": "code",
   "execution_count": 11,
   "id": "fc8e20fd",
   "metadata": {},
   "outputs": [
    {
     "name": "stdout",
     "output_type": "stream",
     "text": [
      "[0.0, 0.0, 0.0, 0.0, 0.0, 0.0, 0.0, 0.0, 0.0, 0.0, 0.0, 0.0, 0.0, 0.0, 0.0, 0.0, 0.0, 0.0, 0.0, 0.0, 0.0, 0.0, 0.0, 0.0, 0.0, 0.0, 0.0, 0.0, 0.0, 0.0, 0.0, 0.0, 0.0, 0.0, 0.0, 0.0, 0.0, 0.0, 0.0, 0.0, 0.0, 0.0, 0.0, 0.0, 0.0, 0.0, 0.0, 0.0, 0.0, 0.0, 0.0, 0.0, 0.0, 0.0, 0.0, 0.0, 0.0, 0.0, 0.0, 0.0, 0.0, 0.0, 0.0, 0.0, 0.0, 0.0, 0.0, 0.0, 0.0, 0.0, 0.0, 0.0, 0.0, 0.0, 0.0, 0.0, 0.0, 0.0, 0.0, 0.0, 0.0, 0.0, 0.0, 0.0, 0.0, 0.0, 0.0, 0.0, 0.0, 0.0, 0.0, 0.0, 0.0, 0.0, 0.0, 0.0, 0.0, 0.0, 0.0, 0.0, 0.0, 0.0, 0.0, 0.0, 0.0, 0.0, 0.0, 0.0, 0.0, 0.0, 0.0, 0.0, 0.0, 0.0, 0.0, 0.0, 0.0, 0.0, 0.0, 0.0, 0.0, 0.0, 0.0, 0.0, 0.0, 0.0, 0.0, 0.0, 0.0, 0.0, 0.0, 0.0, 0.0, 0.0, 0.0, 0.0, 0.0, 0.0, 0.0, 0.0, 0.0, 0.0, 0.0, 0.0, 0.0, 0.0, 0.0, 0.0, 0.0, 0.0, 0.0, 0.0, 0.0, 0.0, 0.0, 0.0, 0.0, 0.0, 0.0, 0.0, 0.0, 0.0, 0.0, 0.0, 0.0, 0.0, 0.0, 0.0, 0.0, 0.0, 0.0, 0.0, 0.0, 0.0, 0.0, 0.0, 0.0, 0.0, 0.0, 0.0, 0.0, 0.0, 0.0, 0.0, 0.0, 0.0, 0.0, 0.0, 0.0, 0.0, 0.0, 0.0, 0.0, 0.0, 0.0, 0.0, 0.0, 0.0, 0.0, 0.0, 0.0, 0.0, 0.0, 0.0, 0.0, 0.0, 0.0, 0.0, 0.0, 0.0, 0.0, 0.0, 0.0, 0.0, 0.0, 0.0, 0.0, 0.0, 0.0, 0.0, 0.0, 0.0, 0.0, 0.0, 0.0, 0.0, 0.0, 0.0, 0.0, 0.0, 0.0, 0.0, 0.0, 0.0, 0.0, 0.0, 0.0, 0.0, 0.0, 0.0, 0.0, 0.0, 0.0, 0.0, 0.0, 0.0, 0.0, 0.0, 0.0, 0.0]\n",
      "[0.0, 0.0, 0.0, 0.0, 0.0, 0.0, 0.0, 0.0, 0.0, 0.0, 0.0, 0.0, 0.0, 0.0, 0.0, 0.0, 0.0, 0.0, 0.0, 0.0, 0.0, 0.0, 0.0, 0.0, 0.0, 0.0, 0.0, 0.0, 0.0, 0.0, 0.0, 0.0, 0.0, 0.0, 0.0, 0.0, 0.0, 0.0, 0.0, 0.0, 0.0, 0.0, 0.0, 0.0, 0.0, 0.0, 0.0, 0.0, 0.0, 0.0, 0.0, 0.0, 0.0, 0.0, 0.0, 0.0, 0.0, 0.0, 0.0, 0.0, 0.0, 0.0, 0.0, 0.0, 0.0, 0.0, 0.0, 0.0, 0.0, 0.0, 0.0, 0.0, 0.0, 0.0, 0.0, 0.0, 0.0, 0.0, 0.0, 0.0, 0.0, 0.0, 0.0, 0.0, 0.0, 0.0, 0.0, 0.0, 0.0, 0.0, 0.0, 0.0, 0.0, 0.0, 0.0, 0.0, 0.0, 0.0, 0.0, 0.0, 0.0, 0.0, 0.0, 0.0, 0.0, 0.0, 0.0, 0.0, 0.0, 0.0, 0.0, 0.0, 0.0, 0.0, 0.0, 0.0, 0.0, 0.0, 0.0, 0.0, 0.0, 0.0, 0.0, 0.0, 0.0, 0.0, 0.0, 0.0, 0.0, 0.0, 0.0, 0.0, 0.0, 0.0, 0.0, 0.0, 0.0, 0.0, 0.0, 0.0, 0.0, 0.0, 0.0, 0.0, 0.0, 0.0, 0.0, 0.0, 0.0, 0.0, 0.0, 0.0, 0.0, 0.0, 0.0, 0.0, 0.0, 0.0, 0.0, 0.0, 0.0, 0.0, 0.0, 0.0, 0.0, 0.0, 0.0, 0.0, 0.0, 0.0, 0.0, 0.0, 0.0, 0.0, 0.0, 0.0, 0.0, 0.0, 0.0, 0.0, 0.0, 0.0, 0.0, 0.0, 0.0, 0.0, 0.0, 0.0, 0.0, 0.0, 0.0, 0.0, 0.0, 0.0, 0.0, 0.0, 0.0, 0.0, 0.0, 0.0, 0.0, 0.0, 0.0, 0.0, 0.0, 0.0, 0.0, 0.0, 0.0, 0.0, 0.0, 0.0, 0.0, 0.0, 0.0, 0.0, 0.0, 0.0, 0.0, 0.0, 0.0, 0.0, 0.0, 0.0, 0.0, 0.0, 0.0, 0.0, 0.0, 0.0, 0.0, 0.0, 0.0, 0.0, 0.0, 0.0, 0.0, 0.0, 0.0, 0.0, 0.0, 0.0, 0.0, 0.0, 0.0, 0.0, 0.0, 0.0, 0.0, 0.0]\n"
     ]
    }
   ],
   "source": [
    "L = 250\n",
    "res_av = zeros(L)\n",
    "res_std = zeros(L)\n",
    "@distributed for i = 1:L\n",
    "    X = rand(i);\n",
    "    Z = sin.(X) + cos.(X)\n",
    "    res_av[i] = mean(Z)\n",
    "    res_std[i] = std(Z)\n",
    "end\n",
    "println(res_av)\n",
    "println(res_std)"
   ]
  },
  {
   "cell_type": "markdown",
   "id": "8f3b78a1",
   "metadata": {},
   "source": [
    "This did not work. The reason is because each of the threads that we intialised did not have access to the ``res`` vector; it was exclusively owned by the thread that created it. To get around this we need memory that is *shared*.\n",
    "\n",
    "The concept of shared memory is very important in parallel computing: the individual processes do not know about each other and typically do not have access to each others data. Sharing data, and indeed modifying data after the result of a computation, is tricky with parallel computing because the threads handle operations *asynchronolously* and if two parallel threads try and access the same bit of shared memory at the same time this can lead to a *race* condition. Race conditions are one of the most common (and frustrating) sources of error in parallel computation paradigms. Shared memory is handled in Julia via SharedArrays and deals with many of the nasty gotcha's in the parallel computation setup. Let's create a SharedArray and modify it."
   ]
  },
  {
   "cell_type": "code",
   "execution_count": 12,
   "id": "c9193e16",
   "metadata": {},
   "outputs": [],
   "source": [
    "@everywhere using SharedArrays"
   ]
  },
  {
   "cell_type": "code",
   "execution_count": 13,
   "id": "fb2a8d87",
   "metadata": {},
   "outputs": [
    {
     "name": "stdout",
     "output_type": "stream",
     "text": [
      "[1.3507768204270891, 1.3964171290885194, 1.1584675196198997, 1.3977156502574246, 1.2742749948039935, 1.258662186094655, 1.286060364465411, 1.3073484254470136, 1.2673255111489887, 1.306501040171104, 1.3389819126712985, 1.3487564959693223, 1.3352083336321459, 1.2856325027821744, 1.339743609462649, 1.252744171385895, 1.2745508544466506, 1.2995467027524135, 1.3093245300422776, 1.259480396947157, 1.2990077890767395, 1.2825572629571937, 1.3012847616209033, 1.3044621236387146, 1.3159916046884481, 1.2648059344067792, 1.3319201842237045, 1.2434551383282204, 1.3381040178091892, 1.2863133965368454, 1.276274227568296, 1.3261925850782021, 1.3140821323813818, 1.3136389815527485, 1.3135022349723744, 1.3090176533053943, 1.3040625574056541, 1.3070111686887107, 1.321288899957135, 1.3235310855943887, 1.3122566906271358, 1.304492349896226, 1.3028736685046851, 1.2954565428744584, 1.286525026564539, 1.28260593731729, 1.271376221679689, 1.298537688947196, 1.3029290647805603, 1.3016323790242785, 1.2905169293201024, 1.313857102319079, 1.2859376200340507, 1.3053881031259438, 1.2784246922893139, 1.2917598270637876, 1.2734930791876249, 1.295490415977283, 1.3217841114282922, 1.3087293871486352, 1.3093403141753137, 1.3121811050479972, 1.3150036526881888, 1.2744624890054337, 1.324965894870785, 1.316407448303425, 1.318430020573035, 1.293392601688815, 1.2972619171194446, 1.3084525379125602, 1.3119876976201033, 1.282784887392677, 1.2966772133081534, 1.2853988544954724, 1.3070802668856112, 1.323375612907246, 1.2969791294366733, 1.3144189282948089, 1.2706542150965032, 1.3111081352345744, 1.2868919726675359, 1.3152910690706356, 1.3238978965164598, 1.3104227250416338, 1.2725444757345958, 1.283735343362267, 1.304701635884209, 1.2947753221562799, 1.275947007668444, 1.314461828229282, 1.294531931282635, 1.2925735087666304, 1.3157614632036094, 1.3046701242976733, 1.290547099879836, 1.3205449000387768, 1.3091348398556593, 1.3065504183334882, 1.29102251604969, 1.304301986938785, 1.295945556792572, 1.3110191503563478, 1.3030365990049937, 1.3108689018373647, 1.2987568782164574, 1.3060475419694506, 1.3312538612019458, 1.305103395921723, 1.2851392441494387, 1.3164557159709867, 1.3105506091478971, 1.2999424105689206, 1.3002955656832542, 1.307456700336443, 1.2990595946854715, 1.3144369104238125, 1.3300299805027884, 1.292570656539437, 1.3063395404244211, 1.2824449101130553, 1.314008273904347, 1.301232300427685, 1.3253887603708028, 1.3158890641302294, 1.311939010411503, 1.3007940050004272, 1.3195676062946056, 1.3188561750704126, 1.2876212700065368, 1.3079791515052528, 1.310517416794125, 1.3140495046383214, 1.3024558236597006, 1.311876891262444, 1.282684203414343, 1.2887142367413955, 1.2930579758140588, 1.2884303824769134, 1.2986988796653893, 1.311095458338281, 1.2909635824204515, 1.2837214032269462, 1.3090289342201586, 1.3171247203647514, 1.2875325535674742, 1.3020169512354558, 1.2980519761167497, 1.2943569242526591, 1.3063616084260556, 1.306790604267104, 1.2999892618700182, 1.3070077172365142, 1.3059892750487732, 1.3078954942587646, 1.314506257168078, 1.3062933063935318, 1.295298866710524, 1.317034057847798, 1.3048190237355133, 1.3176631591777717, 1.2988569034913378, 1.2833073741986625, 1.3009935967419577, 1.303785520235444, 1.304033708656083, 1.3013598319074449, 1.2924157318030693, 1.2931427925553034, 1.2980671826016, 1.3012143857134855, 1.2847468644461713, 1.2935205910026217, 1.3037725044572281, 1.3016018897249233, 1.3104235435511753, 1.2971034258166902, 1.310869591908584, 1.3015662348886614, 1.3017363808538986, 1.3150890031043767, 1.3045285910850246, 1.300957277277511, 1.300066325444507, 1.2881031896685575, 1.2978055884505681, 1.3073006204559605, 1.3062085999838655, 1.3027569713683118, 1.3025938639801429, 1.3089109626854551, 1.3079390627407548, 1.303028790454999, 1.2967376982084429, 1.3080562550120598, 1.3094407759684767, 1.2928068759007874, 1.2938018471999984, 1.2945168078016671, 1.3008750243673524, 1.287644547287106, 1.3049961253673141, 1.3086202183936457, 1.297225545418048, 1.303998460979808, 1.2977464200200846, 1.2893296652494315, 1.3030249026243363, 1.283259855494776, 1.3072808517499606, 1.3039559701974672, 1.2911391972049358, 1.2870171303378777, 1.294918211392523, 1.3101480527637739, 1.2956243193195993, 1.2808850377152, 1.3094401040481667, 1.294109699965321, 1.3079301865406312, 1.2968203936472682, 1.304147692162144, 1.300669983228314, 1.3042360952337932, 1.3028938187280306, 1.2980069458089856, 1.2982543324599105, 1.298675847581017, 1.3016709369325927, 1.3084714637595414, 1.307372605998309, 1.3085024431224748, 1.2848648964589928, 1.3023291628493894, 1.2969824318594056, 1.2907828066477869, 1.307603489022229, 1.3210884695886165, 1.2971875804679236, 1.3086819941819021, 1.2944084850647681, 1.3106397752308214, 1.2992287395908468, 1.28234456178458, 1.296927143839413, 1.3121525819817432, 1.302746156844452, 1.3029129062077782, 1.3100710469349448, 1.3135814265064987, 1.3211790768429008]\n",
      "[NaN, 0.01901477814929581, 0.12854908486410047, 0.021829952353172623, 0.12230746693029555, 0.15300883786447766, 0.1484820188352844, 0.11904189290630418, 0.16915358754710952, 0.11639439232115766, 0.10861691427539819, 0.09244401371439977, 0.11012178868417667, 0.13599936057340845, 0.11474705415743292, 0.15478540744597075, 0.11437287910925506, 0.1198850626176269, 0.10830186081150225, 0.12003635602425217, 0.14286211228434678, 0.12576838897987017, 0.13024334748696426, 0.12485807203183072, 0.11777914506707933, 0.1306326795150029, 0.09834660170287199, 0.1552682134500988, 0.0963845257252762, 0.12624713431683546, 0.129629025336291, 0.10292138332430589, 0.11362304409419546, 0.13031202295548228, 0.11646696138049291, 0.12767874013193245, 0.11960866532455165, 0.11997654580518399, 0.12411661155326006, 0.11374189810481049, 0.11799203105270684, 0.12414016778360802, 0.12548568409692862, 0.12064078709909741, 0.13074301084689866, 0.12506934900515843, 0.12638696696831864, 0.13447871735579128, 0.12042058975502164, 0.12271426972130338, 0.12063381481628536, 0.11063328742728695, 0.12548177727657575, 0.1242554364794973, 0.12269373202501187, 0.12463453327461992, 0.12228764196298597, 0.12834298355494922, 0.10211832961911897, 0.11231663430713741, 0.11847831286519543, 0.11249292765005504, 0.11811350218369568, 0.1363914343337152, 0.11532431883954244, 0.11174812114946138, 0.1086514652233626, 0.12662047352952985, 0.12021939946948433, 0.10937948542744244, 0.12008960703059018, 0.12744027053286341, 0.132354195752099, 0.12213413421984509, 0.12494172015158655, 0.11032298725179124, 0.11978088388102547, 0.11028355909137656, 0.13014397592721585, 0.11920441040167828, 0.13591066421090423, 0.11276233473210101, 0.11232195464290845, 0.12094690101277633, 0.12532252834651914, 0.13707928591533847, 0.12723556839115563, 0.12583284038972728, 0.13941373657383177, 0.12177560812663218, 0.12280192419764377, 0.11765172849880755, 0.10780036812700032, 0.11512918104233939, 0.1347005382806661, 0.1158698778896685, 0.12554927349279252, 0.11838010617992216, 0.13192330913776798, 0.12190688311657825, 0.1278529459601395, 0.12218559179618477, 0.12470015484430423, 0.11171805849631651, 0.13053506139890317, 0.1279542993218512, 0.10384144962402872, 0.12091686779801543, 0.1348538939825008, 0.11560919853026812, 0.11691036320718448, 0.12273591547709925, 0.11550225185616078, 0.1173168266053996, 0.12499314001160129, 0.11121387021823825, 0.10849879011430422, 0.12325688288075778, 0.11628524137953283, 0.13811989982838507, 0.10840351480737444, 0.1236528333902938, 0.10958904283333476, 0.11495474299649085, 0.1093054349571099, 0.11672549885350433, 0.10985336542056362, 0.11361660296903413, 0.13542429575618742, 0.11656051957297825, 0.12174027914558136, 0.11786050278853966, 0.11861174514848552, 0.11502443759247356, 0.13753978870350994, 0.12526469089223738, 0.12841921591640185, 0.13329725048439717, 0.1263130896655871, 0.11616199789173134, 0.1303475315739901, 0.1349507496042351, 0.11428541451563927, 0.1091865531133113, 0.13326977968199138, 0.1270061276210836, 0.11923310897895217, 0.12239339142365502, 0.12304375738108189, 0.12305821422961583, 0.11627128302853866, 0.1233377493575214, 0.12786449737127892, 0.11972759853747114, 0.12061584956098319, 0.12531756541542147, 0.1222515256647113, 0.1160870502741855, 0.1283463656936944, 0.11878515899172387, 0.1174765136347767, 0.13943530782057575, 0.12520208906559774, 0.12230113875414085, 0.12087629447427738, 0.12780552539076376, 0.12090050735510309, 0.12137041840761516, 0.12681279269258625, 0.11602466207663437, 0.13603848375527605, 0.11952473614607086, 0.11989220262672719, 0.12147015962952978, 0.1193398893516403, 0.12436401091869631, 0.11985634754723219, 0.12339975557120081, 0.12627227570423874, 0.12342805617962228, 0.12366605866610722, 0.11876598757951769, 0.11974255562647938, 0.12743105503805607, 0.11996958486121484, 0.11915853878153199, 0.12403229065155284, 0.11852901282369513, 0.11511982481226027, 0.11506827724926094, 0.12162834998432921, 0.11974871752057567, 0.133940968488333, 0.12476354192701038, 0.12258099971349952, 0.12373318551150396, 0.1249816605629665, 0.1306701245860645, 0.12613690428226743, 0.12930291126355398, 0.11781739296591674, 0.11637100974556716, 0.12565639744611048, 0.12043896681835195, 0.1259867876049101, 0.13015163645924896, 0.12616910870092055, 0.13454723481655512, 0.12425520899625425, 0.12112681572231951, 0.12638769226363566, 0.13614596445173946, 0.13019173580267424, 0.11352135609278928, 0.12297141397180748, 0.1301783786579701, 0.12009050875171039, 0.12223897104893118, 0.1155306606075194, 0.12372190630455769, 0.11378175193540943, 0.11938494437187935, 0.11762890716444112, 0.12578384968611772, 0.1280252555934763, 0.1262124398016091, 0.12956864278089716, 0.11947534274530539, 0.1200286774418981, 0.12023888860604995, 0.11641150193616204, 0.13158154932187083, 0.12730087825007091, 0.12323751230457021, 0.12564263522682498, 0.11269944246936477, 0.11618345189444262, 0.12662688283712303, 0.11635332253064164, 0.12975827062428788, 0.1294895939529374, 0.12592692470202108, 0.13715137763652469, 0.12476078468010501, 0.11801914096960162, 0.11975963253113353, 0.1177320685618862, 0.1207961503517291, 0.11849605811948752, 0.10683030786960461]\n"
     ]
    }
   ],
   "source": [
    "res_shared_av = SharedArray(zeros(L))\n",
    "res_shared_std = SharedArray(zeros(L))\n",
    "@sync @distributed for i = 1:L\n",
    "    X = rand(i)\n",
    "    Z = sin.(X) + cos.(X)\n",
    "    res_shared_av[i] = mean(Z)\n",
    "    res_shared_std[i] = std(Z)\n",
    "end\n",
    "println(res_shared_av)\n",
    "println(res_shared_std)"
   ]
  },
  {
   "cell_type": "markdown",
   "id": "e6cc86c2",
   "metadata": {},
   "source": [
    "That is looking much more realistic. Now we can plot the results to get a intiutive feel about how long many samples we require from this complicated distribution to get a reasonable estimate about these statistics. It seems that 150 will be sufficient for most purposes!"
   ]
  },
  {
   "cell_type": "code",
   "execution_count": 14,
   "id": "e1684aa4",
   "metadata": {},
   "outputs": [
    {
     "data": {
      "image/svg+xml": [
       "<?xml version=\"1.0\" encoding=\"utf-8\"?>\n",
       "<svg xmlns=\"http://www.w3.org/2000/svg\" xmlns:xlink=\"http://www.w3.org/1999/xlink\" width=\"600\" height=\"400\" viewBox=\"0 0 2400 1600\">\n",
       "<defs>\n",
       "  <clipPath id=\"clip670\">\n",
       "    <rect x=\"0\" y=\"0\" width=\"2400\" height=\"1600\"/>\n",
       "  </clipPath>\n",
       "</defs>\n",
       "<path clip-path=\"url(#clip670)\" d=\"\n",
       "M0 1600 L2400 1600 L2400 0 L0 0  Z\n",
       "  \" fill=\"#ffffff\" fill-rule=\"evenodd\" fill-opacity=\"1\"/>\n",
       "<defs>\n",
       "  <clipPath id=\"clip671\">\n",
       "    <rect x=\"480\" y=\"0\" width=\"1681\" height=\"1600\"/>\n",
       "  </clipPath>\n",
       "</defs>\n",
       "<path clip-path=\"url(#clip670)\" d=\"\n",
       "M186.274 1486.45 L2352.76 1486.45 L2352.76 47.2441 L186.274 47.2441  Z\n",
       "  \" fill=\"#ffffff\" fill-rule=\"evenodd\" fill-opacity=\"1\"/>\n",
       "<defs>\n",
       "  <clipPath id=\"clip672\">\n",
       "    <rect x=\"186\" y=\"47\" width=\"2167\" height=\"1440\"/>\n",
       "  </clipPath>\n",
       "</defs>\n",
       "<polyline clip-path=\"url(#clip672)\" style=\"stroke:#000000; stroke-linecap:butt; stroke-linejoin:round; stroke-width:2; stroke-opacity:0.1; fill:none\" points=\"\n",
       "  239.381,1486.45 239.381,47.2441 \n",
       "  \"/>\n",
       "<polyline clip-path=\"url(#clip672)\" style=\"stroke:#000000; stroke-linecap:butt; stroke-linejoin:round; stroke-width:2; stroke-opacity:0.1; fill:none\" points=\"\n",
       "  649.793,1486.45 649.793,47.2441 \n",
       "  \"/>\n",
       "<polyline clip-path=\"url(#clip672)\" style=\"stroke:#000000; stroke-linecap:butt; stroke-linejoin:round; stroke-width:2; stroke-opacity:0.1; fill:none\" points=\"\n",
       "  1060.2,1486.45 1060.2,47.2441 \n",
       "  \"/>\n",
       "<polyline clip-path=\"url(#clip672)\" style=\"stroke:#000000; stroke-linecap:butt; stroke-linejoin:round; stroke-width:2; stroke-opacity:0.1; fill:none\" points=\"\n",
       "  1470.62,1486.45 1470.62,47.2441 \n",
       "  \"/>\n",
       "<polyline clip-path=\"url(#clip672)\" style=\"stroke:#000000; stroke-linecap:butt; stroke-linejoin:round; stroke-width:2; stroke-opacity:0.1; fill:none\" points=\"\n",
       "  1881.03,1486.45 1881.03,47.2441 \n",
       "  \"/>\n",
       "<polyline clip-path=\"url(#clip672)\" style=\"stroke:#000000; stroke-linecap:butt; stroke-linejoin:round; stroke-width:2; stroke-opacity:0.1; fill:none\" points=\"\n",
       "  2291.44,1486.45 2291.44,47.2441 \n",
       "  \"/>\n",
       "<polyline clip-path=\"url(#clip670)\" style=\"stroke:#000000; stroke-linecap:butt; stroke-linejoin:round; stroke-width:4; stroke-opacity:1; fill:none\" points=\"\n",
       "  186.274,1486.45 2352.76,1486.45 \n",
       "  \"/>\n",
       "<polyline clip-path=\"url(#clip670)\" style=\"stroke:#000000; stroke-linecap:butt; stroke-linejoin:round; stroke-width:4; stroke-opacity:1; fill:none\" points=\"\n",
       "  239.381,1486.45 239.381,1467.55 \n",
       "  \"/>\n",
       "<polyline clip-path=\"url(#clip670)\" style=\"stroke:#000000; stroke-linecap:butt; stroke-linejoin:round; stroke-width:4; stroke-opacity:1; fill:none\" points=\"\n",
       "  649.793,1486.45 649.793,1467.55 \n",
       "  \"/>\n",
       "<polyline clip-path=\"url(#clip670)\" style=\"stroke:#000000; stroke-linecap:butt; stroke-linejoin:round; stroke-width:4; stroke-opacity:1; fill:none\" points=\"\n",
       "  1060.2,1486.45 1060.2,1467.55 \n",
       "  \"/>\n",
       "<polyline clip-path=\"url(#clip670)\" style=\"stroke:#000000; stroke-linecap:butt; stroke-linejoin:round; stroke-width:4; stroke-opacity:1; fill:none\" points=\"\n",
       "  1470.62,1486.45 1470.62,1467.55 \n",
       "  \"/>\n",
       "<polyline clip-path=\"url(#clip670)\" style=\"stroke:#000000; stroke-linecap:butt; stroke-linejoin:round; stroke-width:4; stroke-opacity:1; fill:none\" points=\"\n",
       "  1881.03,1486.45 1881.03,1467.55 \n",
       "  \"/>\n",
       "<polyline clip-path=\"url(#clip670)\" style=\"stroke:#000000; stroke-linecap:butt; stroke-linejoin:round; stroke-width:4; stroke-opacity:1; fill:none\" points=\"\n",
       "  2291.44,1486.45 2291.44,1467.55 \n",
       "  \"/>\n",
       "<path clip-path=\"url(#clip670)\" d=\"M239.381 1517.37 Q235.77 1517.37 233.942 1520.93 Q232.136 1524.47 232.136 1531.6 Q232.136 1538.71 233.942 1542.27 Q235.77 1545.82 239.381 1545.82 Q243.016 1545.82 244.821 1542.27 Q246.65 1538.71 246.65 1531.6 Q246.65 1524.47 244.821 1520.93 Q243.016 1517.37 239.381 1517.37 M239.381 1513.66 Q245.191 1513.66 248.247 1518.27 Q251.326 1522.85 251.326 1531.6 Q251.326 1540.33 248.247 1544.94 Q245.191 1549.52 239.381 1549.52 Q233.571 1549.52 230.492 1544.94 Q227.437 1540.33 227.437 1531.6 Q227.437 1522.85 230.492 1518.27 Q233.571 1513.66 239.381 1513.66 Z\" fill=\"#000000\" fill-rule=\"evenodd\" fill-opacity=\"1\" /><path clip-path=\"url(#clip670)\" d=\"M624.492 1514.29 L642.849 1514.29 L642.849 1518.22 L628.775 1518.22 L628.775 1526.7 Q629.793 1526.35 630.812 1526.19 Q631.83 1526 632.849 1526 Q638.636 1526 642.015 1529.17 Q645.395 1532.34 645.395 1537.76 Q645.395 1543.34 641.923 1546.44 Q638.451 1549.52 632.131 1549.52 Q629.955 1549.52 627.687 1549.15 Q625.441 1548.78 623.034 1548.04 L623.034 1543.34 Q625.117 1544.47 627.34 1545.03 Q629.562 1545.58 632.039 1545.58 Q636.043 1545.58 638.381 1543.48 Q640.719 1541.37 640.719 1537.76 Q640.719 1534.15 638.381 1532.04 Q636.043 1529.94 632.039 1529.94 Q630.164 1529.94 628.289 1530.35 Q626.437 1530.77 624.492 1531.65 L624.492 1514.29 Z\" fill=\"#000000\" fill-rule=\"evenodd\" fill-opacity=\"1\" /><path clip-path=\"url(#clip670)\" d=\"M664.608 1517.37 Q660.997 1517.37 659.168 1520.93 Q657.363 1524.47 657.363 1531.6 Q657.363 1538.71 659.168 1542.27 Q660.997 1545.82 664.608 1545.82 Q668.242 1545.82 670.048 1542.27 Q671.876 1538.71 671.876 1531.6 Q671.876 1524.47 670.048 1520.93 Q668.242 1517.37 664.608 1517.37 M664.608 1513.66 Q670.418 1513.66 673.474 1518.27 Q676.552 1522.85 676.552 1531.6 Q676.552 1540.33 673.474 1544.94 Q670.418 1549.52 664.608 1549.52 Q658.798 1549.52 655.719 1544.94 Q652.663 1540.33 652.663 1531.6 Q652.663 1522.85 655.719 1518.27 Q658.798 1513.66 664.608 1513.66 Z\" fill=\"#000000\" fill-rule=\"evenodd\" fill-opacity=\"1\" /><path clip-path=\"url(#clip670)\" d=\"M1019.81 1544.91 L1027.45 1544.91 L1027.45 1518.55 L1019.14 1520.21 L1019.14 1515.95 L1027.4 1514.29 L1032.08 1514.29 L1032.08 1544.91 L1039.72 1544.91 L1039.72 1548.85 L1019.81 1548.85 L1019.81 1544.91 Z\" fill=\"#000000\" fill-rule=\"evenodd\" fill-opacity=\"1\" /><path clip-path=\"url(#clip670)\" d=\"M1059.16 1517.37 Q1055.55 1517.37 1053.72 1520.93 Q1051.92 1524.47 1051.92 1531.6 Q1051.92 1538.71 1053.72 1542.27 Q1055.55 1545.82 1059.16 1545.82 Q1062.8 1545.82 1064.6 1542.27 Q1066.43 1538.71 1066.43 1531.6 Q1066.43 1524.47 1064.6 1520.93 Q1062.8 1517.37 1059.16 1517.37 M1059.16 1513.66 Q1064.97 1513.66 1068.03 1518.27 Q1071.11 1522.85 1071.11 1531.6 Q1071.11 1540.33 1068.03 1544.94 Q1064.97 1549.52 1059.16 1549.52 Q1053.35 1549.52 1050.27 1544.94 Q1047.22 1540.33 1047.22 1531.6 Q1047.22 1522.85 1050.27 1518.27 Q1053.35 1513.66 1059.16 1513.66 Z\" fill=\"#000000\" fill-rule=\"evenodd\" fill-opacity=\"1\" /><path clip-path=\"url(#clip670)\" d=\"M1089.33 1517.37 Q1085.71 1517.37 1083.89 1520.93 Q1082.08 1524.47 1082.08 1531.6 Q1082.08 1538.71 1083.89 1542.27 Q1085.71 1545.82 1089.33 1545.82 Q1092.96 1545.82 1094.76 1542.27 Q1096.59 1538.71 1096.59 1531.6 Q1096.59 1524.47 1094.76 1520.93 Q1092.96 1517.37 1089.33 1517.37 M1089.33 1513.66 Q1095.14 1513.66 1098.19 1518.27 Q1101.27 1522.85 1101.27 1531.6 Q1101.27 1540.33 1098.19 1544.94 Q1095.14 1549.52 1089.33 1549.52 Q1083.51 1549.52 1080.44 1544.94 Q1077.38 1540.33 1077.38 1531.6 Q1077.38 1522.85 1080.44 1518.27 Q1083.51 1513.66 1089.33 1513.66 Z\" fill=\"#000000\" fill-rule=\"evenodd\" fill-opacity=\"1\" /><path clip-path=\"url(#clip670)\" d=\"M1430.22 1544.91 L1437.86 1544.91 L1437.86 1518.55 L1429.55 1520.21 L1429.55 1515.95 L1437.82 1514.29 L1442.49 1514.29 L1442.49 1544.91 L1450.13 1544.91 L1450.13 1548.85 L1430.22 1548.85 L1430.22 1544.91 Z\" fill=\"#000000\" fill-rule=\"evenodd\" fill-opacity=\"1\" /><path clip-path=\"url(#clip670)\" d=\"M1459.62 1514.29 L1477.98 1514.29 L1477.98 1518.22 L1463.9 1518.22 L1463.9 1526.7 Q1464.92 1526.35 1465.94 1526.19 Q1466.96 1526 1467.98 1526 Q1473.76 1526 1477.14 1529.17 Q1480.52 1532.34 1480.52 1537.76 Q1480.52 1543.34 1477.05 1546.44 Q1473.58 1549.52 1467.26 1549.52 Q1465.08 1549.52 1462.82 1549.15 Q1460.57 1548.78 1458.16 1548.04 L1458.16 1543.34 Q1460.25 1544.47 1462.47 1545.03 Q1464.69 1545.58 1467.17 1545.58 Q1471.17 1545.58 1473.51 1543.48 Q1475.85 1541.37 1475.85 1537.76 Q1475.85 1534.15 1473.51 1532.04 Q1471.17 1529.94 1467.17 1529.94 Q1465.29 1529.94 1463.42 1530.35 Q1461.57 1530.77 1459.62 1531.65 L1459.62 1514.29 Z\" fill=\"#000000\" fill-rule=\"evenodd\" fill-opacity=\"1\" /><path clip-path=\"url(#clip670)\" d=\"M1499.74 1517.37 Q1496.13 1517.37 1494.3 1520.93 Q1492.49 1524.47 1492.49 1531.6 Q1492.49 1538.71 1494.3 1542.27 Q1496.13 1545.82 1499.74 1545.82 Q1503.37 1545.82 1505.18 1542.27 Q1507.01 1538.71 1507.01 1531.6 Q1507.01 1524.47 1505.18 1520.93 Q1503.37 1517.37 1499.74 1517.37 M1499.74 1513.66 Q1505.55 1513.66 1508.6 1518.27 Q1511.68 1522.85 1511.68 1531.6 Q1511.68 1540.33 1508.6 1544.94 Q1505.55 1549.52 1499.74 1549.52 Q1493.93 1549.52 1490.85 1544.94 Q1487.79 1540.33 1487.79 1531.6 Q1487.79 1522.85 1490.85 1518.27 Q1493.93 1513.66 1499.74 1513.66 Z\" fill=\"#000000\" fill-rule=\"evenodd\" fill-opacity=\"1\" /><path clip-path=\"url(#clip670)\" d=\"M1844.72 1544.91 L1861.04 1544.91 L1861.04 1548.85 L1839.1 1548.85 L1839.1 1544.91 Q1841.76 1542.16 1846.34 1537.53 Q1850.95 1532.88 1852.13 1531.53 Q1854.37 1529.01 1855.25 1527.27 Q1856.16 1525.51 1856.16 1523.82 Q1856.16 1521.07 1854.21 1519.33 Q1852.29 1517.6 1849.19 1517.6 Q1846.99 1517.6 1844.54 1518.36 Q1842.11 1519.13 1839.33 1520.68 L1839.33 1515.95 Q1842.15 1514.82 1844.61 1514.24 Q1847.06 1513.66 1849.1 1513.66 Q1854.47 1513.66 1857.66 1516.35 Q1860.86 1519.03 1860.86 1523.52 Q1860.86 1525.65 1860.04 1527.57 Q1859.26 1529.47 1857.15 1532.07 Q1856.57 1532.74 1853.47 1535.95 Q1850.37 1539.15 1844.72 1544.91 Z\" fill=\"#000000\" fill-rule=\"evenodd\" fill-opacity=\"1\" /><path clip-path=\"url(#clip670)\" d=\"M1880.85 1517.37 Q1877.24 1517.37 1875.42 1520.93 Q1873.61 1524.47 1873.61 1531.6 Q1873.61 1538.71 1875.42 1542.27 Q1877.24 1545.82 1880.85 1545.82 Q1884.49 1545.82 1886.29 1542.27 Q1888.12 1538.71 1888.12 1531.6 Q1888.12 1524.47 1886.29 1520.93 Q1884.49 1517.37 1880.85 1517.37 M1880.85 1513.66 Q1886.67 1513.66 1889.72 1518.27 Q1892.8 1522.85 1892.8 1531.6 Q1892.8 1540.33 1889.72 1544.94 Q1886.67 1549.52 1880.85 1549.52 Q1875.04 1549.52 1871.97 1544.94 Q1868.91 1540.33 1868.91 1531.6 Q1868.91 1522.85 1871.97 1518.27 Q1875.04 1513.66 1880.85 1513.66 Z\" fill=\"#000000\" fill-rule=\"evenodd\" fill-opacity=\"1\" /><path clip-path=\"url(#clip670)\" d=\"M1911.02 1517.37 Q1907.41 1517.37 1905.58 1520.93 Q1903.77 1524.47 1903.77 1531.6 Q1903.77 1538.71 1905.58 1542.27 Q1907.41 1545.82 1911.02 1545.82 Q1914.65 1545.82 1916.46 1542.27 Q1918.29 1538.71 1918.29 1531.6 Q1918.29 1524.47 1916.46 1520.93 Q1914.65 1517.37 1911.02 1517.37 M1911.02 1513.66 Q1916.83 1513.66 1919.88 1518.27 Q1922.96 1522.85 1922.96 1531.6 Q1922.96 1540.33 1919.88 1544.94 Q1916.83 1549.52 1911.02 1549.52 Q1905.21 1549.52 1902.13 1544.94 Q1899.07 1540.33 1899.07 1531.6 Q1899.07 1522.85 1902.13 1518.27 Q1905.21 1513.66 1911.02 1513.66 Z\" fill=\"#000000\" fill-rule=\"evenodd\" fill-opacity=\"1\" /><path clip-path=\"url(#clip670)\" d=\"M2255.13 1544.91 L2271.45 1544.91 L2271.45 1548.85 L2249.51 1548.85 L2249.51 1544.91 Q2252.17 1542.16 2256.75 1537.53 Q2261.36 1532.88 2262.54 1531.53 Q2264.79 1529.01 2265.67 1527.27 Q2266.57 1525.51 2266.57 1523.82 Q2266.57 1521.07 2264.62 1519.33 Q2262.7 1517.6 2259.6 1517.6 Q2257.4 1517.6 2254.95 1518.36 Q2252.52 1519.13 2249.74 1520.68 L2249.74 1515.95 Q2252.56 1514.82 2255.02 1514.24 Q2257.47 1513.66 2259.51 1513.66 Q2264.88 1513.66 2268.07 1516.35 Q2271.27 1519.03 2271.27 1523.52 Q2271.27 1525.65 2270.46 1527.57 Q2269.67 1529.47 2267.56 1532.07 Q2266.98 1532.74 2263.88 1535.95 Q2260.78 1539.15 2255.13 1544.91 Z\" fill=\"#000000\" fill-rule=\"evenodd\" fill-opacity=\"1\" /><path clip-path=\"url(#clip670)\" d=\"M2281.31 1514.29 L2299.67 1514.29 L2299.67 1518.22 L2285.6 1518.22 L2285.6 1526.7 Q2286.61 1526.35 2287.63 1526.19 Q2288.65 1526 2289.67 1526 Q2295.46 1526 2298.84 1529.17 Q2302.22 1532.34 2302.22 1537.76 Q2302.22 1543.34 2298.74 1546.44 Q2295.27 1549.52 2288.95 1549.52 Q2286.78 1549.52 2284.51 1549.15 Q2282.26 1548.78 2279.85 1548.04 L2279.85 1543.34 Q2281.94 1544.47 2284.16 1545.03 Q2286.38 1545.58 2288.86 1545.58 Q2292.86 1545.58 2295.2 1543.48 Q2297.54 1541.37 2297.54 1537.76 Q2297.54 1534.15 2295.2 1532.04 Q2292.86 1529.94 2288.86 1529.94 Q2286.98 1529.94 2285.11 1530.35 Q2283.26 1530.77 2281.31 1531.65 L2281.31 1514.29 Z\" fill=\"#000000\" fill-rule=\"evenodd\" fill-opacity=\"1\" /><path clip-path=\"url(#clip670)\" d=\"M2321.43 1517.37 Q2317.82 1517.37 2315.99 1520.93 Q2314.18 1524.47 2314.18 1531.6 Q2314.18 1538.71 2315.99 1542.27 Q2317.82 1545.82 2321.43 1545.82 Q2325.06 1545.82 2326.87 1542.27 Q2328.7 1538.71 2328.7 1531.6 Q2328.7 1524.47 2326.87 1520.93 Q2325.06 1517.37 2321.43 1517.37 M2321.43 1513.66 Q2327.24 1513.66 2330.29 1518.27 Q2333.37 1522.85 2333.37 1531.6 Q2333.37 1540.33 2330.29 1544.94 Q2327.24 1549.52 2321.43 1549.52 Q2315.62 1549.52 2312.54 1544.94 Q2309.48 1540.33 2309.48 1531.6 Q2309.48 1522.85 2312.54 1518.27 Q2315.62 1513.66 2321.43 1513.66 Z\" fill=\"#000000\" fill-rule=\"evenodd\" fill-opacity=\"1\" /><polyline clip-path=\"url(#clip672)\" style=\"stroke:#000000; stroke-linecap:butt; stroke-linejoin:round; stroke-width:2; stroke-opacity:0.1; fill:none\" points=\"\n",
       "  186.274,1464.44 2352.76,1464.44 \n",
       "  \"/>\n",
       "<polyline clip-path=\"url(#clip672)\" style=\"stroke:#000000; stroke-linecap:butt; stroke-linejoin:round; stroke-width:2; stroke-opacity:0.1; fill:none\" points=\"\n",
       "  186.274,1218.24 2352.76,1218.24 \n",
       "  \"/>\n",
       "<polyline clip-path=\"url(#clip672)\" style=\"stroke:#000000; stroke-linecap:butt; stroke-linejoin:round; stroke-width:2; stroke-opacity:0.1; fill:none\" points=\"\n",
       "  186.274,972.043 2352.76,972.043 \n",
       "  \"/>\n",
       "<polyline clip-path=\"url(#clip672)\" style=\"stroke:#000000; stroke-linecap:butt; stroke-linejoin:round; stroke-width:2; stroke-opacity:0.1; fill:none\" points=\"\n",
       "  186.274,725.844 2352.76,725.844 \n",
       "  \"/>\n",
       "<polyline clip-path=\"url(#clip672)\" style=\"stroke:#000000; stroke-linecap:butt; stroke-linejoin:round; stroke-width:2; stroke-opacity:0.1; fill:none\" points=\"\n",
       "  186.274,479.645 2352.76,479.645 \n",
       "  \"/>\n",
       "<polyline clip-path=\"url(#clip672)\" style=\"stroke:#000000; stroke-linecap:butt; stroke-linejoin:round; stroke-width:2; stroke-opacity:0.1; fill:none\" points=\"\n",
       "  186.274,233.446 2352.76,233.446 \n",
       "  \"/>\n",
       "<polyline clip-path=\"url(#clip670)\" style=\"stroke:#000000; stroke-linecap:butt; stroke-linejoin:round; stroke-width:4; stroke-opacity:1; fill:none\" points=\"\n",
       "  186.274,1486.45 186.274,47.2441 \n",
       "  \"/>\n",
       "<polyline clip-path=\"url(#clip670)\" style=\"stroke:#000000; stroke-linecap:butt; stroke-linejoin:round; stroke-width:4; stroke-opacity:1; fill:none\" points=\"\n",
       "  186.274,1464.44 205.172,1464.44 \n",
       "  \"/>\n",
       "<polyline clip-path=\"url(#clip670)\" style=\"stroke:#000000; stroke-linecap:butt; stroke-linejoin:round; stroke-width:4; stroke-opacity:1; fill:none\" points=\"\n",
       "  186.274,1218.24 205.172,1218.24 \n",
       "  \"/>\n",
       "<polyline clip-path=\"url(#clip670)\" style=\"stroke:#000000; stroke-linecap:butt; stroke-linejoin:round; stroke-width:4; stroke-opacity:1; fill:none\" points=\"\n",
       "  186.274,972.043 205.172,972.043 \n",
       "  \"/>\n",
       "<polyline clip-path=\"url(#clip670)\" style=\"stroke:#000000; stroke-linecap:butt; stroke-linejoin:round; stroke-width:4; stroke-opacity:1; fill:none\" points=\"\n",
       "  186.274,725.844 205.172,725.844 \n",
       "  \"/>\n",
       "<polyline clip-path=\"url(#clip670)\" style=\"stroke:#000000; stroke-linecap:butt; stroke-linejoin:round; stroke-width:4; stroke-opacity:1; fill:none\" points=\"\n",
       "  186.274,479.645 205.172,479.645 \n",
       "  \"/>\n",
       "<polyline clip-path=\"url(#clip670)\" style=\"stroke:#000000; stroke-linecap:butt; stroke-linejoin:round; stroke-width:4; stroke-opacity:1; fill:none\" points=\"\n",
       "  186.274,233.446 205.172,233.446 \n",
       "  \"/>\n",
       "<path clip-path=\"url(#clip670)\" d=\"M62.9365 1450.24 Q59.3254 1450.24 57.4967 1453.8 Q55.6912 1457.35 55.6912 1464.48 Q55.6912 1471.58 57.4967 1475.15 Q59.3254 1478.69 62.9365 1478.69 Q66.5707 1478.69 68.3763 1475.15 Q70.205 1471.58 70.205 1464.48 Q70.205 1457.35 68.3763 1453.8 Q66.5707 1450.24 62.9365 1450.24 M62.9365 1446.54 Q68.7467 1446.54 71.8022 1451.14 Q74.8809 1455.73 74.8809 1464.48 Q74.8809 1473.2 71.8022 1477.81 Q68.7467 1482.39 62.9365 1482.39 Q57.1264 1482.39 54.0477 1477.81 Q50.9921 1473.2 50.9921 1464.48 Q50.9921 1455.73 54.0477 1451.14 Q57.1264 1446.54 62.9365 1446.54 Z\" fill=\"#000000\" fill-rule=\"evenodd\" fill-opacity=\"1\" /><path clip-path=\"url(#clip670)\" d=\"M83.0984 1475.84 L87.9827 1475.84 L87.9827 1481.72 L83.0984 1481.72 L83.0984 1475.84 Z\" fill=\"#000000\" fill-rule=\"evenodd\" fill-opacity=\"1\" /><path clip-path=\"url(#clip670)\" d=\"M108.168 1450.24 Q104.557 1450.24 102.728 1453.8 Q100.922 1457.35 100.922 1464.48 Q100.922 1471.58 102.728 1475.15 Q104.557 1478.69 108.168 1478.69 Q111.802 1478.69 113.608 1475.15 Q115.436 1471.58 115.436 1464.48 Q115.436 1457.35 113.608 1453.8 Q111.802 1450.24 108.168 1450.24 M108.168 1446.54 Q113.978 1446.54 117.033 1451.14 Q120.112 1455.73 120.112 1464.48 Q120.112 1473.2 117.033 1477.81 Q113.978 1482.39 108.168 1482.39 Q102.358 1482.39 99.2789 1477.81 Q96.2234 1473.2 96.2234 1464.48 Q96.2234 1455.73 99.2789 1451.14 Q102.358 1446.54 108.168 1446.54 Z\" fill=\"#000000\" fill-rule=\"evenodd\" fill-opacity=\"1\" /><path clip-path=\"url(#clip670)\" d=\"M138.33 1450.24 Q134.719 1450.24 132.89 1453.8 Q131.084 1457.35 131.084 1464.48 Q131.084 1471.58 132.89 1475.15 Q134.719 1478.69 138.33 1478.69 Q141.964 1478.69 143.769 1475.15 Q145.598 1471.58 145.598 1464.48 Q145.598 1457.35 143.769 1453.8 Q141.964 1450.24 138.33 1450.24 M138.33 1446.54 Q144.14 1446.54 147.195 1451.14 Q150.274 1455.73 150.274 1464.48 Q150.274 1473.2 147.195 1477.81 Q144.14 1482.39 138.33 1482.39 Q132.519 1482.39 129.441 1477.81 Q126.385 1473.2 126.385 1464.48 Q126.385 1455.73 129.441 1451.14 Q132.519 1446.54 138.33 1446.54 Z\" fill=\"#000000\" fill-rule=\"evenodd\" fill-opacity=\"1\" /><path clip-path=\"url(#clip670)\" d=\"M63.9319 1204.04 Q60.3208 1204.04 58.4921 1207.61 Q56.6865 1211.15 56.6865 1218.28 Q56.6865 1225.38 58.4921 1228.95 Q60.3208 1232.49 63.9319 1232.49 Q67.5661 1232.49 69.3717 1228.95 Q71.2004 1225.38 71.2004 1218.28 Q71.2004 1211.15 69.3717 1207.61 Q67.5661 1204.04 63.9319 1204.04 M63.9319 1200.34 Q69.742 1200.34 72.7976 1204.94 Q75.8763 1209.53 75.8763 1218.28 Q75.8763 1227 72.7976 1231.61 Q69.742 1236.19 63.9319 1236.19 Q58.1217 1236.19 55.043 1231.61 Q51.9875 1227 51.9875 1218.28 Q51.9875 1209.53 55.043 1204.94 Q58.1217 1200.34 63.9319 1200.34 Z\" fill=\"#000000\" fill-rule=\"evenodd\" fill-opacity=\"1\" /><path clip-path=\"url(#clip670)\" d=\"M84.0938 1229.64 L88.978 1229.64 L88.978 1235.52 L84.0938 1235.52 L84.0938 1229.64 Z\" fill=\"#000000\" fill-rule=\"evenodd\" fill-opacity=\"1\" /><path clip-path=\"url(#clip670)\" d=\"M103.191 1231.59 L119.51 1231.59 L119.51 1235.52 L97.566 1235.52 L97.566 1231.59 Q100.228 1228.83 104.811 1224.2 Q109.418 1219.55 110.598 1218.21 Q112.844 1215.68 113.723 1213.95 Q114.626 1212.19 114.626 1210.5 Q114.626 1207.74 112.682 1206.01 Q110.76 1204.27 107.658 1204.27 Q105.459 1204.27 103.006 1205.04 Q100.575 1205.8 97.7974 1207.35 L97.7974 1202.63 Q100.621 1201.49 103.075 1200.92 Q105.529 1200.34 107.566 1200.34 Q112.936 1200.34 116.131 1203.02 Q119.325 1205.71 119.325 1210.2 Q119.325 1212.33 118.515 1214.25 Q117.728 1216.15 115.621 1218.74 Q115.043 1219.41 111.941 1222.63 Q108.839 1225.82 103.191 1231.59 Z\" fill=\"#000000\" fill-rule=\"evenodd\" fill-opacity=\"1\" /><path clip-path=\"url(#clip670)\" d=\"M129.371 1200.96 L147.728 1200.96 L147.728 1204.9 L133.654 1204.9 L133.654 1213.37 Q134.672 1213.02 135.691 1212.86 Q136.709 1212.68 137.728 1212.68 Q143.515 1212.68 146.894 1215.85 Q150.274 1219.02 150.274 1224.43 Q150.274 1230.01 146.802 1233.11 Q143.33 1236.19 137.01 1236.19 Q134.834 1236.19 132.566 1235.82 Q130.32 1235.45 127.913 1234.71 L127.913 1230.01 Q129.996 1231.15 132.219 1231.7 Q134.441 1232.26 136.918 1232.26 Q140.922 1232.26 143.26 1230.15 Q145.598 1228.05 145.598 1224.43 Q145.598 1220.82 143.26 1218.72 Q140.922 1216.61 136.918 1216.61 Q135.043 1216.61 133.168 1217.03 Q131.316 1217.44 129.371 1218.32 L129.371 1200.96 Z\" fill=\"#000000\" fill-rule=\"evenodd\" fill-opacity=\"1\" /><path clip-path=\"url(#clip670)\" d=\"M62.9365 957.842 Q59.3254 957.842 57.4967 961.407 Q55.6912 964.948 55.6912 972.078 Q55.6912 979.184 57.4967 982.749 Q59.3254 986.291 62.9365 986.291 Q66.5707 986.291 68.3763 982.749 Q70.205 979.184 70.205 972.078 Q70.205 964.948 68.3763 961.407 Q66.5707 957.842 62.9365 957.842 M62.9365 954.138 Q68.7467 954.138 71.8022 958.745 Q74.8809 963.328 74.8809 972.078 Q74.8809 980.805 71.8022 985.411 Q68.7467 989.995 62.9365 989.995 Q57.1264 989.995 54.0477 985.411 Q50.9921 980.805 50.9921 972.078 Q50.9921 963.328 54.0477 958.745 Q57.1264 954.138 62.9365 954.138 Z\" fill=\"#000000\" fill-rule=\"evenodd\" fill-opacity=\"1\" /><path clip-path=\"url(#clip670)\" d=\"M83.0984 983.444 L87.9827 983.444 L87.9827 989.323 L83.0984 989.323 L83.0984 983.444 Z\" fill=\"#000000\" fill-rule=\"evenodd\" fill-opacity=\"1\" /><path clip-path=\"url(#clip670)\" d=\"M98.2141 954.763 L116.57 954.763 L116.57 958.698 L102.496 958.698 L102.496 967.171 Q103.515 966.823 104.534 966.661 Q105.552 966.476 106.571 966.476 Q112.358 966.476 115.737 969.647 Q119.117 972.819 119.117 978.235 Q119.117 983.814 115.645 986.916 Q112.172 989.995 105.853 989.995 Q103.677 989.995 101.409 989.624 Q99.1632 989.254 96.7558 988.513 L96.7558 983.814 Q98.8391 984.948 101.061 985.504 Q103.284 986.059 105.76 986.059 Q109.765 986.059 112.103 983.953 Q114.441 981.846 114.441 978.235 Q114.441 974.624 112.103 972.518 Q109.765 970.411 105.76 970.411 Q103.885 970.411 102.01 970.828 Q100.159 971.245 98.2141 972.124 L98.2141 954.763 Z\" fill=\"#000000\" fill-rule=\"evenodd\" fill-opacity=\"1\" /><path clip-path=\"url(#clip670)\" d=\"M138.33 957.842 Q134.719 957.842 132.89 961.407 Q131.084 964.948 131.084 972.078 Q131.084 979.184 132.89 982.749 Q134.719 986.291 138.33 986.291 Q141.964 986.291 143.769 982.749 Q145.598 979.184 145.598 972.078 Q145.598 964.948 143.769 961.407 Q141.964 957.842 138.33 957.842 M138.33 954.138 Q144.14 954.138 147.195 958.745 Q150.274 963.328 150.274 972.078 Q150.274 980.805 147.195 985.411 Q144.14 989.995 138.33 989.995 Q132.519 989.995 129.441 985.411 Q126.385 980.805 126.385 972.078 Q126.385 963.328 129.441 958.745 Q132.519 954.138 138.33 954.138 Z\" fill=\"#000000\" fill-rule=\"evenodd\" fill-opacity=\"1\" /><path clip-path=\"url(#clip670)\" d=\"M63.9319 711.643 Q60.3208 711.643 58.4921 715.208 Q56.6865 718.749 56.6865 725.879 Q56.6865 732.985 58.4921 736.55 Q60.3208 740.092 63.9319 740.092 Q67.5661 740.092 69.3717 736.55 Q71.2004 732.985 71.2004 725.879 Q71.2004 718.749 69.3717 715.208 Q67.5661 711.643 63.9319 711.643 M63.9319 707.939 Q69.742 707.939 72.7976 712.546 Q75.8763 717.129 75.8763 725.879 Q75.8763 734.606 72.7976 739.212 Q69.742 743.795 63.9319 743.795 Q58.1217 743.795 55.043 739.212 Q51.9875 734.606 51.9875 725.879 Q51.9875 717.129 55.043 712.546 Q58.1217 707.939 63.9319 707.939 Z\" fill=\"#000000\" fill-rule=\"evenodd\" fill-opacity=\"1\" /><path clip-path=\"url(#clip670)\" d=\"M84.0938 737.245 L88.978 737.245 L88.978 743.124 L84.0938 743.124 L84.0938 737.245 Z\" fill=\"#000000\" fill-rule=\"evenodd\" fill-opacity=\"1\" /><path clip-path=\"url(#clip670)\" d=\"M97.9826 708.564 L120.205 708.564 L120.205 710.555 L107.658 743.124 L102.774 743.124 L114.58 712.499 L97.9826 712.499 L97.9826 708.564 Z\" fill=\"#000000\" fill-rule=\"evenodd\" fill-opacity=\"1\" /><path clip-path=\"url(#clip670)\" d=\"M129.371 708.564 L147.728 708.564 L147.728 712.499 L133.654 712.499 L133.654 720.972 Q134.672 720.624 135.691 720.462 Q136.709 720.277 137.728 720.277 Q143.515 720.277 146.894 723.448 Q150.274 726.62 150.274 732.036 Q150.274 737.615 146.802 740.717 Q143.33 743.795 137.01 743.795 Q134.834 743.795 132.566 743.425 Q130.32 743.055 127.913 742.314 L127.913 737.615 Q129.996 738.749 132.219 739.305 Q134.441 739.86 136.918 739.86 Q140.922 739.86 143.26 737.754 Q145.598 735.647 145.598 732.036 Q145.598 728.425 143.26 726.319 Q140.922 724.212 136.918 724.212 Q135.043 724.212 133.168 724.629 Q131.316 725.046 129.371 725.925 L129.371 708.564 Z\" fill=\"#000000\" fill-rule=\"evenodd\" fill-opacity=\"1\" /><path clip-path=\"url(#clip670)\" d=\"M53.7467 492.99 L61.3856 492.99 L61.3856 466.624 L53.0754 468.291 L53.0754 464.032 L61.3393 462.365 L66.0152 462.365 L66.0152 492.99 L73.654 492.99 L73.654 496.925 L53.7467 496.925 L53.7467 492.99 Z\" fill=\"#000000\" fill-rule=\"evenodd\" fill-opacity=\"1\" /><path clip-path=\"url(#clip670)\" d=\"M83.0984 491.046 L87.9827 491.046 L87.9827 496.925 L83.0984 496.925 L83.0984 491.046 Z\" fill=\"#000000\" fill-rule=\"evenodd\" fill-opacity=\"1\" /><path clip-path=\"url(#clip670)\" d=\"M108.168 465.444 Q104.557 465.444 102.728 469.009 Q100.922 472.55 100.922 479.68 Q100.922 486.786 102.728 490.351 Q104.557 493.893 108.168 493.893 Q111.802 493.893 113.608 490.351 Q115.436 486.786 115.436 479.68 Q115.436 472.55 113.608 469.009 Q111.802 465.444 108.168 465.444 M108.168 461.74 Q113.978 461.74 117.033 466.347 Q120.112 470.93 120.112 479.68 Q120.112 488.407 117.033 493.013 Q113.978 497.596 108.168 497.596 Q102.358 497.596 99.2789 493.013 Q96.2234 488.407 96.2234 479.68 Q96.2234 470.93 99.2789 466.347 Q102.358 461.74 108.168 461.74 Z\" fill=\"#000000\" fill-rule=\"evenodd\" fill-opacity=\"1\" /><path clip-path=\"url(#clip670)\" d=\"M138.33 465.444 Q134.719 465.444 132.89 469.009 Q131.084 472.55 131.084 479.68 Q131.084 486.786 132.89 490.351 Q134.719 493.893 138.33 493.893 Q141.964 493.893 143.769 490.351 Q145.598 486.786 145.598 479.68 Q145.598 472.55 143.769 469.009 Q141.964 465.444 138.33 465.444 M138.33 461.74 Q144.14 461.74 147.195 466.347 Q150.274 470.93 150.274 479.68 Q150.274 488.407 147.195 493.013 Q144.14 497.596 138.33 497.596 Q132.519 497.596 129.441 493.013 Q126.385 488.407 126.385 479.68 Q126.385 470.93 129.441 466.347 Q132.519 461.74 138.33 461.74 Z\" fill=\"#000000\" fill-rule=\"evenodd\" fill-opacity=\"1\" /><path clip-path=\"url(#clip670)\" d=\"M54.7421 246.791 L62.381 246.791 L62.381 220.425 L54.0708 222.092 L54.0708 217.833 L62.3347 216.166 L67.0106 216.166 L67.0106 246.791 L74.6494 246.791 L74.6494 250.726 L54.7421 250.726 L54.7421 246.791 Z\" fill=\"#000000\" fill-rule=\"evenodd\" fill-opacity=\"1\" /><path clip-path=\"url(#clip670)\" d=\"M84.0938 244.846 L88.978 244.846 L88.978 250.726 L84.0938 250.726 L84.0938 244.846 Z\" fill=\"#000000\" fill-rule=\"evenodd\" fill-opacity=\"1\" /><path clip-path=\"url(#clip670)\" d=\"M103.191 246.791 L119.51 246.791 L119.51 250.726 L97.566 250.726 L97.566 246.791 Q100.228 244.036 104.811 239.407 Q109.418 234.754 110.598 233.411 Q112.844 230.888 113.723 229.152 Q114.626 227.393 114.626 225.703 Q114.626 222.948 112.682 221.212 Q110.76 219.476 107.658 219.476 Q105.459 219.476 103.006 220.24 Q100.575 221.004 97.7974 222.555 L97.7974 217.833 Q100.621 216.698 103.075 216.12 Q105.529 215.541 107.566 215.541 Q112.936 215.541 116.131 218.226 Q119.325 220.911 119.325 225.402 Q119.325 227.532 118.515 229.453 Q117.728 231.351 115.621 233.944 Q115.043 234.615 111.941 237.833 Q108.839 241.027 103.191 246.791 Z\" fill=\"#000000\" fill-rule=\"evenodd\" fill-opacity=\"1\" /><path clip-path=\"url(#clip670)\" d=\"M129.371 216.166 L147.728 216.166 L147.728 220.101 L133.654 220.101 L133.654 228.573 Q134.672 228.226 135.691 228.064 Q136.709 227.879 137.728 227.879 Q143.515 227.879 146.894 231.05 Q150.274 234.222 150.274 239.638 Q150.274 245.217 146.802 248.319 Q143.33 251.397 137.01 251.397 Q134.834 251.397 132.566 251.027 Q130.32 250.657 127.913 249.916 L127.913 245.217 Q129.996 246.351 132.219 246.907 Q134.441 247.462 136.918 247.462 Q140.922 247.462 143.26 245.356 Q145.598 243.249 145.598 239.638 Q145.598 236.027 143.26 233.921 Q140.922 231.814 136.918 231.814 Q135.043 231.814 133.168 232.231 Q131.316 232.647 129.371 233.527 L129.371 216.166 Z\" fill=\"#000000\" fill-rule=\"evenodd\" fill-opacity=\"1\" /><polyline clip-path=\"url(#clip672)\" style=\"stroke:#009af9; stroke-linecap:butt; stroke-linejoin:round; stroke-width:4; stroke-opacity:1; fill:none\" points=\"\n",
       "  247.59,134.201 255.798,89.2551 264.006,323.587 272.214,87.9763 280.422,209.54 288.631,224.916 296.839,197.934 305.047,176.97 313.255,216.384 321.464,177.804 \n",
       "  329.672,145.817 337.88,136.191 346.088,149.533 354.297,198.355 362.505,145.067 370.713,230.744 378.921,209.269 387.13,184.653 395.338,175.024 403.546,224.11 \n",
       "  411.754,185.183 419.962,201.384 428.171,182.941 436.379,179.812 444.587,168.458 452.795,218.865 461.004,152.771 469.212,239.891 477.42,146.682 485.628,197.685 \n",
       "  493.837,207.571 502.045,158.412 510.253,170.338 518.461,170.775 526.67,170.909 534.878,175.326 543.086,180.205 551.294,177.302 559.503,163.241 567.711,161.033 \n",
       "  575.919,172.136 584.127,179.782 592.335,181.376 600.544,188.681 608.752,197.476 616.96,201.336 625.168,212.395 633.377,185.646 641.585,181.322 649.793,182.599 \n",
       "  658.001,193.545 666.21,170.56 674.418,198.055 682.626,178.9 690.834,205.454 699.043,192.321 707.251,210.31 715.459,188.647 723.667,162.753 731.875,175.61 \n",
       "  740.084,175.008 748.292,172.21 756.5,169.431 764.708,209.356 772.917,159.62 781.125,168.048 789.333,166.056 797.541,190.713 805.75,186.903 813.958,175.882 \n",
       "  822.166,172.401 830.374,201.16 838.583,187.479 846.791,198.585 854.999,177.234 863.207,161.186 871.415,187.181 879.624,170.007 887.832,213.106 896.04,173.267 \n",
       "  904.248,197.115 912.457,169.148 920.665,160.672 928.873,173.942 937.081,211.244 945.29,200.224 953.498,179.576 961.706,189.352 969.914,207.894 978.123,169.964 \n",
       "  986.331,189.591 994.539,191.52 1002.75,168.684 1010.96,179.607 1019.16,193.515 1027.37,163.974 1035.58,175.21 1043.79,177.755 1052,193.047 1060.2,179.97 \n",
       "  1068.41,188.199 1076.62,173.355 1084.83,181.216 1093.04,173.503 1101.25,185.431 1109.45,178.251 1117.66,153.428 1125.87,179.18 1134.08,198.841 1142.29,168.001 \n",
       "  1150.5,173.816 1158.7,184.263 1166.91,183.915 1175.12,176.863 1183.33,185.132 1191.54,169.989 1199.74,154.633 1207.95,191.523 1216.16,177.963 1224.37,201.494 \n",
       "  1232.58,170.411 1240.79,182.993 1248.99,159.204 1257.2,168.559 1265.41,172.449 1273.62,183.424 1281.83,164.936 1290.04,165.637 1298.24,196.397 1306.45,176.348 \n",
       "  1314.66,173.849 1322.87,170.37 1331.08,181.788 1339.28,172.51 1347.49,201.259 1355.7,195.32 1363.91,191.043 1372.12,195.6 1380.33,185.488 1388.53,173.28 \n",
       "  1396.74,193.105 1404.95,200.237 1413.16,175.315 1421.37,167.342 1429.58,196.484 1437.78,182.22 1445.99,186.125 1454.2,189.764 1462.41,177.941 1470.62,177.519 \n",
       "  1478.82,184.217 1487.03,177.305 1495.24,178.308 1503.45,176.431 1511.66,169.921 1519.87,178.009 1528.07,188.836 1536.28,167.431 1544.49,179.461 1552.7,166.812 \n",
       "  1560.91,185.332 1569.12,200.645 1577.32,183.228 1585.53,180.478 1593.74,180.234 1601.95,182.867 1610.16,191.675 1618.36,190.959 1626.57,186.11 1634.78,183.01 \n",
       "  1642.99,199.228 1651.2,190.587 1659.41,180.491 1667.61,182.629 1675.82,173.941 1684.03,187.059 1692.24,173.502 1700.45,182.664 1708.66,182.496 1716.86,169.347 \n",
       "  1725.07,179.747 1733.28,183.264 1741.49,184.141 1749.7,195.922 1757.91,186.367 1766.11,177.017 1774.32,178.092 1782.53,181.491 1790.74,181.652 1798.95,175.431 \n",
       "  1807.15,176.388 1815.36,181.224 1823.57,187.419 1831.78,176.273 1839.99,174.909 1848.2,191.29 1856.4,190.31 1864.61,189.606 1872.82,183.345 1881.03,196.374 \n",
       "  1889.24,179.286 1897.45,175.717 1905.65,186.939 1913.86,180.269 1922.07,186.426 1930.28,194.714 1938.49,181.227 1946.69,200.692 1954.9,177.036 1963.11,180.31 \n",
       "  1971.32,192.932 1979.53,196.992 1987.74,189.211 1995.94,174.213 2004.15,188.515 2012.36,203.031 2020.57,174.91 2028.78,190.007 2036.99,176.397 2045.19,187.338 \n",
       "  2053.4,180.122 2061.61,183.546 2069.82,180.035 2078.03,181.356 2086.23,186.169 2094.44,185.925 2102.65,185.51 2110.86,182.561 2119.07,175.864 2127.28,176.946 \n",
       "  2135.48,175.833 2143.69,199.111 2151.9,181.913 2160.11,187.178 2168.32,193.283 2176.53,176.718 2184.73,163.438 2192.94,186.976 2201.15,175.656 2209.36,189.713 \n",
       "  2217.57,173.728 2225.77,184.966 2233.98,201.593 2242.19,187.232 2250.4,172.238 2258.61,181.502 2266.82,181.338 2275.02,174.288 2283.23,170.831 2291.44,163.349 \n",
       "  \n",
       "  \"/>\n",
       "<polyline clip-path=\"url(#clip672)\" style=\"stroke:#e26f46; stroke-linecap:butt; stroke-linejoin:round; stroke-width:4; stroke-opacity:1; fill:none\" points=\"\n",
       "  255.798,1445.72 264.006,1337.85 272.214,1442.94 280.422,1343.99 288.631,1313.76 296.839,1318.22 305.047,1347.21 313.255,1297.86 321.464,1349.82 329.672,1357.48 \n",
       "  337.88,1373.4 346.088,1355.99 354.297,1330.51 362.505,1351.44 370.713,1312.01 378.921,1351.81 387.13,1346.38 395.338,1357.79 403.546,1346.23 411.754,1323.75 \n",
       "  419.962,1340.59 428.171,1336.18 436.379,1341.48 444.587,1348.45 452.795,1335.79 461.004,1367.59 469.212,1311.53 477.42,1369.52 485.628,1340.11 493.837,1336.78 \n",
       "  502.045,1363.08 510.253,1352.55 518.461,1336.11 526.67,1349.75 534.878,1338.7 543.086,1346.65 551.294,1346.29 559.503,1342.21 567.711,1352.43 575.919,1348.24 \n",
       "  584.127,1342.19 592.335,1340.86 600.544,1345.63 608.752,1335.69 616.96,1341.27 625.168,1339.98 633.377,1332.01 641.585,1345.85 649.793,1343.59 658.001,1345.64 \n",
       "  666.21,1355.49 674.418,1340.87 682.626,1342.08 690.834,1343.61 699.043,1341.7 707.251,1344.01 715.459,1338.05 723.667,1363.88 731.875,1353.83 740.084,1347.76 \n",
       "  748.292,1353.66 756.5,1348.12 764.708,1330.12 772.917,1350.87 781.125,1354.39 789.333,1357.44 797.541,1339.75 805.75,1346.05 813.958,1356.72 822.166,1346.18 \n",
       "  830.374,1338.94 838.583,1334.1 846.791,1344.16 854.999,1341.4 863.207,1355.8 871.415,1346.48 879.624,1355.83 887.832,1336.28 896.04,1347.05 904.248,1330.6 \n",
       "  912.457,1353.39 920.665,1353.83 928.873,1345.33 937.081,1341.02 945.29,1329.45 953.498,1339.14 961.706,1340.52 969.914,1327.15 978.123,1344.52 986.331,1343.51 \n",
       "  994.539,1348.58 1002.75,1358.28 1010.96,1351.06 1019.16,1331.79 1027.37,1350.33 1035.58,1340.8 1043.79,1347.86 1052,1334.52 1060.2,1344.39 1068.41,1338.53 \n",
       "  1076.62,1344.11 1084.83,1341.64 1093.04,1354.42 1101.25,1335.89 1109.45,1338.43 1117.66,1362.18 1125.87,1345.36 1134.08,1331.64 1142.29,1350.59 1150.5,1349.31 \n",
       "  1158.7,1343.57 1166.91,1350.7 1175.12,1348.91 1183.33,1341.35 1191.54,1354.92 1199.74,1357.59 1207.95,1343.06 1216.16,1349.92 1224.37,1328.42 1232.58,1357.69 \n",
       "  1240.79,1342.67 1248.99,1356.52 1257.2,1351.23 1265.41,1356.8 1273.62,1349.49 1281.83,1356.26 1290.04,1352.55 1298.24,1331.08 1306.45,1349.65 1314.66,1344.55 \n",
       "  1322.87,1348.37 1331.08,1347.63 1339.28,1351.17 1347.49,1328.99 1355.7,1341.08 1363.91,1337.97 1372.12,1333.17 1380.33,1340.05 1388.53,1350.05 1396.74,1336.08 \n",
       "  1404.95,1331.54 1413.16,1351.89 1421.37,1356.91 1429.58,1333.2 1437.78,1339.37 1445.99,1347.02 1454.2,1343.91 1462.41,1343.27 1470.62,1343.25 1478.82,1349.94 \n",
       "  1487.03,1342.98 1495.24,1338.52 1503.45,1346.53 1511.66,1345.66 1519.87,1341.03 1528.07,1344.05 1536.28,1350.12 1544.49,1338.05 1552.7,1347.46 1560.91,1348.75 \n",
       "  1569.12,1327.13 1577.32,1341.14 1585.53,1344 1593.74,1345.4 1601.95,1338.58 1610.16,1345.38 1618.36,1344.92 1626.57,1339.56 1634.78,1350.18 1642.99,1330.47 \n",
       "  1651.2,1346.73 1659.41,1346.37 1667.61,1344.82 1675.82,1346.92 1684.03,1341.97 1692.24,1346.41 1700.45,1342.92 1708.66,1340.09 1716.86,1342.89 1725.07,1342.66 \n",
       "  1733.28,1347.48 1741.49,1346.52 1749.7,1338.95 1757.91,1346.3 1766.11,1347.09 1774.32,1342.29 1782.53,1347.71 1790.74,1351.07 1798.95,1351.12 1807.15,1344.66 \n",
       "  1815.36,1346.51 1823.57,1332.54 1831.78,1341.57 1839.99,1343.72 1848.2,1342.59 1856.4,1341.36 1864.61,1335.76 1872.82,1340.22 1881.03,1337.1 1889.24,1348.42 \n",
       "  1897.45,1349.84 1905.65,1340.7 1913.86,1345.83 1922.07,1340.37 1930.28,1336.27 1938.49,1340.19 1946.69,1331.94 1954.9,1342.08 1963.11,1345.16 1971.32,1339.98 \n",
       "  1979.53,1330.37 1987.74,1336.23 1995.94,1352.65 2004.15,1343.34 2012.36,1336.24 2020.57,1346.18 2028.78,1344.06 2036.99,1350.67 2045.19,1342.6 2053.4,1352.39 \n",
       "  2061.61,1346.87 2069.82,1348.6 2078.03,1340.57 2086.23,1338.36 2094.44,1340.15 2102.65,1336.84 2110.86,1346.78 2119.07,1346.24 2127.28,1346.03 2135.48,1349.8 \n",
       "  2143.69,1334.86 2151.9,1339.08 2160.11,1343.08 2168.32,1340.71 2176.53,1353.46 2184.73,1350.02 2192.94,1339.74 2201.15,1349.86 2209.36,1336.66 2217.57,1336.92 \n",
       "  2225.77,1340.43 2233.98,1329.38 2242.19,1341.58 2250.4,1348.22 2258.61,1346.5 2266.82,1348.5 2275.02,1345.48 2283.23,1347.75 2291.44,1359.24 \n",
       "  \"/>\n",
       "<path clip-path=\"url(#clip670)\" d=\"\n",
       "M1987.39 250.738 L2280.54 250.738 L2280.54 95.2176 L1987.39 95.2176  Z\n",
       "  \" fill=\"#ffffff\" fill-rule=\"evenodd\" fill-opacity=\"1\"/>\n",
       "<polyline clip-path=\"url(#clip670)\" style=\"stroke:#000000; stroke-linecap:butt; stroke-linejoin:round; stroke-width:4; stroke-opacity:1; fill:none\" points=\"\n",
       "  1987.39,250.738 2280.54,250.738 2280.54,95.2176 1987.39,95.2176 1987.39,250.738 \n",
       "  \"/>\n",
       "<polyline clip-path=\"url(#clip670)\" style=\"stroke:#009af9; stroke-linecap:butt; stroke-linejoin:round; stroke-width:4; stroke-opacity:1; fill:none\" points=\"\n",
       "  2011.46,147.058 2155.89,147.058 \n",
       "  \"/>\n",
       "<path clip-path=\"url(#clip670)\" d=\"M2193.81 166.745 Q2192 171.375 2190.29 172.787 Q2188.58 174.199 2185.71 174.199 L2182.3 174.199 L2182.3 170.634 L2184.8 170.634 Q2186.56 170.634 2187.53 169.8 Q2188.51 168.967 2189.69 165.865 L2190.45 163.921 L2179.97 138.412 L2184.48 138.412 L2192.58 158.689 L2200.68 138.412 L2205.2 138.412 L2193.81 166.745 Z\" fill=\"#000000\" fill-rule=\"evenodd\" fill-opacity=\"1\" /><path clip-path=\"url(#clip670)\" d=\"M2212.49 160.402 L2220.13 160.402 L2220.13 134.037 L2211.82 135.703 L2211.82 131.444 L2220.08 129.778 L2224.76 129.778 L2224.76 160.402 L2232.4 160.402 L2232.4 164.338 L2212.49 164.338 L2212.49 160.402 Z\" fill=\"#000000\" fill-rule=\"evenodd\" fill-opacity=\"1\" /><polyline clip-path=\"url(#clip670)\" style=\"stroke:#e26f46; stroke-linecap:butt; stroke-linejoin:round; stroke-width:4; stroke-opacity:1; fill:none\" points=\"\n",
       "  2011.46,198.898 2155.89,198.898 \n",
       "  \"/>\n",
       "<path clip-path=\"url(#clip670)\" d=\"M2193.81 218.585 Q2192 223.215 2190.29 224.627 Q2188.58 226.039 2185.71 226.039 L2182.3 226.039 L2182.3 222.474 L2184.8 222.474 Q2186.56 222.474 2187.53 221.64 Q2188.51 220.807 2189.69 217.705 L2190.45 215.761 L2179.97 190.252 L2184.48 190.252 L2192.58 210.529 L2200.68 190.252 L2205.2 190.252 L2193.81 218.585 Z\" fill=\"#000000\" fill-rule=\"evenodd\" fill-opacity=\"1\" /><path clip-path=\"url(#clip670)\" d=\"M2215.71 212.242 L2232.03 212.242 L2232.03 216.178 L2210.08 216.178 L2210.08 212.242 Q2212.74 209.488 2217.33 204.858 Q2221.93 200.205 2223.11 198.863 Q2225.36 196.34 2226.24 194.604 Q2227.14 192.844 2227.14 191.155 Q2227.14 188.4 2225.2 186.664 Q2223.28 184.928 2220.17 184.928 Q2217.97 184.928 2215.52 185.692 Q2213.09 186.455 2210.31 188.006 L2210.31 183.284 Q2213.14 182.15 2215.59 181.571 Q2218.04 180.993 2220.08 180.993 Q2225.45 180.993 2228.65 183.678 Q2231.84 186.363 2231.84 190.854 Q2231.84 192.983 2231.03 194.905 Q2230.24 196.803 2228.14 199.395 Q2227.56 200.067 2224.46 203.284 Q2221.35 206.479 2215.71 212.242 Z\" fill=\"#000000\" fill-rule=\"evenodd\" fill-opacity=\"1\" /></svg>\n"
      ]
     },
     "execution_count": 14,
     "metadata": {},
     "output_type": "execute_result"
    }
   ],
   "source": [
    "using Plots\n",
    "plot(1:L, [res_shared_av, res_shared_std])"
   ]
  },
  {
   "cell_type": "markdown",
   "id": "68fa960f",
   "metadata": {},
   "source": [
    "### 1.4 Functional Parallelisation: pmap\n",
    "\n",
    "The most intuitive way to interact with the Distributed package is through the use of the ``pmap`` function which works precisely the same way as the ``map`` function applying some operation through an iterable list. The function is nice because it automatically stores the result of the anonymous function into the memory address asscociated with the index of the vector we are mapping the function onto; we do not need to worry about shared memory. Let's try out with a simple function to show which thread we are excecuting on."
   ]
  },
  {
   "cell_type": "code",
   "execution_count": 15,
   "id": "a89ece91",
   "metadata": {},
   "outputs": [
    {
     "data": {
      "text/plain": [
       "10-element Vector{Int64}:\n",
       " 2\n",
       " 3\n",
       " 4\n",
       " 5\n",
       " 4\n",
       " 4\n",
       " 4\n",
       " 4\n",
       " 4\n",
       " 4"
      ]
     },
     "execution_count": 15,
     "metadata": {},
     "output_type": "execute_result"
    }
   ],
   "source": [
    "pmap(x -> myid(), 1:10)"
   ]
  },
  {
   "cell_type": "markdown",
   "id": "5c48d92e",
   "metadata": {},
   "source": [
    "Now let's try and do the previous task instead using ``pmap``. We will compare them by eyeballing the plots but a more comprehensive comparison would involve "
   ]
  },
  {
   "cell_type": "code",
   "execution_count": 16,
   "id": "53a0b653",
   "metadata": {},
   "outputs": [
    {
     "data": {
      "image/svg+xml": [
       "<?xml version=\"1.0\" encoding=\"utf-8\"?>\n",
       "<svg xmlns=\"http://www.w3.org/2000/svg\" xmlns:xlink=\"http://www.w3.org/1999/xlink\" width=\"600\" height=\"400\" viewBox=\"0 0 2400 1600\">\n",
       "<defs>\n",
       "  <clipPath id=\"clip710\">\n",
       "    <rect x=\"0\" y=\"0\" width=\"2400\" height=\"1600\"/>\n",
       "  </clipPath>\n",
       "</defs>\n",
       "<path clip-path=\"url(#clip710)\" d=\"\n",
       "M0 1600 L2400 1600 L2400 0 L0 0  Z\n",
       "  \" fill=\"#ffffff\" fill-rule=\"evenodd\" fill-opacity=\"1\"/>\n",
       "<defs>\n",
       "  <clipPath id=\"clip711\">\n",
       "    <rect x=\"480\" y=\"0\" width=\"1681\" height=\"1600\"/>\n",
       "  </clipPath>\n",
       "</defs>\n",
       "<path clip-path=\"url(#clip710)\" d=\"\n",
       "M186.274 1486.45 L2352.76 1486.45 L2352.76 47.2441 L186.274 47.2441  Z\n",
       "  \" fill=\"#ffffff\" fill-rule=\"evenodd\" fill-opacity=\"1\"/>\n",
       "<defs>\n",
       "  <clipPath id=\"clip712\">\n",
       "    <rect x=\"186\" y=\"47\" width=\"2167\" height=\"1440\"/>\n",
       "  </clipPath>\n",
       "</defs>\n",
       "<polyline clip-path=\"url(#clip712)\" style=\"stroke:#000000; stroke-linecap:butt; stroke-linejoin:round; stroke-width:2; stroke-opacity:0.1; fill:none\" points=\"\n",
       "  239.381,1486.45 239.381,47.2441 \n",
       "  \"/>\n",
       "<polyline clip-path=\"url(#clip712)\" style=\"stroke:#000000; stroke-linecap:butt; stroke-linejoin:round; stroke-width:2; stroke-opacity:0.1; fill:none\" points=\"\n",
       "  649.793,1486.45 649.793,47.2441 \n",
       "  \"/>\n",
       "<polyline clip-path=\"url(#clip712)\" style=\"stroke:#000000; stroke-linecap:butt; stroke-linejoin:round; stroke-width:2; stroke-opacity:0.1; fill:none\" points=\"\n",
       "  1060.2,1486.45 1060.2,47.2441 \n",
       "  \"/>\n",
       "<polyline clip-path=\"url(#clip712)\" style=\"stroke:#000000; stroke-linecap:butt; stroke-linejoin:round; stroke-width:2; stroke-opacity:0.1; fill:none\" points=\"\n",
       "  1470.62,1486.45 1470.62,47.2441 \n",
       "  \"/>\n",
       "<polyline clip-path=\"url(#clip712)\" style=\"stroke:#000000; stroke-linecap:butt; stroke-linejoin:round; stroke-width:2; stroke-opacity:0.1; fill:none\" points=\"\n",
       "  1881.03,1486.45 1881.03,47.2441 \n",
       "  \"/>\n",
       "<polyline clip-path=\"url(#clip712)\" style=\"stroke:#000000; stroke-linecap:butt; stroke-linejoin:round; stroke-width:2; stroke-opacity:0.1; fill:none\" points=\"\n",
       "  2291.44,1486.45 2291.44,47.2441 \n",
       "  \"/>\n",
       "<polyline clip-path=\"url(#clip710)\" style=\"stroke:#000000; stroke-linecap:butt; stroke-linejoin:round; stroke-width:4; stroke-opacity:1; fill:none\" points=\"\n",
       "  186.274,1486.45 2352.76,1486.45 \n",
       "  \"/>\n",
       "<polyline clip-path=\"url(#clip710)\" style=\"stroke:#000000; stroke-linecap:butt; stroke-linejoin:round; stroke-width:4; stroke-opacity:1; fill:none\" points=\"\n",
       "  239.381,1486.45 239.381,1467.55 \n",
       "  \"/>\n",
       "<polyline clip-path=\"url(#clip710)\" style=\"stroke:#000000; stroke-linecap:butt; stroke-linejoin:round; stroke-width:4; stroke-opacity:1; fill:none\" points=\"\n",
       "  649.793,1486.45 649.793,1467.55 \n",
       "  \"/>\n",
       "<polyline clip-path=\"url(#clip710)\" style=\"stroke:#000000; stroke-linecap:butt; stroke-linejoin:round; stroke-width:4; stroke-opacity:1; fill:none\" points=\"\n",
       "  1060.2,1486.45 1060.2,1467.55 \n",
       "  \"/>\n",
       "<polyline clip-path=\"url(#clip710)\" style=\"stroke:#000000; stroke-linecap:butt; stroke-linejoin:round; stroke-width:4; stroke-opacity:1; fill:none\" points=\"\n",
       "  1470.62,1486.45 1470.62,1467.55 \n",
       "  \"/>\n",
       "<polyline clip-path=\"url(#clip710)\" style=\"stroke:#000000; stroke-linecap:butt; stroke-linejoin:round; stroke-width:4; stroke-opacity:1; fill:none\" points=\"\n",
       "  1881.03,1486.45 1881.03,1467.55 \n",
       "  \"/>\n",
       "<polyline clip-path=\"url(#clip710)\" style=\"stroke:#000000; stroke-linecap:butt; stroke-linejoin:round; stroke-width:4; stroke-opacity:1; fill:none\" points=\"\n",
       "  2291.44,1486.45 2291.44,1467.55 \n",
       "  \"/>\n",
       "<path clip-path=\"url(#clip710)\" d=\"M239.381 1517.37 Q235.77 1517.37 233.942 1520.93 Q232.136 1524.47 232.136 1531.6 Q232.136 1538.71 233.942 1542.27 Q235.77 1545.82 239.381 1545.82 Q243.016 1545.82 244.821 1542.27 Q246.65 1538.71 246.65 1531.6 Q246.65 1524.47 244.821 1520.93 Q243.016 1517.37 239.381 1517.37 M239.381 1513.66 Q245.191 1513.66 248.247 1518.27 Q251.326 1522.85 251.326 1531.6 Q251.326 1540.33 248.247 1544.94 Q245.191 1549.52 239.381 1549.52 Q233.571 1549.52 230.492 1544.94 Q227.437 1540.33 227.437 1531.6 Q227.437 1522.85 230.492 1518.27 Q233.571 1513.66 239.381 1513.66 Z\" fill=\"#000000\" fill-rule=\"evenodd\" fill-opacity=\"1\" /><path clip-path=\"url(#clip710)\" d=\"M624.492 1514.29 L642.849 1514.29 L642.849 1518.22 L628.775 1518.22 L628.775 1526.7 Q629.793 1526.35 630.812 1526.19 Q631.83 1526 632.849 1526 Q638.636 1526 642.015 1529.17 Q645.395 1532.34 645.395 1537.76 Q645.395 1543.34 641.923 1546.44 Q638.451 1549.52 632.131 1549.52 Q629.955 1549.52 627.687 1549.15 Q625.441 1548.78 623.034 1548.04 L623.034 1543.34 Q625.117 1544.47 627.34 1545.03 Q629.562 1545.58 632.039 1545.58 Q636.043 1545.58 638.381 1543.48 Q640.719 1541.37 640.719 1537.76 Q640.719 1534.15 638.381 1532.04 Q636.043 1529.94 632.039 1529.94 Q630.164 1529.94 628.289 1530.35 Q626.437 1530.77 624.492 1531.65 L624.492 1514.29 Z\" fill=\"#000000\" fill-rule=\"evenodd\" fill-opacity=\"1\" /><path clip-path=\"url(#clip710)\" d=\"M664.608 1517.37 Q660.997 1517.37 659.168 1520.93 Q657.363 1524.47 657.363 1531.6 Q657.363 1538.71 659.168 1542.27 Q660.997 1545.82 664.608 1545.82 Q668.242 1545.82 670.048 1542.27 Q671.876 1538.71 671.876 1531.6 Q671.876 1524.47 670.048 1520.93 Q668.242 1517.37 664.608 1517.37 M664.608 1513.66 Q670.418 1513.66 673.474 1518.27 Q676.552 1522.85 676.552 1531.6 Q676.552 1540.33 673.474 1544.94 Q670.418 1549.52 664.608 1549.52 Q658.798 1549.52 655.719 1544.94 Q652.663 1540.33 652.663 1531.6 Q652.663 1522.85 655.719 1518.27 Q658.798 1513.66 664.608 1513.66 Z\" fill=\"#000000\" fill-rule=\"evenodd\" fill-opacity=\"1\" /><path clip-path=\"url(#clip710)\" d=\"M1019.81 1544.91 L1027.45 1544.91 L1027.45 1518.55 L1019.14 1520.21 L1019.14 1515.95 L1027.4 1514.29 L1032.08 1514.29 L1032.08 1544.91 L1039.72 1544.91 L1039.72 1548.85 L1019.81 1548.85 L1019.81 1544.91 Z\" fill=\"#000000\" fill-rule=\"evenodd\" fill-opacity=\"1\" /><path clip-path=\"url(#clip710)\" d=\"M1059.16 1517.37 Q1055.55 1517.37 1053.72 1520.93 Q1051.92 1524.47 1051.92 1531.6 Q1051.92 1538.71 1053.72 1542.27 Q1055.55 1545.82 1059.16 1545.82 Q1062.8 1545.82 1064.6 1542.27 Q1066.43 1538.71 1066.43 1531.6 Q1066.43 1524.47 1064.6 1520.93 Q1062.8 1517.37 1059.16 1517.37 M1059.16 1513.66 Q1064.97 1513.66 1068.03 1518.27 Q1071.11 1522.85 1071.11 1531.6 Q1071.11 1540.33 1068.03 1544.94 Q1064.97 1549.52 1059.16 1549.52 Q1053.35 1549.52 1050.27 1544.94 Q1047.22 1540.33 1047.22 1531.6 Q1047.22 1522.85 1050.27 1518.27 Q1053.35 1513.66 1059.16 1513.66 Z\" fill=\"#000000\" fill-rule=\"evenodd\" fill-opacity=\"1\" /><path clip-path=\"url(#clip710)\" d=\"M1089.33 1517.37 Q1085.71 1517.37 1083.89 1520.93 Q1082.08 1524.47 1082.08 1531.6 Q1082.08 1538.71 1083.89 1542.27 Q1085.71 1545.82 1089.33 1545.82 Q1092.96 1545.82 1094.76 1542.27 Q1096.59 1538.71 1096.59 1531.6 Q1096.59 1524.47 1094.76 1520.93 Q1092.96 1517.37 1089.33 1517.37 M1089.33 1513.66 Q1095.14 1513.66 1098.19 1518.27 Q1101.27 1522.85 1101.27 1531.6 Q1101.27 1540.33 1098.19 1544.94 Q1095.14 1549.52 1089.33 1549.52 Q1083.51 1549.52 1080.44 1544.94 Q1077.38 1540.33 1077.38 1531.6 Q1077.38 1522.85 1080.44 1518.27 Q1083.51 1513.66 1089.33 1513.66 Z\" fill=\"#000000\" fill-rule=\"evenodd\" fill-opacity=\"1\" /><path clip-path=\"url(#clip710)\" d=\"M1430.22 1544.91 L1437.86 1544.91 L1437.86 1518.55 L1429.55 1520.21 L1429.55 1515.95 L1437.82 1514.29 L1442.49 1514.29 L1442.49 1544.91 L1450.13 1544.91 L1450.13 1548.85 L1430.22 1548.85 L1430.22 1544.91 Z\" fill=\"#000000\" fill-rule=\"evenodd\" fill-opacity=\"1\" /><path clip-path=\"url(#clip710)\" d=\"M1459.62 1514.29 L1477.98 1514.29 L1477.98 1518.22 L1463.9 1518.22 L1463.9 1526.7 Q1464.92 1526.35 1465.94 1526.19 Q1466.96 1526 1467.98 1526 Q1473.76 1526 1477.14 1529.17 Q1480.52 1532.34 1480.52 1537.76 Q1480.52 1543.34 1477.05 1546.44 Q1473.58 1549.52 1467.26 1549.52 Q1465.08 1549.52 1462.82 1549.15 Q1460.57 1548.78 1458.16 1548.04 L1458.16 1543.34 Q1460.25 1544.47 1462.47 1545.03 Q1464.69 1545.58 1467.17 1545.58 Q1471.17 1545.58 1473.51 1543.48 Q1475.85 1541.37 1475.85 1537.76 Q1475.85 1534.15 1473.51 1532.04 Q1471.17 1529.94 1467.17 1529.94 Q1465.29 1529.94 1463.42 1530.35 Q1461.57 1530.77 1459.62 1531.65 L1459.62 1514.29 Z\" fill=\"#000000\" fill-rule=\"evenodd\" fill-opacity=\"1\" /><path clip-path=\"url(#clip710)\" d=\"M1499.74 1517.37 Q1496.13 1517.37 1494.3 1520.93 Q1492.49 1524.47 1492.49 1531.6 Q1492.49 1538.71 1494.3 1542.27 Q1496.13 1545.82 1499.74 1545.82 Q1503.37 1545.82 1505.18 1542.27 Q1507.01 1538.71 1507.01 1531.6 Q1507.01 1524.47 1505.18 1520.93 Q1503.37 1517.37 1499.74 1517.37 M1499.74 1513.66 Q1505.55 1513.66 1508.6 1518.27 Q1511.68 1522.85 1511.68 1531.6 Q1511.68 1540.33 1508.6 1544.94 Q1505.55 1549.52 1499.74 1549.52 Q1493.93 1549.52 1490.85 1544.94 Q1487.79 1540.33 1487.79 1531.6 Q1487.79 1522.85 1490.85 1518.27 Q1493.93 1513.66 1499.74 1513.66 Z\" fill=\"#000000\" fill-rule=\"evenodd\" fill-opacity=\"1\" /><path clip-path=\"url(#clip710)\" d=\"M1844.72 1544.91 L1861.04 1544.91 L1861.04 1548.85 L1839.1 1548.85 L1839.1 1544.91 Q1841.76 1542.16 1846.34 1537.53 Q1850.95 1532.88 1852.13 1531.53 Q1854.37 1529.01 1855.25 1527.27 Q1856.16 1525.51 1856.16 1523.82 Q1856.16 1521.07 1854.21 1519.33 Q1852.29 1517.6 1849.19 1517.6 Q1846.99 1517.6 1844.54 1518.36 Q1842.11 1519.13 1839.33 1520.68 L1839.33 1515.95 Q1842.15 1514.82 1844.61 1514.24 Q1847.06 1513.66 1849.1 1513.66 Q1854.47 1513.66 1857.66 1516.35 Q1860.86 1519.03 1860.86 1523.52 Q1860.86 1525.65 1860.04 1527.57 Q1859.26 1529.47 1857.15 1532.07 Q1856.57 1532.74 1853.47 1535.95 Q1850.37 1539.15 1844.72 1544.91 Z\" fill=\"#000000\" fill-rule=\"evenodd\" fill-opacity=\"1\" /><path clip-path=\"url(#clip710)\" d=\"M1880.85 1517.37 Q1877.24 1517.37 1875.42 1520.93 Q1873.61 1524.47 1873.61 1531.6 Q1873.61 1538.71 1875.42 1542.27 Q1877.24 1545.82 1880.85 1545.82 Q1884.49 1545.82 1886.29 1542.27 Q1888.12 1538.71 1888.12 1531.6 Q1888.12 1524.47 1886.29 1520.93 Q1884.49 1517.37 1880.85 1517.37 M1880.85 1513.66 Q1886.67 1513.66 1889.72 1518.27 Q1892.8 1522.85 1892.8 1531.6 Q1892.8 1540.33 1889.72 1544.94 Q1886.67 1549.52 1880.85 1549.52 Q1875.04 1549.52 1871.97 1544.94 Q1868.91 1540.33 1868.91 1531.6 Q1868.91 1522.85 1871.97 1518.27 Q1875.04 1513.66 1880.85 1513.66 Z\" fill=\"#000000\" fill-rule=\"evenodd\" fill-opacity=\"1\" /><path clip-path=\"url(#clip710)\" d=\"M1911.02 1517.37 Q1907.41 1517.37 1905.58 1520.93 Q1903.77 1524.47 1903.77 1531.6 Q1903.77 1538.71 1905.58 1542.27 Q1907.41 1545.82 1911.02 1545.82 Q1914.65 1545.82 1916.46 1542.27 Q1918.29 1538.71 1918.29 1531.6 Q1918.29 1524.47 1916.46 1520.93 Q1914.65 1517.37 1911.02 1517.37 M1911.02 1513.66 Q1916.83 1513.66 1919.88 1518.27 Q1922.96 1522.85 1922.96 1531.6 Q1922.96 1540.33 1919.88 1544.94 Q1916.83 1549.52 1911.02 1549.52 Q1905.21 1549.52 1902.13 1544.94 Q1899.07 1540.33 1899.07 1531.6 Q1899.07 1522.85 1902.13 1518.27 Q1905.21 1513.66 1911.02 1513.66 Z\" fill=\"#000000\" fill-rule=\"evenodd\" fill-opacity=\"1\" /><path clip-path=\"url(#clip710)\" d=\"M2255.13 1544.91 L2271.45 1544.91 L2271.45 1548.85 L2249.51 1548.85 L2249.51 1544.91 Q2252.17 1542.16 2256.75 1537.53 Q2261.36 1532.88 2262.54 1531.53 Q2264.79 1529.01 2265.67 1527.27 Q2266.57 1525.51 2266.57 1523.82 Q2266.57 1521.07 2264.62 1519.33 Q2262.7 1517.6 2259.6 1517.6 Q2257.4 1517.6 2254.95 1518.36 Q2252.52 1519.13 2249.74 1520.68 L2249.74 1515.95 Q2252.56 1514.82 2255.02 1514.24 Q2257.47 1513.66 2259.51 1513.66 Q2264.88 1513.66 2268.07 1516.35 Q2271.27 1519.03 2271.27 1523.52 Q2271.27 1525.65 2270.46 1527.57 Q2269.67 1529.47 2267.56 1532.07 Q2266.98 1532.74 2263.88 1535.95 Q2260.78 1539.15 2255.13 1544.91 Z\" fill=\"#000000\" fill-rule=\"evenodd\" fill-opacity=\"1\" /><path clip-path=\"url(#clip710)\" d=\"M2281.31 1514.29 L2299.67 1514.29 L2299.67 1518.22 L2285.6 1518.22 L2285.6 1526.7 Q2286.61 1526.35 2287.63 1526.19 Q2288.65 1526 2289.67 1526 Q2295.46 1526 2298.84 1529.17 Q2302.22 1532.34 2302.22 1537.76 Q2302.22 1543.34 2298.74 1546.44 Q2295.27 1549.52 2288.95 1549.52 Q2286.78 1549.52 2284.51 1549.15 Q2282.26 1548.78 2279.85 1548.04 L2279.85 1543.34 Q2281.94 1544.47 2284.16 1545.03 Q2286.38 1545.58 2288.86 1545.58 Q2292.86 1545.58 2295.2 1543.48 Q2297.54 1541.37 2297.54 1537.76 Q2297.54 1534.15 2295.2 1532.04 Q2292.86 1529.94 2288.86 1529.94 Q2286.98 1529.94 2285.11 1530.35 Q2283.26 1530.77 2281.31 1531.65 L2281.31 1514.29 Z\" fill=\"#000000\" fill-rule=\"evenodd\" fill-opacity=\"1\" /><path clip-path=\"url(#clip710)\" d=\"M2321.43 1517.37 Q2317.82 1517.37 2315.99 1520.93 Q2314.18 1524.47 2314.18 1531.6 Q2314.18 1538.71 2315.99 1542.27 Q2317.82 1545.82 2321.43 1545.82 Q2325.06 1545.82 2326.87 1542.27 Q2328.7 1538.71 2328.7 1531.6 Q2328.7 1524.47 2326.87 1520.93 Q2325.06 1517.37 2321.43 1517.37 M2321.43 1513.66 Q2327.24 1513.66 2330.29 1518.27 Q2333.37 1522.85 2333.37 1531.6 Q2333.37 1540.33 2330.29 1544.94 Q2327.24 1549.52 2321.43 1549.52 Q2315.62 1549.52 2312.54 1544.94 Q2309.48 1540.33 2309.48 1531.6 Q2309.48 1522.85 2312.54 1518.27 Q2315.62 1513.66 2321.43 1513.66 Z\" fill=\"#000000\" fill-rule=\"evenodd\" fill-opacity=\"1\" /><polyline clip-path=\"url(#clip712)\" style=\"stroke:#000000; stroke-linecap:butt; stroke-linejoin:round; stroke-width:2; stroke-opacity:0.1; fill:none\" points=\"\n",
       "  186.274,1446.83 2352.76,1446.83 \n",
       "  \"/>\n",
       "<polyline clip-path=\"url(#clip712)\" style=\"stroke:#000000; stroke-linecap:butt; stroke-linejoin:round; stroke-width:2; stroke-opacity:0.1; fill:none\" points=\"\n",
       "  186.274,1205.48 2352.76,1205.48 \n",
       "  \"/>\n",
       "<polyline clip-path=\"url(#clip712)\" style=\"stroke:#000000; stroke-linecap:butt; stroke-linejoin:round; stroke-width:2; stroke-opacity:0.1; fill:none\" points=\"\n",
       "  186.274,964.137 2352.76,964.137 \n",
       "  \"/>\n",
       "<polyline clip-path=\"url(#clip712)\" style=\"stroke:#000000; stroke-linecap:butt; stroke-linejoin:round; stroke-width:2; stroke-opacity:0.1; fill:none\" points=\"\n",
       "  186.274,722.792 2352.76,722.792 \n",
       "  \"/>\n",
       "<polyline clip-path=\"url(#clip712)\" style=\"stroke:#000000; stroke-linecap:butt; stroke-linejoin:round; stroke-width:2; stroke-opacity:0.1; fill:none\" points=\"\n",
       "  186.274,481.447 2352.76,481.447 \n",
       "  \"/>\n",
       "<polyline clip-path=\"url(#clip712)\" style=\"stroke:#000000; stroke-linecap:butt; stroke-linejoin:round; stroke-width:2; stroke-opacity:0.1; fill:none\" points=\"\n",
       "  186.274,240.102 2352.76,240.102 \n",
       "  \"/>\n",
       "<polyline clip-path=\"url(#clip710)\" style=\"stroke:#000000; stroke-linecap:butt; stroke-linejoin:round; stroke-width:4; stroke-opacity:1; fill:none\" points=\"\n",
       "  186.274,1486.45 186.274,47.2441 \n",
       "  \"/>\n",
       "<polyline clip-path=\"url(#clip710)\" style=\"stroke:#000000; stroke-linecap:butt; stroke-linejoin:round; stroke-width:4; stroke-opacity:1; fill:none\" points=\"\n",
       "  186.274,1446.83 205.172,1446.83 \n",
       "  \"/>\n",
       "<polyline clip-path=\"url(#clip710)\" style=\"stroke:#000000; stroke-linecap:butt; stroke-linejoin:round; stroke-width:4; stroke-opacity:1; fill:none\" points=\"\n",
       "  186.274,1205.48 205.172,1205.48 \n",
       "  \"/>\n",
       "<polyline clip-path=\"url(#clip710)\" style=\"stroke:#000000; stroke-linecap:butt; stroke-linejoin:round; stroke-width:4; stroke-opacity:1; fill:none\" points=\"\n",
       "  186.274,964.137 205.172,964.137 \n",
       "  \"/>\n",
       "<polyline clip-path=\"url(#clip710)\" style=\"stroke:#000000; stroke-linecap:butt; stroke-linejoin:round; stroke-width:4; stroke-opacity:1; fill:none\" points=\"\n",
       "  186.274,722.792 205.172,722.792 \n",
       "  \"/>\n",
       "<polyline clip-path=\"url(#clip710)\" style=\"stroke:#000000; stroke-linecap:butt; stroke-linejoin:round; stroke-width:4; stroke-opacity:1; fill:none\" points=\"\n",
       "  186.274,481.447 205.172,481.447 \n",
       "  \"/>\n",
       "<polyline clip-path=\"url(#clip710)\" style=\"stroke:#000000; stroke-linecap:butt; stroke-linejoin:round; stroke-width:4; stroke-opacity:1; fill:none\" points=\"\n",
       "  186.274,240.102 205.172,240.102 \n",
       "  \"/>\n",
       "<path clip-path=\"url(#clip710)\" d=\"M62.9365 1432.63 Q59.3254 1432.63 57.4967 1436.19 Q55.6912 1439.73 55.6912 1446.86 Q55.6912 1453.97 57.4967 1457.53 Q59.3254 1461.07 62.9365 1461.07 Q66.5707 1461.07 68.3763 1457.53 Q70.205 1453.97 70.205 1446.86 Q70.205 1439.73 68.3763 1436.19 Q66.5707 1432.63 62.9365 1432.63 M62.9365 1428.92 Q68.7467 1428.92 71.8022 1433.53 Q74.8809 1438.11 74.8809 1446.86 Q74.8809 1455.59 71.8022 1460.19 Q68.7467 1464.78 62.9365 1464.78 Q57.1264 1464.78 54.0477 1460.19 Q50.9921 1455.59 50.9921 1446.86 Q50.9921 1438.11 54.0477 1433.53 Q57.1264 1428.92 62.9365 1428.92 Z\" fill=\"#000000\" fill-rule=\"evenodd\" fill-opacity=\"1\" /><path clip-path=\"url(#clip710)\" d=\"M83.0984 1458.23 L87.9827 1458.23 L87.9827 1464.11 L83.0984 1464.11 L83.0984 1458.23 Z\" fill=\"#000000\" fill-rule=\"evenodd\" fill-opacity=\"1\" /><path clip-path=\"url(#clip710)\" d=\"M108.168 1432.63 Q104.557 1432.63 102.728 1436.19 Q100.922 1439.73 100.922 1446.86 Q100.922 1453.97 102.728 1457.53 Q104.557 1461.07 108.168 1461.07 Q111.802 1461.07 113.608 1457.53 Q115.436 1453.97 115.436 1446.86 Q115.436 1439.73 113.608 1436.19 Q111.802 1432.63 108.168 1432.63 M108.168 1428.92 Q113.978 1428.92 117.033 1433.53 Q120.112 1438.11 120.112 1446.86 Q120.112 1455.59 117.033 1460.19 Q113.978 1464.78 108.168 1464.78 Q102.358 1464.78 99.2789 1460.19 Q96.2234 1455.59 96.2234 1446.86 Q96.2234 1438.11 99.2789 1433.53 Q102.358 1428.92 108.168 1428.92 Z\" fill=\"#000000\" fill-rule=\"evenodd\" fill-opacity=\"1\" /><path clip-path=\"url(#clip710)\" d=\"M138.33 1432.63 Q134.719 1432.63 132.89 1436.19 Q131.084 1439.73 131.084 1446.86 Q131.084 1453.97 132.89 1457.53 Q134.719 1461.07 138.33 1461.07 Q141.964 1461.07 143.769 1457.53 Q145.598 1453.97 145.598 1446.86 Q145.598 1439.73 143.769 1436.19 Q141.964 1432.63 138.33 1432.63 M138.33 1428.92 Q144.14 1428.92 147.195 1433.53 Q150.274 1438.11 150.274 1446.86 Q150.274 1455.59 147.195 1460.19 Q144.14 1464.78 138.33 1464.78 Q132.519 1464.78 129.441 1460.19 Q126.385 1455.59 126.385 1446.86 Q126.385 1438.11 129.441 1433.53 Q132.519 1428.92 138.33 1428.92 Z\" fill=\"#000000\" fill-rule=\"evenodd\" fill-opacity=\"1\" /><path clip-path=\"url(#clip710)\" d=\"M63.9319 1191.28 Q60.3208 1191.28 58.4921 1194.85 Q56.6865 1198.39 56.6865 1205.52 Q56.6865 1212.62 58.4921 1216.19 Q60.3208 1219.73 63.9319 1219.73 Q67.5661 1219.73 69.3717 1216.19 Q71.2004 1212.62 71.2004 1205.52 Q71.2004 1198.39 69.3717 1194.85 Q67.5661 1191.28 63.9319 1191.28 M63.9319 1187.58 Q69.742 1187.58 72.7976 1192.18 Q75.8763 1196.77 75.8763 1205.52 Q75.8763 1214.24 72.7976 1218.85 Q69.742 1223.43 63.9319 1223.43 Q58.1217 1223.43 55.043 1218.85 Q51.9875 1214.24 51.9875 1205.52 Q51.9875 1196.77 55.043 1192.18 Q58.1217 1187.58 63.9319 1187.58 Z\" fill=\"#000000\" fill-rule=\"evenodd\" fill-opacity=\"1\" /><path clip-path=\"url(#clip710)\" d=\"M84.0938 1216.88 L88.978 1216.88 L88.978 1222.76 L84.0938 1222.76 L84.0938 1216.88 Z\" fill=\"#000000\" fill-rule=\"evenodd\" fill-opacity=\"1\" /><path clip-path=\"url(#clip710)\" d=\"M103.191 1218.83 L119.51 1218.83 L119.51 1222.76 L97.566 1222.76 L97.566 1218.83 Q100.228 1216.07 104.811 1211.44 Q109.418 1206.79 110.598 1205.45 Q112.844 1202.92 113.723 1201.19 Q114.626 1199.43 114.626 1197.74 Q114.626 1194.98 112.682 1193.25 Q110.76 1191.51 107.658 1191.51 Q105.459 1191.51 103.006 1192.28 Q100.575 1193.04 97.7974 1194.59 L97.7974 1189.87 Q100.621 1188.73 103.075 1188.16 Q105.529 1187.58 107.566 1187.58 Q112.936 1187.58 116.131 1190.26 Q119.325 1192.95 119.325 1197.44 Q119.325 1199.57 118.515 1201.49 Q117.728 1203.39 115.621 1205.98 Q115.043 1206.65 111.941 1209.87 Q108.839 1213.06 103.191 1218.83 Z\" fill=\"#000000\" fill-rule=\"evenodd\" fill-opacity=\"1\" /><path clip-path=\"url(#clip710)\" d=\"M129.371 1188.2 L147.728 1188.2 L147.728 1192.14 L133.654 1192.14 L133.654 1200.61 Q134.672 1200.26 135.691 1200.1 Q136.709 1199.91 137.728 1199.91 Q143.515 1199.91 146.894 1203.09 Q150.274 1206.26 150.274 1211.67 Q150.274 1217.25 146.802 1220.35 Q143.33 1223.43 137.01 1223.43 Q134.834 1223.43 132.566 1223.06 Q130.32 1222.69 127.913 1221.95 L127.913 1217.25 Q129.996 1218.39 132.219 1218.94 Q134.441 1219.5 136.918 1219.5 Q140.922 1219.5 143.26 1217.39 Q145.598 1215.29 145.598 1211.67 Q145.598 1208.06 143.26 1205.96 Q140.922 1203.85 136.918 1203.85 Q135.043 1203.85 133.168 1204.27 Q131.316 1204.68 129.371 1205.56 L129.371 1188.2 Z\" fill=\"#000000\" fill-rule=\"evenodd\" fill-opacity=\"1\" /><path clip-path=\"url(#clip710)\" d=\"M62.9365 949.936 Q59.3254 949.936 57.4967 953.5 Q55.6912 957.042 55.6912 964.172 Q55.6912 971.278 57.4967 974.843 Q59.3254 978.385 62.9365 978.385 Q66.5707 978.385 68.3763 974.843 Q70.205 971.278 70.205 964.172 Q70.205 957.042 68.3763 953.5 Q66.5707 949.936 62.9365 949.936 M62.9365 946.232 Q68.7467 946.232 71.8022 950.838 Q74.8809 955.422 74.8809 964.172 Q74.8809 972.898 71.8022 977.505 Q68.7467 982.088 62.9365 982.088 Q57.1264 982.088 54.0477 977.505 Q50.9921 972.898 50.9921 964.172 Q50.9921 955.422 54.0477 950.838 Q57.1264 946.232 62.9365 946.232 Z\" fill=\"#000000\" fill-rule=\"evenodd\" fill-opacity=\"1\" /><path clip-path=\"url(#clip710)\" d=\"M83.0984 975.537 L87.9827 975.537 L87.9827 981.417 L83.0984 981.417 L83.0984 975.537 Z\" fill=\"#000000\" fill-rule=\"evenodd\" fill-opacity=\"1\" /><path clip-path=\"url(#clip710)\" d=\"M98.2141 946.857 L116.57 946.857 L116.57 950.792 L102.496 950.792 L102.496 959.264 Q103.515 958.917 104.534 958.755 Q105.552 958.57 106.571 958.57 Q112.358 958.57 115.737 961.741 Q119.117 964.912 119.117 970.329 Q119.117 975.908 115.645 979.01 Q112.172 982.088 105.853 982.088 Q103.677 982.088 101.409 981.718 Q99.1632 981.347 96.7558 980.607 L96.7558 975.908 Q98.8391 977.042 101.061 977.598 Q103.284 978.153 105.76 978.153 Q109.765 978.153 112.103 976.047 Q114.441 973.94 114.441 970.329 Q114.441 966.718 112.103 964.611 Q109.765 962.505 105.76 962.505 Q103.885 962.505 102.01 962.922 Q100.159 963.338 98.2141 964.218 L98.2141 946.857 Z\" fill=\"#000000\" fill-rule=\"evenodd\" fill-opacity=\"1\" /><path clip-path=\"url(#clip710)\" d=\"M138.33 949.936 Q134.719 949.936 132.89 953.5 Q131.084 957.042 131.084 964.172 Q131.084 971.278 132.89 974.843 Q134.719 978.385 138.33 978.385 Q141.964 978.385 143.769 974.843 Q145.598 971.278 145.598 964.172 Q145.598 957.042 143.769 953.5 Q141.964 949.936 138.33 949.936 M138.33 946.232 Q144.14 946.232 147.195 950.838 Q150.274 955.422 150.274 964.172 Q150.274 972.898 147.195 977.505 Q144.14 982.088 138.33 982.088 Q132.519 982.088 129.441 977.505 Q126.385 972.898 126.385 964.172 Q126.385 955.422 129.441 950.838 Q132.519 946.232 138.33 946.232 Z\" fill=\"#000000\" fill-rule=\"evenodd\" fill-opacity=\"1\" /><path clip-path=\"url(#clip710)\" d=\"M63.9319 708.591 Q60.3208 708.591 58.4921 712.155 Q56.6865 715.697 56.6865 722.827 Q56.6865 729.933 58.4921 733.498 Q60.3208 737.04 63.9319 737.04 Q67.5661 737.04 69.3717 733.498 Q71.2004 729.933 71.2004 722.827 Q71.2004 715.697 69.3717 712.155 Q67.5661 708.591 63.9319 708.591 M63.9319 704.887 Q69.742 704.887 72.7976 709.493 Q75.8763 714.077 75.8763 722.827 Q75.8763 731.553 72.7976 736.16 Q69.742 740.743 63.9319 740.743 Q58.1217 740.743 55.043 736.16 Q51.9875 731.553 51.9875 722.827 Q51.9875 714.077 55.043 709.493 Q58.1217 704.887 63.9319 704.887 Z\" fill=\"#000000\" fill-rule=\"evenodd\" fill-opacity=\"1\" /><path clip-path=\"url(#clip710)\" d=\"M84.0938 734.192 L88.978 734.192 L88.978 740.072 L84.0938 740.072 L84.0938 734.192 Z\" fill=\"#000000\" fill-rule=\"evenodd\" fill-opacity=\"1\" /><path clip-path=\"url(#clip710)\" d=\"M97.9826 705.512 L120.205 705.512 L120.205 707.503 L107.658 740.072 L102.774 740.072 L114.58 709.447 L97.9826 709.447 L97.9826 705.512 Z\" fill=\"#000000\" fill-rule=\"evenodd\" fill-opacity=\"1\" /><path clip-path=\"url(#clip710)\" d=\"M129.371 705.512 L147.728 705.512 L147.728 709.447 L133.654 709.447 L133.654 717.919 Q134.672 717.572 135.691 717.41 Q136.709 717.225 137.728 717.225 Q143.515 717.225 146.894 720.396 Q150.274 723.567 150.274 728.984 Q150.274 734.563 146.802 737.665 Q143.33 740.743 137.01 740.743 Q134.834 740.743 132.566 740.373 Q130.32 740.002 127.913 739.262 L127.913 734.563 Q129.996 735.697 132.219 736.253 Q134.441 736.808 136.918 736.808 Q140.922 736.808 143.26 734.702 Q145.598 732.595 145.598 728.984 Q145.598 725.373 143.26 723.266 Q140.922 721.16 136.918 721.16 Q135.043 721.16 133.168 721.577 Q131.316 721.993 129.371 722.873 L129.371 705.512 Z\" fill=\"#000000\" fill-rule=\"evenodd\" fill-opacity=\"1\" /><path clip-path=\"url(#clip710)\" d=\"M53.7467 494.792 L61.3856 494.792 L61.3856 468.426 L53.0754 470.093 L53.0754 465.834 L61.3393 464.167 L66.0152 464.167 L66.0152 494.792 L73.654 494.792 L73.654 498.727 L53.7467 498.727 L53.7467 494.792 Z\" fill=\"#000000\" fill-rule=\"evenodd\" fill-opacity=\"1\" /><path clip-path=\"url(#clip710)\" d=\"M83.0984 492.847 L87.9827 492.847 L87.9827 498.727 L83.0984 498.727 L83.0984 492.847 Z\" fill=\"#000000\" fill-rule=\"evenodd\" fill-opacity=\"1\" /><path clip-path=\"url(#clip710)\" d=\"M108.168 467.246 Q104.557 467.246 102.728 470.81 Q100.922 474.352 100.922 481.482 Q100.922 488.588 102.728 492.153 Q104.557 495.695 108.168 495.695 Q111.802 495.695 113.608 492.153 Q115.436 488.588 115.436 481.482 Q115.436 474.352 113.608 470.81 Q111.802 467.246 108.168 467.246 M108.168 463.542 Q113.978 463.542 117.033 468.148 Q120.112 472.732 120.112 481.482 Q120.112 490.208 117.033 494.815 Q113.978 499.398 108.168 499.398 Q102.358 499.398 99.2789 494.815 Q96.2234 490.208 96.2234 481.482 Q96.2234 472.732 99.2789 468.148 Q102.358 463.542 108.168 463.542 Z\" fill=\"#000000\" fill-rule=\"evenodd\" fill-opacity=\"1\" /><path clip-path=\"url(#clip710)\" d=\"M138.33 467.246 Q134.719 467.246 132.89 470.81 Q131.084 474.352 131.084 481.482 Q131.084 488.588 132.89 492.153 Q134.719 495.695 138.33 495.695 Q141.964 495.695 143.769 492.153 Q145.598 488.588 145.598 481.482 Q145.598 474.352 143.769 470.81 Q141.964 467.246 138.33 467.246 M138.33 463.542 Q144.14 463.542 147.195 468.148 Q150.274 472.732 150.274 481.482 Q150.274 490.208 147.195 494.815 Q144.14 499.398 138.33 499.398 Q132.519 499.398 129.441 494.815 Q126.385 490.208 126.385 481.482 Q126.385 472.732 129.441 468.148 Q132.519 463.542 138.33 463.542 Z\" fill=\"#000000\" fill-rule=\"evenodd\" fill-opacity=\"1\" /><path clip-path=\"url(#clip710)\" d=\"M54.7421 253.447 L62.381 253.447 L62.381 227.081 L54.0708 228.748 L54.0708 224.489 L62.3347 222.822 L67.0106 222.822 L67.0106 253.447 L74.6494 253.447 L74.6494 257.382 L54.7421 257.382 L54.7421 253.447 Z\" fill=\"#000000\" fill-rule=\"evenodd\" fill-opacity=\"1\" /><path clip-path=\"url(#clip710)\" d=\"M84.0938 251.502 L88.978 251.502 L88.978 257.382 L84.0938 257.382 L84.0938 251.502 Z\" fill=\"#000000\" fill-rule=\"evenodd\" fill-opacity=\"1\" /><path clip-path=\"url(#clip710)\" d=\"M103.191 253.447 L119.51 253.447 L119.51 257.382 L97.566 257.382 L97.566 253.447 Q100.228 250.692 104.811 246.063 Q109.418 241.41 110.598 240.067 Q112.844 237.544 113.723 235.808 Q114.626 234.049 114.626 232.359 Q114.626 229.604 112.682 227.868 Q110.76 226.132 107.658 226.132 Q105.459 226.132 103.006 226.896 Q100.575 227.66 97.7974 229.211 L97.7974 224.489 Q100.621 223.354 103.075 222.776 Q105.529 222.197 107.566 222.197 Q112.936 222.197 116.131 224.882 Q119.325 227.567 119.325 232.058 Q119.325 234.188 118.515 236.109 Q117.728 238.007 115.621 240.6 Q115.043 241.271 111.941 244.488 Q108.839 247.683 103.191 253.447 Z\" fill=\"#000000\" fill-rule=\"evenodd\" fill-opacity=\"1\" /><path clip-path=\"url(#clip710)\" d=\"M129.371 222.822 L147.728 222.822 L147.728 226.757 L133.654 226.757 L133.654 235.229 Q134.672 234.882 135.691 234.72 Q136.709 234.535 137.728 234.535 Q143.515 234.535 146.894 237.706 Q150.274 240.877 150.274 246.294 Q150.274 251.873 146.802 254.975 Q143.33 258.053 137.01 258.053 Q134.834 258.053 132.566 257.683 Q130.32 257.313 127.913 256.572 L127.913 251.873 Q129.996 253.007 132.219 253.563 Q134.441 254.118 136.918 254.118 Q140.922 254.118 143.26 252.012 Q145.598 249.905 145.598 246.294 Q145.598 242.683 143.26 240.576 Q140.922 238.47 136.918 238.47 Q135.043 238.47 133.168 238.887 Q131.316 239.303 129.371 240.183 L129.371 222.822 Z\" fill=\"#000000\" fill-rule=\"evenodd\" fill-opacity=\"1\" /><polyline clip-path=\"url(#clip712)\" style=\"stroke:#009af9; stroke-linecap:butt; stroke-linejoin:round; stroke-width:4; stroke-opacity:1; fill:none\" points=\"\n",
       "  247.59,131.104 255.798,87.9763 264.006,185.603 272.214,300.134 280.422,133.438 288.631,139.563 296.839,143.729 305.047,155.575 313.255,158.506 321.464,204.76 \n",
       "  329.672,280.295 337.88,184.072 346.088,166.487 354.297,170.308 362.505,119.682 370.713,153.209 378.921,216.119 387.13,187.252 395.338,196.849 403.546,164.672 \n",
       "  411.754,178.009 419.962,210.5 428.171,200.979 436.379,200.396 444.587,196.636 452.795,173.043 461.004,181.604 469.212,153.639 477.42,186.742 485.628,151.845 \n",
       "  493.837,209.714 502.045,179.314 510.253,212.621 518.461,176.948 526.67,173.812 534.878,201.763 543.086,202.628 551.294,221.487 559.503,213.928 567.711,183.55 \n",
       "  575.919,201.698 584.127,183.503 592.335,170.144 600.544,189.483 608.752,187.614 616.96,166.718 625.168,178.681 633.377,182.574 641.585,221.037 649.793,193.968 \n",
       "  658.001,167.391 666.21,182.978 674.418,162.277 682.626,218.989 690.834,178.41 699.043,225.131 707.251,211.86 715.459,199.255 723.667,182.896 731.875,194.334 \n",
       "  740.084,195.95 748.292,193.609 756.5,216.974 764.708,211.824 772.917,178.072 781.125,163.614 789.333,210.92 797.541,172.991 805.75,176.243 813.958,214.186 \n",
       "  822.166,182.724 830.374,179.716 838.583,211.505 846.791,213.761 854.999,196.626 863.207,203.847 871.415,190.064 879.624,184.673 887.832,178.702 896.04,199.564 \n",
       "  904.248,182.62 912.457,217.001 920.665,181.172 928.873,210.573 937.081,180.107 945.29,199.796 953.498,177.709 961.706,192.47 969.914,188.061 978.123,205.274 \n",
       "  986.331,190.723 994.539,185.954 1002.75,178.457 1010.96,213.067 1019.16,189.187 1027.37,195.813 1035.58,195.69 1043.79,173.685 1052,194.063 1060.2,204.789 \n",
       "  1068.41,193.444 1076.62,190.714 1084.83,184.851 1093.04,188.61 1101.25,192.078 1109.45,184.875 1117.66,201.264 1125.87,208.039 1134.08,175.722 1142.29,216.663 \n",
       "  1150.5,189.8 1158.7,178.739 1166.91,188.412 1175.12,197.111 1183.33,184.391 1191.54,192.861 1199.74,188.051 1207.95,190.731 1216.16,186.429 1224.37,189.559 \n",
       "  1232.58,187.509 1240.79,183.345 1248.99,192.73 1257.2,195.254 1265.41,187.97 1273.62,196.749 1281.83,192.519 1290.04,187.557 1298.24,191.308 1306.45,195.572 \n",
       "  1314.66,183.651 1322.87,190.909 1331.08,178.805 1339.28,169.731 1347.49,195.212 1355.7,205.168 1363.91,201.335 1372.12,179.465 1380.33,202.448 1388.53,191.409 \n",
       "  1396.74,193.221 1404.95,196.318 1413.16,178.987 1421.37,197.246 1429.58,178.842 1437.78,190.839 1445.99,178.135 1454.2,200.085 1462.41,197.243 1470.62,188.8 \n",
       "  1478.82,194.398 1487.03,190.043 1495.24,190.177 1503.45,211.249 1511.66,197.67 1519.87,190.569 1528.07,198.538 1536.28,191.186 1544.49,181.325 1552.7,205.311 \n",
       "  1560.91,190.913 1569.12,192.408 1577.32,186.479 1585.53,191.851 1593.74,185.25 1601.95,179.515 1610.16,203.441 1618.36,195.96 1626.57,198.686 1634.78,192.395 \n",
       "  1642.99,195.03 1651.2,176.733 1659.41,188.708 1667.61,185.261 1675.82,193.31 1684.03,196.737 1692.24,194.149 1700.45,183.947 1708.66,198.485 1716.86,199.365 \n",
       "  1725.07,201.159 1733.28,184.115 1741.49,180.304 1749.7,196.499 1757.91,212.371 1766.11,185.364 1774.32,197.655 1782.53,193.355 1790.74,191.222 1798.95,178.951 \n",
       "  1807.15,189.145 1815.36,198.668 1823.57,168.853 1831.78,190.665 1839.99,200.141 1848.2,197.642 1856.4,215.048 1864.61,190.544 1872.82,183.023 1881.03,198.515 \n",
       "  1889.24,179.591 1897.45,190.814 1905.65,200.06 1913.86,190.516 1922.07,177.231 1930.28,191.422 1938.49,212.03 1946.69,184.409 1954.9,195.564 1963.11,191.641 \n",
       "  1971.32,191.927 1979.53,198.259 1987.74,188.973 1995.94,196.875 2004.15,175.561 2012.36,181.618 2020.57,198.46 2028.78,183.565 2036.99,191.667 2045.19,191.284 \n",
       "  2053.4,195.408 2061.61,181.272 2069.82,202.966 2078.03,188.655 2086.23,186.49 2094.44,199.899 2102.65,192.338 2110.86,189.862 2119.07,184.61 2127.28,196.229 \n",
       "  2135.48,188.831 2143.69,201.255 2151.9,196.648 2160.11,198.99 2168.32,180.706 2176.53,184.884 2184.73,198.002 2192.94,195.427 2201.15,197.266 2209.36,198.416 \n",
       "  2217.57,190.405 2225.77,197.892 2233.98,191.175 2242.19,195.112 2250.4,209.825 2258.61,195.54 2266.82,187.773 2275.02,194.629 2283.23,175.481 2291.44,192.807 \n",
       "  \n",
       "  \"/>\n",
       "<polyline clip-path=\"url(#clip712)\" style=\"stroke:#e26f46; stroke-linecap:butt; stroke-linejoin:round; stroke-width:4; stroke-opacity:1; fill:none\" points=\"\n",
       "  255.798,1445.72 264.006,1291.96 272.214,1265.72 280.422,1387.61 288.631,1358.09 296.839,1364.41 305.047,1367.26 313.255,1361.02 321.464,1330.84 329.672,1279.33 \n",
       "  337.88,1335.66 346.088,1334.65 354.297,1332.27 362.505,1405.04 370.713,1342.83 378.921,1309.66 387.13,1325.05 395.338,1309.37 403.546,1331.32 411.754,1338.36 \n",
       "  419.962,1335.86 428.171,1332.7 436.379,1323.22 444.587,1330.86 452.795,1340.08 461.004,1324.97 469.212,1350.38 477.42,1342.38 485.628,1363.81 493.837,1305 \n",
       "  502.045,1341.92 510.253,1309.31 518.461,1320.44 526.67,1345.46 534.878,1306.16 543.086,1321.62 551.294,1322.45 559.503,1318 567.711,1332.83 575.919,1315.01 \n",
       "  584.127,1337.89 592.335,1333.19 600.544,1323.99 608.752,1333.53 616.96,1336.19 625.168,1334.99 633.377,1337.83 641.585,1313.34 649.793,1331.29 658.001,1336.55 \n",
       "  666.21,1322.49 674.418,1357.35 682.626,1318.54 690.834,1340.2 699.043,1313.12 707.251,1324.56 715.459,1318.94 723.667,1335.64 731.875,1325.84 740.084,1329.96 \n",
       "  748.292,1331.31 756.5,1319.96 764.708,1308.69 772.917,1326.67 781.125,1338.51 789.333,1327.02 797.541,1338.16 805.75,1333.88 813.958,1307.3 822.166,1338.02 \n",
       "  830.374,1320.76 838.583,1305.07 846.791,1313.17 854.999,1326.23 863.207,1318.64 871.415,1318.71 879.624,1326.45 887.832,1332.88 896.04,1327.86 904.248,1322.2 \n",
       "  912.457,1319.52 920.665,1327.83 928.873,1318.03 937.081,1342.94 945.29,1320.9 953.498,1335.33 961.706,1334.11 969.914,1330.36 978.123,1328.83 986.331,1319.61 \n",
       "  994.539,1331.9 1002.75,1340.27 1010.96,1322.07 1019.16,1329.19 1027.37,1326.5 1035.58,1321.83 1043.79,1338.56 1052,1332.1 1060.2,1326.65 1068.41,1328.76 \n",
       "  1076.62,1324.36 1084.83,1342.35 1093.04,1325.23 1101.25,1332.65 1109.45,1328.58 1117.66,1319.15 1125.87,1319.95 1134.08,1338.63 1142.29,1310.66 1150.5,1328.89 \n",
       "  1158.7,1332.94 1166.91,1322.31 1175.12,1329.34 1183.33,1343.35 1191.54,1326.97 1199.74,1329.69 1207.95,1329.86 1216.16,1331.86 1224.37,1327.59 1232.58,1331.49 \n",
       "  1240.79,1333.46 1248.99,1324.34 1257.2,1331.69 1265.41,1333.34 1273.62,1318 1281.83,1325.19 1290.04,1322.96 1298.24,1326.72 1306.45,1319.06 1314.66,1319.48 \n",
       "  1322.87,1330.33 1331.08,1336.29 1339.28,1332.53 1347.49,1322.74 1355.7,1317.86 1363.91,1327.5 1372.12,1328.42 1380.33,1318.49 1388.53,1328.78 1396.74,1319.66 \n",
       "  1404.95,1328.38 1413.16,1336.06 1421.37,1329.42 1429.58,1327.19 1437.78,1336.76 1445.99,1334.82 1454.2,1321.78 1462.41,1323.25 1470.62,1331.01 1478.82,1324.4 \n",
       "  1487.03,1322.86 1495.24,1334.85 1503.45,1323.1 1511.66,1326.38 1519.87,1322.34 1528.07,1327.05 1536.28,1319.37 1544.49,1343.1 1552.7,1317.54 1560.91,1330.23 \n",
       "  1569.12,1328.99 1577.32,1334.33 1585.53,1324.81 1593.74,1328.09 1601.95,1331.7 1610.16,1319.56 1618.36,1323.14 1626.57,1321.94 1634.78,1325.93 1642.99,1325.44 \n",
       "  1651.2,1338.95 1659.41,1324.89 1667.61,1328.38 1675.82,1330.61 1684.03,1325.94 1692.24,1330.98 1700.45,1331.8 1708.66,1320.16 1716.86,1324.18 1725.07,1329.32 \n",
       "  1733.28,1327.38 1741.49,1330.31 1749.7,1328.03 1757.91,1317.78 1766.11,1335.61 1774.32,1323.42 1782.53,1331.61 1790.74,1324.56 1798.95,1335.18 1807.15,1324.54 \n",
       "  1815.36,1323.53 1823.57,1336.14 1831.78,1331.26 1839.99,1324.64 1848.2,1331.43 1856.4,1318.69 1864.61,1328.51 1872.82,1331.28 1881.03,1325.57 1889.24,1332.11 \n",
       "  1897.45,1329.52 1905.65,1322.92 1913.86,1333.6 1922.07,1329.58 1930.28,1323.11 1938.49,1319.15 1946.69,1327.34 1954.9,1329.81 1963.11,1330.28 1971.32,1336.76 \n",
       "  1979.53,1327.84 1987.74,1327.46 1995.94,1328.65 2004.15,1333.4 2012.36,1335.06 2020.57,1324.57 2028.78,1332.77 2036.99,1329.99 2045.19,1336.42 2053.4,1329.48 \n",
       "  2061.61,1333.77 2069.82,1318.02 2078.03,1329.54 2086.23,1334.19 2094.44,1326.31 2102.65,1329.89 2110.86,1326.04 2119.07,1332.73 2127.28,1325.5 2135.48,1326.2 \n",
       "  2143.69,1319.07 2151.9,1320.55 2160.11,1329.66 2168.32,1329.61 2176.53,1332.66 2184.73,1323.87 2192.94,1329.09 2201.15,1325.64 2209.36,1324.16 2217.57,1330.78 \n",
       "  2225.77,1326.66 2233.98,1324.26 2242.19,1325.45 2250.4,1317.48 2258.61,1325.14 2266.82,1326.45 2275.02,1327.59 2283.23,1336.77 2291.44,1330.39 \n",
       "  \"/>\n",
       "<path clip-path=\"url(#clip710)\" d=\"\n",
       "M1987.39 250.738 L2280.54 250.738 L2280.54 95.2176 L1987.39 95.2176  Z\n",
       "  \" fill=\"#ffffff\" fill-rule=\"evenodd\" fill-opacity=\"1\"/>\n",
       "<polyline clip-path=\"url(#clip710)\" style=\"stroke:#000000; stroke-linecap:butt; stroke-linejoin:round; stroke-width:4; stroke-opacity:1; fill:none\" points=\"\n",
       "  1987.39,250.738 2280.54,250.738 2280.54,95.2176 1987.39,95.2176 1987.39,250.738 \n",
       "  \"/>\n",
       "<polyline clip-path=\"url(#clip710)\" style=\"stroke:#009af9; stroke-linecap:butt; stroke-linejoin:round; stroke-width:4; stroke-opacity:1; fill:none\" points=\"\n",
       "  2011.46,147.058 2155.89,147.058 \n",
       "  \"/>\n",
       "<path clip-path=\"url(#clip710)\" d=\"M2193.81 166.745 Q2192 171.375 2190.29 172.787 Q2188.58 174.199 2185.71 174.199 L2182.3 174.199 L2182.3 170.634 L2184.8 170.634 Q2186.56 170.634 2187.53 169.8 Q2188.51 168.967 2189.69 165.865 L2190.45 163.921 L2179.97 138.412 L2184.48 138.412 L2192.58 158.689 L2200.68 138.412 L2205.2 138.412 L2193.81 166.745 Z\" fill=\"#000000\" fill-rule=\"evenodd\" fill-opacity=\"1\" /><path clip-path=\"url(#clip710)\" d=\"M2212.49 160.402 L2220.13 160.402 L2220.13 134.037 L2211.82 135.703 L2211.82 131.444 L2220.08 129.778 L2224.76 129.778 L2224.76 160.402 L2232.4 160.402 L2232.4 164.338 L2212.49 164.338 L2212.49 160.402 Z\" fill=\"#000000\" fill-rule=\"evenodd\" fill-opacity=\"1\" /><polyline clip-path=\"url(#clip710)\" style=\"stroke:#e26f46; stroke-linecap:butt; stroke-linejoin:round; stroke-width:4; stroke-opacity:1; fill:none\" points=\"\n",
       "  2011.46,198.898 2155.89,198.898 \n",
       "  \"/>\n",
       "<path clip-path=\"url(#clip710)\" d=\"M2193.81 218.585 Q2192 223.215 2190.29 224.627 Q2188.58 226.039 2185.71 226.039 L2182.3 226.039 L2182.3 222.474 L2184.8 222.474 Q2186.56 222.474 2187.53 221.64 Q2188.51 220.807 2189.69 217.705 L2190.45 215.761 L2179.97 190.252 L2184.48 190.252 L2192.58 210.529 L2200.68 190.252 L2205.2 190.252 L2193.81 218.585 Z\" fill=\"#000000\" fill-rule=\"evenodd\" fill-opacity=\"1\" /><path clip-path=\"url(#clip710)\" d=\"M2215.71 212.242 L2232.03 212.242 L2232.03 216.178 L2210.08 216.178 L2210.08 212.242 Q2212.74 209.488 2217.33 204.858 Q2221.93 200.205 2223.11 198.863 Q2225.36 196.34 2226.24 194.604 Q2227.14 192.844 2227.14 191.155 Q2227.14 188.4 2225.2 186.664 Q2223.28 184.928 2220.17 184.928 Q2217.97 184.928 2215.52 185.692 Q2213.09 186.455 2210.31 188.006 L2210.31 183.284 Q2213.14 182.15 2215.59 181.571 Q2218.04 180.993 2220.08 180.993 Q2225.45 180.993 2228.65 183.678 Q2231.84 186.363 2231.84 190.854 Q2231.84 192.983 2231.03 194.905 Q2230.24 196.803 2228.14 199.395 Q2227.56 200.067 2224.46 203.284 Q2221.35 206.479 2215.71 212.242 Z\" fill=\"#000000\" fill-rule=\"evenodd\" fill-opacity=\"1\" /></svg>\n"
      ]
     },
     "execution_count": 16,
     "metadata": {},
     "output_type": "execute_result"
    }
   ],
   "source": [
    "samples = [rand(i) for i = 1:250];\n",
    "map_av = pmap(x -> mean(sin.(x) .+ cos.(x)), samples)\n",
    "map_std = pmap(x -> std(sin.(x) .+ cos.(x)), samples)\n",
    "plot(1:250, [map_av, map_std])"
   ]
  },
  {
   "cell_type": "markdown",
   "id": "4f89695d",
   "metadata": {},
   "source": [
    "The final thing we need to do is compare the times against the regular unparallel"
   ]
  },
  {
   "cell_type": "code",
   "execution_count": 17,
   "id": "9f89cf9f",
   "metadata": {},
   "outputs": [
    {
     "name": "stdout",
     "output_type": "stream",
     "text": [
      "  5.846 ms (13082 allocations: 785.09 KiB)\n",
      "  297.309 μs (252 allocations: 272.23 KiB)\n"
     ]
    }
   ],
   "source": [
    "@btime pmap_av = pmap(x -> mean(sin.(x) .+ cos.(x)), samples);\n",
    "@btime map_av = map(x -> mean(sin.(x) .+ cos.(x)), samples);"
   ]
  },
  {
   "cell_type": "markdown",
   "id": "f2c50de6",
   "metadata": {},
   "source": [
    "Shockingly, we didn't see a substantial speed-up compared to the CPU even though the @distributed loop did offer a speed-up. The reason is because quite a lot of work goes on behind the scene setting the stage for ``pmap`` to do its own work. This is a classic problem in high performance computing - the startup time (or development time) of significantly more complex code might be more than just running the program in the traditional manner. This demonstrates that ``pmap`` works best when the workloads given to it are complex in each thread and justify the high start up time. Computing the sum of the eigenvalues of a large matrix is quite a difficult task. Let's see how the different methods of computing them compare."
   ]
  },
  {
   "cell_type": "code",
   "execution_count": 32,
   "id": "0a0b0b15",
   "metadata": {},
   "outputs": [],
   "source": [
    "@everywhere using LinearAlgebra\n",
    "@everywhere function distributed_eigenvalues(mats)\n",
    "    L = length(mats)\n",
    "    res = SharedArray(Vector{ComplexF64}(zeros(L)))\n",
    "    @distributed for i = 1:L\n",
    "        res[i] = sum(eigvals(mats[i]))\n",
    "    end\n",
    "    return res\n",
    "end"
   ]
  },
  {
   "cell_type": "code",
   "execution_count": 19,
   "id": "35f7b4e8",
   "metadata": {},
   "outputs": [],
   "source": [
    "mats = [rand(10^3,10^3) for i = 1:10];"
   ]
  },
  {
   "cell_type": "code",
   "execution_count": 20,
   "id": "381a2389",
   "metadata": {},
   "outputs": [
    {
     "name": "stdout",
     "output_type": "stream",
     "text": [
      "  7.346 s (142 allocations: 79.36 MiB)\n"
     ]
    },
    {
     "data": {
      "text/plain": [
       "10-element Vector{ComplexF64}:\n",
       " 499.04052602604037 + 7.172040739078511e-14im\n",
       "   494.382144887218 + 1.0880185641326534e-14im\n",
       " 509.63674225239885 - 2.1471713296250527e-13im\n",
       " 474.49387867130434 + 1.4876988529977098e-14im\n",
       "  471.9506064609294 + 7.549516567451064e-14im\n",
       " 492.12361420115474 + 1.0547118733938987e-13im\n",
       " 498.07058634929257 - 1.127986593019159e-13im\n",
       "  483.8457982883142 + 0.0im\n",
       "  510.3601348624554 + 1.1368683772161603e-13im\n",
       " 492.30995881787453 - 3.6415315207705135e-14im"
      ]
     },
     "execution_count": 20,
     "metadata": {},
     "output_type": "execute_result"
    }
   ],
   "source": [
    "@btime map(x -> sum(eigvals(x)), mats)"
   ]
  },
  {
   "cell_type": "code",
   "execution_count": 21,
   "id": "faee2daf",
   "metadata": {},
   "outputs": [
    {
     "name": "stdout",
     "output_type": "stream",
     "text": [
      "  1.398 s (735 allocations: 29.34 KiB)\n"
     ]
    },
    {
     "data": {
      "text/plain": [
       "10-element Vector{ComplexF64}:\n",
       " 499.04052602603866 + 3.530509218307998e-14im\n",
       "  494.3821448872144 + 3.3084646133829665e-14im\n",
       " 509.63674225239697 - 1.1102230246251565e-15im\n",
       "  474.4938786713037 - 1.3100631690576847e-14im\n",
       " 471.95060646093106 - 2.353672812205332e-14im\n",
       "  492.1236142011547 + 7.593925488436071e-14im\n",
       "  498.0705863492945 - 6.705747068735946e-14im\n",
       "  483.8457982883135 + 0.0im\n",
       "  510.3601348624573 - 2.842170943040401e-14im\n",
       " 492.30995881787464 + 4.263256414560601e-14im"
      ]
     },
     "execution_count": 21,
     "metadata": {},
     "output_type": "execute_result"
    }
   ],
   "source": [
    "@btime pmap(x -> sum(eigvals(x)), mats)"
   ]
  },
  {
   "cell_type": "code",
   "execution_count": 33,
   "id": "5c8f5c10",
   "metadata": {},
   "outputs": [
    {
     "name": "stdout",
     "output_type": "stream",
     "text": [
      "  1.393 s (1154 allocations: 52.90 KiB)\n"
     ]
    },
    {
     "data": {
      "text/plain": [
       "10-element SharedVector{ComplexF64}:\n",
       " 499.04052602603866 + 3.530509218307998e-14im\n",
       "  494.3821448872144 + 3.3084646133829665e-14im\n",
       " 509.63674225239697 - 1.1102230246251565e-15im\n",
       "  474.4938786713037 - 1.3100631690576847e-14im\n",
       " 471.95060646093106 - 2.353672812205332e-14im\n",
       "  492.1236142011547 + 7.593925488436071e-14im\n",
       "  498.0705863492945 - 6.705747068735946e-14im\n",
       "  483.8457982883135 + 0.0im\n",
       "  510.3601348624573 - 2.842170943040401e-14im\n",
       " 492.30995881787464 + 4.263256414560601e-14im"
      ]
     },
     "execution_count": 33,
     "metadata": {},
     "output_type": "execute_result"
    }
   ],
   "source": [
    "@btime distributed_eigenvalues(mats)"
   ]
  },
  {
   "cell_type": "markdown",
   "id": "3bc55b0e",
   "metadata": {},
   "source": [
    "Here we see that there is a substantial speed up when parallelising. Notably, there is very little difference between the ``@distributed`` and ``pmap`` methods. The latter method is more elegant: it requires less code, is more comprehensible, and does not have an additional package depenedency. When the workload is complex ``pmap`` is recommended (even if for readability alone). "
   ]
  },
  {
   "cell_type": "markdown",
   "id": "46798b79",
   "metadata": {},
   "source": [
    "## GPU Based Parallelisation\n",
    "Julia has excellent GPU support in the GPUArrays package which forms the basis for packages to interface with specific cards. The two major GPU companies are AMD and nVidia which are supported through the AMDGPU and CUDA packages respectively. There is also support for ArrayFire and Vulkan. Finally, the Metal package is being developed to interact with Apple's Metal API to unlock support for the new Apple SoCs but this is experimental. Fundamentally, the GPU packages work in similar ways. \n",
    "\n",
    "The most common method of interfacing with the GPU is through an array constructor: CuArray or ROCArray for Nvidia \n",
    "and AMD respectively. From there the multiple dispatch system has most functions covered and will automatically compile the GPU code from native Julia code. For example, let's run a simple element wise multiplication on an Nvidia GPU."
   ]
  },
  {
   "cell_type": "code",
   "execution_count": 23,
   "id": "7104a102",
   "metadata": {},
   "outputs": [
    {
     "data": {
      "text/plain": [
       "CuDevice(1): NVIDIA GeForce RTX 3090"
      ]
     },
     "execution_count": 23,
     "metadata": {},
     "output_type": "execute_result"
    }
   ],
   "source": [
    "using CUDA\n",
    "CUDA.device!(1)"
   ]
  },
  {
   "cell_type": "code",
   "execution_count": 24,
   "id": "6c3575e8",
   "metadata": {},
   "outputs": [],
   "source": [
    "a_cpu = rand(Float32, 10^7);\n",
    "b_cpu = rand(Float32, 10^7);\n",
    "a_gpu = CuArray(a_cpu);\n",
    "b_gpu = CuArray(b_cpu);"
   ]
  },
  {
   "cell_type": "code",
   "execution_count": 25,
   "id": "d23be1cc",
   "metadata": {},
   "outputs": [
    {
     "name": "stdout",
     "output_type": "stream",
     "text": [
      "  13.077 ms (4 allocations: 38.15 MiB)\n"
     ]
    }
   ],
   "source": [
    "@btime a_cpu .* b_cpu;"
   ]
  },
  {
   "cell_type": "code",
   "execution_count": 26,
   "id": "34b42bb7",
   "metadata": {},
   "outputs": [
    {
     "name": "stdout",
     "output_type": "stream",
     "text": [
      "  155.392 μs (32 allocations: 1.83 KiB)\n"
     ]
    }
   ],
   "source": [
    "@btime CUDA.@sync a_gpu .* b_gpu;"
   ]
  },
  {
   "cell_type": "markdown",
   "id": "15be8d77",
   "metadata": {},
   "source": [
    "This is a substantial speed-up! On my GPU it went from 11ms to 157us which is approximately 70 times faster, but your mileage may vary depending on your hardware and drivers. We should check that the result is consistent with the CPU which we know to be accurate (if a little slow). In general, it is good practice to write a small minimal working example that can run quickly on both the CPU and GPU to check that you get the same result before running the large computation on the GPU."
   ]
  },
  {
   "cell_type": "code",
   "execution_count": 27,
   "id": "5af2c01c",
   "metadata": {},
   "outputs": [
    {
     "data": {
      "text/plain": [
       "true"
      ]
     },
     "execution_count": 27,
     "metadata": {},
     "output_type": "execute_result"
    }
   ],
   "source": [
    "res_cpu = a_cpu .* b_cpu;\n",
    "res_gpu = a_gpu .* b_gpu;\n",
    "res_cpu == Array(res_gpu)"
   ]
  },
  {
   "cell_type": "markdown",
   "id": "b61772f9",
   "metadata": {},
   "source": [
    "### 2.1 Float32 vs Float64"
   ]
  },
  {
   "cell_type": "markdown",
   "id": "56f572d1",
   "metadata": {},
   "source": [
    "You may have noticed that we specified Float32 as the data type for the random vector --- this is a little odd because traditional scientific computing (and the Julia default) uses Float64. We do this because GPU's are best optimised for Float32 operations. They can handle Float64 operations fine, and you will still get a speed up, but it wont be as substantial. Some calculations require Float64 precision though, and if this is the case you must use it otherwise you will get inaccurate results. Let's try a Float64 operation using a native CUDA constructor:"
   ]
  },
  {
   "cell_type": "code",
   "execution_count": 28,
   "id": "0ceeabf2",
   "metadata": {},
   "outputs": [
    {
     "name": "stdout",
     "output_type": "stream",
     "text": [
      "The Float32 time is 1.575633762\n",
      "The Float64 time is 3.814508414\n"
     ]
    }
   ],
   "source": [
    "L = 10^4\n",
    "c1_gpu = CUDA.rand(Float32, L, L);\n",
    "d1_gpu = CUDA.rand(Float32, L, L);\n",
    "t1 = @elapsed CUDA.@sync (c1_gpu * d1_gpu);\n",
    "println(\"The Float32 time is $(t1)\");\n",
    "\n",
    "c2_gpu = CUDA.rand(Float64, L, L);\n",
    "d2_gpu = CUDA.rand(Float64, L, L);\n",
    "t2 = @elapsed CUDA.@sync (c2_gpu * d2_gpu);\n",
    "println(\"The Float64 time is $(t2)\");"
   ]
  },
  {
   "cell_type": "markdown",
   "id": "b1dff232",
   "metadata": {},
   "source": [
    "There is a notable performance difference between the two types. While it is not a substantial real-time difference for a single matrix multiplication if you are expected to do many hundreds of thousands of them the performance gap will incur a substantial penalty. Many deep learning models require substantial matrix multiplication calls and accordingly use Float32 data to not incur the time penatly (under the assumption that their numerics are sufficiently stable that Float32 operations dont incur significant error)."
   ]
  },
  {
   "cell_type": "markdown",
   "id": "9de3b90c",
   "metadata": {},
   "source": [
    "### 2.2 Supported functional programming"
   ]
  },
  {
   "cell_type": "code",
   "execution_count": 29,
   "id": "f885a898",
   "metadata": {},
   "outputs": [
    {
     "ename": "LoadError",
     "evalue": "syntax: extra token \"matrix\" after end of expression",
     "output_type": "error",
     "traceback": [
      "syntax: extra token \"matrix\" after end of expression",
      "",
      "Stacktrace:",
      " [1] top-level scope",
      "   @ In[29]:1",
      " [2] eval",
      "   @ ./boot.jl:368 [inlined]",
      " [3] include_string(mapexpr::typeof(REPL.softscope), mod::Module, code::String, filename::String)",
      "   @ Base ./loading.jl:1428"
     ]
    }
   ],
   "source": [
    "Some matrix operations - not matrix factorisation\n",
    "sums\n",
    "reduce operations\n",
    "map works quite well\n",
    "\n"
   ]
  },
  {
   "cell_type": "markdown",
   "id": "bc17cfcf",
   "metadata": {},
   "source": [
    "### 2.3 Custom Kernels"
   ]
  },
  {
   "cell_type": "code",
   "execution_count": null,
   "id": "ff2e060e",
   "metadata": {},
   "outputs": [],
   "source": []
  }
 ],
 "metadata": {
  "kernelspec": {
   "display_name": "Julia 1.8.0",
   "language": "julia",
   "name": "julia-1.8"
  },
  "language_info": {
   "file_extension": ".jl",
   "mimetype": "application/julia",
   "name": "julia",
   "version": "1.8.0"
  }
 },
 "nbformat": 4,
 "nbformat_minor": 5
}
