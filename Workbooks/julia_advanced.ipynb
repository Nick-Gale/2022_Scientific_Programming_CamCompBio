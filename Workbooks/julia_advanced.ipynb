{
 "cells": [
  {
   "cell_type": "markdown",
   "id": "f4203d82",
   "metadata": {},
   "source": [
    "## Generic Types:\n",
    "\n",
    "1. Abstract Types\n",
    "2. Custom Types\n",
    "3. Mutable Types\n",
    "4. Case study: auto-diff."
   ]
  },
  {
   "cell_type": "markdown",
   "id": "a248cf5a",
   "metadata": {},
   "source": [
    "## Benchmarking and Profiling\n",
    "1. Benchmark Tools\n",
    "2. Profiling Tools"
   ]
  },
  {
   "cell_type": "markdown",
   "id": "67d76459",
   "metadata": {},
   "source": [
    "## Performant Code\n",
    "\n",
    "1. Data Access Patterns\n",
    "2. Looped Code vs Broadcast: example: sum every second element\n",
    "3. @simd, @inbounds\n",
    "4. Code mutation"
   ]
  },
  {
   "cell_type": "code",
   "execution_count": 15,
   "id": "76051e9f",
   "metadata": {},
   "outputs": [],
   "source": [
    "a = rand(10000, 10000);\n",
    "using BenchmarkTools"
   ]
  },
  {
   "cell_type": "code",
   "execution_count": 13,
   "id": "41dc7e9b",
   "metadata": {},
   "outputs": [
    {
     "name": "stdout",
     "output_type": "stream",
     "text": [
      "  0.006864 seconds (88.98 k allocations: 1.663 MiB)\n"
     ]
    }
   ],
   "source": [
    "tmp1 = 0;\n",
    "@time for j = 1:size(a)[2]\n",
    "    for i = size(a)[1]\n",
    "        tmp1+=a[i,j]\n",
    "    end\n",
    "end"
   ]
  },
  {
   "cell_type": "code",
   "execution_count": 14,
   "id": "03b07aa4",
   "metadata": {},
   "outputs": [
    {
     "name": "stdout",
     "output_type": "stream",
     "text": [
      "  0.005012 seconds (88.98 k allocations: 1.663 MiB)\n"
     ]
    }
   ],
   "source": [
    "tmp2 = 0;\n",
    "@time for i = 1:size(a)[1]\n",
    "    for j = size(a)[2]\n",
    "        tmp2+=a[i,j]\n",
    "    end\n",
    "end"
   ]
  },
  {
   "cell_type": "markdown",
   "id": "00befcde",
   "metadata": {},
   "source": [
    "## Functional Programming\n",
    "\n",
    "What is it? Why bother?\n",
    "\n",
    "1. Map\n",
    "2. Filter\n",
    "3. Apply\n",
    "4. Reduce"
   ]
  },
  {
   "cell_type": "code",
   "execution_count": null,
   "id": "9c5204e7",
   "metadata": {},
   "outputs": [],
   "source": []
  }
 ],
 "metadata": {
  "kernelspec": {
   "display_name": "Julia 1.8.0",
   "language": "julia",
   "name": "julia-1.8"
  },
  "language_info": {
   "file_extension": ".jl",
   "mimetype": "application/julia",
   "name": "julia",
   "version": "1.8.0"
  }
 },
 "nbformat": 4,
 "nbformat_minor": 5
}
